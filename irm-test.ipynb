{
 "cells": [
  {
   "cell_type": "code",
   "execution_count": 128,
   "metadata": {},
   "outputs": [],
   "source": [
    "import numpy as np\n",
    "import matplotlib.pyplot as plt\n"
   ]
  },
  {
   "cell_type": "code",
   "execution_count": 129,
   "metadata": {},
   "outputs": [],
   "source": [
    "# data generation\n",
    "# payam's formulation\n",
    "\n",
    "# generation of the data:\n",
    "\n",
    "E = 2\n",
    "de = 1\n",
    "dc = 1\n",
    "d = de + dc\n",
    "\n",
    "muc = -1\n",
    "sigc = 1\n",
    "\n",
    "mue = [1,3]\n",
    "# sigenv = np.array([[1,0],[0,3]])\n",
    "sige = [1,3]\n",
    "muTe = [3]\n",
    "sigTe = [4]\n",
    "f = np.array([[1,3],[0,1]])\n",
    "phi = np.array([[1,-3],[0,1]])\n",
    "\n",
    "n = 50"
   ]
  },
  {
   "cell_type": "code",
   "execution_count": 130,
   "metadata": {},
   "outputs": [
    {
     "name": "stdout",
     "output_type": "stream",
     "text": [
      "(100, 2)\n",
      "(100, 1)\n"
     ]
    }
   ],
   "source": [
    "Z = np.zeros((0,d))\n",
    "y = np.zeros((0,1))\n",
    "\n",
    "# generating latent features\n",
    "for i in range(len(mue)):\n",
    "    ye = np.random.randint(0,2,(n,1)) * 2 -1\n",
    "    Ze = np.random.randn(n, de) * sige[i] + ye * mue[i]\n",
    "    Zc = np.random.randn(n, de) * sigc + ye * muc\n",
    "    Znew = np.concatenate((Zc,Ze),axis=1)\n",
    "    Z = np.concatenate((Z, Znew),axis=0)\n",
    "    y = np.concatenate((y,ye), axis=0)\n",
    "\n",
    "# generating data\n",
    "X = Z.dot(f)\n",
    "\n",
    "print(X.shape)\n",
    "print(y.shape)"
   ]
  },
  {
   "cell_type": "code",
   "execution_count": 131,
   "metadata": {},
   "outputs": [
    {
     "name": "stdout",
     "output_type": "stream",
     "text": [
      "(50, 2)\n",
      "(50, 1)\n"
     ]
    }
   ],
   "source": [
    "# generating test data in a new unseen environment\n",
    "Zte = np.zeros((0,d))\n",
    "yte = np.zeros((0,1))\n",
    "\n",
    "# generating latent features\n",
    "for i in range(len(muTe)):\n",
    "    ye = np.random.randint(0,2,(n,1)) * 2 -1\n",
    "    Ze = np.random.randn(n, de) * sigTe[i] + ye * muTe[i]\n",
    "    Zc = np.random.randn(n, de) * sigc + ye * muc\n",
    "    Znew = np.concatenate((Zc,Ze),axis=1)\n",
    "    Zte = np.concatenate((Zte, Znew),axis=0)\n",
    "    yte = np.concatenate((yte,ye), axis=0)\n",
    "\n",
    "Xte = Zte.dot(f)\n",
    "print(Zte.shape)\n",
    "print(yte.shape)"
   ]
  },
  {
   "cell_type": "code",
   "execution_count": 132,
   "metadata": {},
   "outputs": [
    {
     "name": "stdout",
     "output_type": "stream",
     "text": [
      "(100, 2)\n",
      "(100, 1)\n"
     ]
    },
    {
     "name": "stderr",
     "output_type": "stream",
     "text": [
      "/home/janez/.local/lib/python3.8/site-packages/sklearn/utils/validation.py:985: DataConversionWarning: A column-vector y was passed when a 1d array was expected. Please change the shape of y to (n_samples, ), for example using ravel().\n",
      "  y = column_or_1d(y, warn=True)\n"
     ]
    },
    {
     "data": {
      "text/plain": [
       "LogisticRegression()"
      ]
     },
     "execution_count": 132,
     "metadata": {},
     "output_type": "execute_result"
    }
   ],
   "source": [
    "from sklearn.linear_model import LogisticRegression\n",
    "from sklearn.metrics import zero_one_loss\n",
    "print(X.shape)\n",
    "print(y.shape)\n",
    "logreg = LogisticRegression()\n",
    "logreg.fit(X,y)"
   ]
  },
  {
   "cell_type": "code",
   "execution_count": 133,
   "metadata": {},
   "outputs": [
    {
     "data": {
      "text/plain": [
       "<matplotlib.collections.PathCollection at 0x7f7faceeb610>"
      ]
     },
     "execution_count": 133,
     "metadata": {},
     "output_type": "execute_result"
    },
    {
     "data": {
      "image/png": "[encoded data removed]",
      "text/plain": [
       "<Figure size 432x288 with 1 Axes>"
      ]
     },
     "metadata": {
      "needs_background": "light"
     },
     "output_type": "display_data"
    }
   ],
   "source": [
    "plt.scatter(X[0:50,0],X[0:50,1])\n",
    "plt.scatter(X[50:-1,0],X[50:-1,1])\n",
    "plt.scatter(Xte[:,0],Xte[:,1])"
   ]
  },
  {
   "cell_type": "code",
   "execution_count": 134,
   "metadata": {},
   "outputs": [
    {
     "data": {
      "text/plain": [
       "0.12"
      ]
     },
     "execution_count": 134,
     "metadata": {},
     "output_type": "execute_result"
    }
   ],
   "source": [
    "y_pred = logreg.predict(Xte)\n",
    "zero_one_loss(yte, y_pred)"
   ]
  },
  {
   "cell_type": "code",
   "execution_count": 135,
   "metadata": {},
   "outputs": [],
   "source": [
    "import numpy as np\n",
    "from scipy.optimize import minimize\n",
    "\n",
    "def objective(p):\n",
    "    # phi = first 4\n",
    "    # beta = next 2\n",
    "    # mu = next 1\n",
    "    return "
   ]
  }
 ],
 "metadata": {
  "interpreter": {
   "hash": "916dbcbb3f70747c44a77c7bcd40155683ae19c65e1c03b4aa3499c5328201f1"
  },
  "kernelspec": {
   "display_name": "Python 3.8.10 64-bit",
   "language": "python",
   "name": "python3"
  },
  "language_info": {
   "codemirror_mode": {
    "name": "ipython",
    "version": 3
   },
   "file_extension": ".py",
   "mimetype": "text/x-python",
   "name": "python",
   "nbconvert_exporter": "python",
   "pygments_lexer": "ipython3",
   "version": "3.8.10"
  },
  "orig_nbformat": 4
 },
 "nbformat": 4,
 "nbformat_minor": 2
}
