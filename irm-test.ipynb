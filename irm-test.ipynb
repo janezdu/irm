{
 "cells": [
  {
   "cell_type": "code",
   "execution_count": 2,
   "metadata": {},
   "outputs": [],
   "source": [
    "import numpy as np\n",
    "import random"
   ]
  },
  {
   "cell_type": "code",
   "execution_count": 49,
   "metadata": {},
   "outputs": [],
   "source": [
    "# data generation\n",
    "# payam's formulation\n",
    "\n",
    "# generation of the data:\n",
    "\n",
    "E = 2\n",
    "de = 1\n",
    "dc = 1\n",
    "d = de + dc\n",
    "\n",
    "muc = -1\n",
    "sigc = 1\n",
    "\n",
    "mue = [1,10]\n",
    "# sigenv = np.array([[1,0],[0,3]])\n",
    "sige = [1,3]\n",
    "f = np.array([[1,3],[0,1]])\n",
    "phi = np.array([[1,-3],[0,1]])\n",
    "\n",
    "n = 5"
   ]
  },
  {
   "cell_type": "code",
   "execution_count": 58,
   "metadata": {},
   "outputs": [
    {
     "name": "stdout",
     "output_type": "stream",
     "text": [
      "[[ -0.66000003   1.00149448]\n",
      " [  0.18323     -0.60234903]\n",
      " [ -2.04098667   0.95416604]\n",
      " [ -1.5798715   -1.47721413]\n",
      " [ -0.04280039   0.30990155]\n",
      " [ -1.32542125   8.04295327]\n",
      " [  0.91185729  14.25759351]\n",
      " [  1.35020103  -8.04929459]\n",
      " [  0.60321033 -11.3392637 ]\n",
      " [ -0.9171757   12.68635725]]\n",
      "[[-0.66000003 -0.97850562]\n",
      " [ 0.18323    -0.05265902]\n",
      " [-2.04098667 -5.16879396]\n",
      " [-1.5798715  -6.21682863]\n",
      " [-0.04280039  0.18150038]\n",
      " [-1.32542125  4.06668953]\n",
      " [ 0.91185729 16.99316539]\n",
      " [ 1.35020103 -3.99869151]\n",
      " [ 0.60321033 -9.5296327 ]\n",
      " [-0.9171757   9.93483017]]\n"
     ]
    }
   ],
   "source": [
    "Z = np.zeros((0,d))\n",
    "y = np.zeros((0,1))\n",
    "\n",
    "# generating latent features\n",
    "for i in range(len(mue)):\n",
    "    ye = np.random.randint(0,2,(n,1)) * 2 -1\n",
    "    Ze = np.random.randn(n, de) * sige[i] + ye * mue[i]\n",
    "    Zc = np.random.randn(n, de) * sigc + ye * muc\n",
    "    Znew = np.concatenate((Zc,Ze),axis=1)\n",
    "    Z = np.concatenate((Z, Znew),axis=0)\n",
    "    y = np.concatenate((y,ye), axis=0)\n",
    "\n",
    "# generating data\n",
    "X = Z.dot(f)"
   ]
  },
  {
   "cell_type": "code",
   "execution_count": 54,
   "metadata": {},
   "outputs": [
    {
     "data": {
      "text/plain": [
       "array([[-1.],\n",
       "       [-1.],\n",
       "       [ 1.],\n",
       "       [-1.],\n",
       "       [-1.],\n",
       "       [-1.],\n",
       "       [-1.],\n",
       "       [ 1.],\n",
       "       [-1.],\n",
       "       [ 1.]])"
      ]
     },
     "execution_count": 54,
     "metadata": {},
     "output_type": "execute_result"
    }
   ],
   "source": [
    "y"
   ]
  },
  {
   "cell_type": "code",
   "execution_count": null,
   "metadata": {},
   "outputs": [],
   "source": []
  }
 ],
 "metadata": {
  "interpreter": {
   "hash": "916dbcbb3f70747c44a77c7bcd40155683ae19c65e1c03b4aa3499c5328201f1"
  },
  "kernelspec": {
   "display_name": "Python 3.8.10 64-bit",
   "language": "python",
   "name": "python3"
  },
  "language_info": {
   "codemirror_mode": {
    "name": "ipython",
    "version": 3
   },
   "file_extension": ".py",
   "mimetype": "text/x-python",
   "name": "python",
   "nbconvert_exporter": "python",
   "pygments_lexer": "ipython3",
   "version": "3.8.10"
  },
  "orig_nbformat": 4
 },
 "nbformat": 4,
 "nbformat_minor": 2
}
