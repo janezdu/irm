{
 "cells": [
  {
   "cell_type": "code",
   "execution_count": 127,
   "metadata": {},
   "outputs": [],
   "source": [
    "import numpy as np\n",
    "import matplotlib.pyplot as plt\n"
   ]
  },
  {
   "cell_type": "code",
   "execution_count": 121,
   "metadata": {},
   "outputs": [],
   "source": [
    "# data generation\n",
    "# payam's formulation\n",
    "\n",
    "# generation of the data:\n",
    "\n",
    "E = 2\n",
    "de = 1\n",
    "dc = 1\n",
    "d = de + dc\n",
    "\n",
    "muc = -1\n",
    "sigc = 1\n",
    "\n",
    "mue = [1,3]\n",
    "# sigenv = np.array([[1,0],[0,3]])\n",
    "sige = [1,3]\n",
    "muTe = [3]\n",
    "sigTe = [4]\n",
    "f = np.array([[1,3],[0,1]])\n",
    "phi = np.array([[1,-3],[0,1]])\n",
    "\n",
    "n = 50"
   ]
  },
  {
   "cell_type": "code",
   "execution_count": 122,
   "metadata": {},
   "outputs": [
    {
     "name": "stdout",
     "output_type": "stream",
     "text": [
      "[[-0.56423017 -0.51672831]\n",
      " [ 0.52375367  0.84820621]\n",
      " [-2.18124736 -5.47466168]\n",
      " [ 1.44458524  4.74851163]\n",
      " [-1.21396251 -0.74081042]\n",
      " [-2.61004697 -6.76488356]\n",
      " [ 0.28038249  1.83562025]\n",
      " [ 1.15245     3.19997523]\n",
      " [ 0.10387922  1.527945  ]\n",
      " [ 1.99601172  5.93593614]\n",
      " [ 0.68584828  2.34810979]\n",
      " [ 1.03840438  1.66704103]\n",
      " [ 0.96072593  3.82225332]\n",
      " [-0.24048383 -1.65535179]\n",
      " [-0.07753319 -1.90663494]\n",
      " [ 1.78297406  5.27003823]\n",
      " [-0.09831268  0.81802017]\n",
      " [-1.24997468 -1.8955918 ]\n",
      " [ 0.60327826  0.25031998]\n",
      " [-2.35475977 -7.76984238]\n",
      " [ 1.47228407  3.24978863]\n",
      " [-0.05306293 -1.59315001]\n",
      " [-0.36576231 -0.55127255]\n",
      " [-0.65967418 -0.55686657]\n",
      " [-1.29228542 -3.51105695]\n",
      " [ 0.59649112  3.1815417 ]\n",
      " [-0.992984   -2.37557784]\n",
      " [ 0.45602812  1.31531954]\n",
      " [-0.39124447 -2.10234121]\n",
      " [ 1.71494763  5.17592687]\n",
      " [ 0.42352075 -0.08220245]\n",
      " [ 1.51815637  2.16469594]\n",
      " [ 2.39275124  7.27792943]\n",
      " [ 1.46738326  3.9389696 ]\n",
      " [ 1.22386152  1.2038815 ]\n",
      " [ 0.33437815  1.85873492]\n",
      " [-0.52178852 -2.54808821]\n",
      " [-0.87310917 -4.23480753]\n",
      " [ 1.47561562  1.56124783]\n",
      " [-0.01661299 -2.04591079]\n",
      " [-0.28217842 -1.15862484]\n",
      " [-1.15445062 -2.19712255]\n",
      " [ 2.46940286  5.04632397]\n",
      " [-1.15251761 -3.54232448]\n",
      " [ 1.68986477  3.33284282]\n",
      " [-1.28472006 -2.1723883 ]\n",
      " [ 0.84561104  2.01238393]\n",
      " [ 3.03207005  8.01482394]\n",
      " [ 1.75044226  5.78365238]\n",
      " [ 0.93010663  2.53400299]\n",
      " [ 0.35497961 -2.38955345]\n",
      " [-1.50541909 -7.10000878]\n",
      " [-0.10757576  2.78388531]\n",
      " [-1.28531084 -2.34146436]\n",
      " [-0.07395064 -3.08536839]\n",
      " [-1.33738018 -3.94751157]\n",
      " [ 0.84477263  1.96742195]\n",
      " [-0.91565933  0.52908468]\n",
      " [ 1.04188114  3.02786517]\n",
      " [-1.06061181  4.86454732]\n",
      " [ 0.04662807 -8.2027275 ]\n",
      " [ 0.97638777 -1.11371634]\n",
      " [ 2.6745236  10.09473232]\n",
      " [ 0.8817976  -1.80663704]\n",
      " [ 1.71731885  5.94506534]\n",
      " [-1.0699404  -7.7488159 ]\n",
      " [-1.35898556 -7.56090604]\n",
      " [-1.64354349 -0.46874014]\n",
      " [ 0.92499783  3.03804777]\n",
      " [-0.67077474  5.28961562]\n",
      " [ 0.30613242 -1.30472474]\n",
      " [ 0.26893717  0.17964283]\n",
      " [ 3.67252362  6.35055491]\n",
      " [ 1.58332227 -0.8178517 ]\n",
      " [ 1.3600703   2.59133783]\n",
      " [-1.01427176  0.40722773]\n",
      " [-0.60158946  1.4596479 ]\n",
      " [-1.9956334  -6.40769485]\n",
      " [ 2.61595855  6.05702592]\n",
      " [-0.43424159  1.59251892]\n",
      " [ 0.43895593 -4.31189126]\n",
      " [-0.53712801  7.16220458]\n",
      " [-1.53433116 -4.35509671]\n",
      " [ 0.28256251 -0.62864658]\n",
      " [-1.94628461 -2.28187202]\n",
      " [-1.24070985 -1.73707715]\n",
      " [-0.53833817  2.34608659]\n",
      " [-0.12344859  0.81705864]\n",
      " [ 1.0039192   0.10739538]\n",
      " [ 0.45219439  4.06520451]\n",
      " [ 0.60143261  2.43943056]\n",
      " [ 1.63259661  4.53239504]\n",
      " [-2.4324698  -1.86836171]\n",
      " [ 2.64347226  8.91601753]\n",
      " [-0.59392712 -0.32425526]\n",
      " [-0.74158568  1.87089708]\n",
      " [ 0.2340745   1.60142473]\n",
      " [ 0.1907055  -5.14808107]\n",
      " [ 1.71279359  3.70489092]\n",
      " [ 0.17865935  3.3075665 ]]\n",
      "[[ 1.]\n",
      " [-1.]\n",
      " [ 1.]\n",
      " [-1.]\n",
      " [ 1.]\n",
      " [ 1.]\n",
      " [ 1.]\n",
      " [-1.]\n",
      " [ 1.]\n",
      " [-1.]\n",
      " [ 1.]\n",
      " [-1.]\n",
      " [-1.]\n",
      " [-1.]\n",
      " [-1.]\n",
      " [ 1.]\n",
      " [ 1.]\n",
      " [ 1.]\n",
      " [-1.]\n",
      " [ 1.]\n",
      " [-1.]\n",
      " [-1.]\n",
      " [ 1.]\n",
      " [ 1.]\n",
      " [ 1.]\n",
      " [-1.]\n",
      " [ 1.]\n",
      " [ 1.]\n",
      " [ 1.]\n",
      " [-1.]\n",
      " [-1.]\n",
      " [-1.]\n",
      " [-1.]\n",
      " [-1.]\n",
      " [-1.]\n",
      " [-1.]\n",
      " [-1.]\n",
      " [ 1.]\n",
      " [-1.]\n",
      " [-1.]\n",
      " [-1.]\n",
      " [ 1.]\n",
      " [-1.]\n",
      " [-1.]\n",
      " [-1.]\n",
      " [ 1.]\n",
      " [-1.]\n",
      " [-1.]\n",
      " [-1.]\n",
      " [-1.]\n",
      " [-1.]\n",
      " [ 1.]\n",
      " [-1.]\n",
      " [-1.]\n",
      " [-1.]\n",
      " [ 1.]\n",
      " [-1.]\n",
      " [ 1.]\n",
      " [-1.]\n",
      " [ 1.]\n",
      " [-1.]\n",
      " [-1.]\n",
      " [-1.]\n",
      " [-1.]\n",
      " [-1.]\n",
      " [-1.]\n",
      " [-1.]\n",
      " [ 1.]\n",
      " [-1.]\n",
      " [ 1.]\n",
      " [-1.]\n",
      " [-1.]\n",
      " [-1.]\n",
      " [-1.]\n",
      " [-1.]\n",
      " [ 1.]\n",
      " [ 1.]\n",
      " [ 1.]\n",
      " [-1.]\n",
      " [ 1.]\n",
      " [-1.]\n",
      " [ 1.]\n",
      " [-1.]\n",
      " [-1.]\n",
      " [ 1.]\n",
      " [ 1.]\n",
      " [ 1.]\n",
      " [ 1.]\n",
      " [-1.]\n",
      " [ 1.]\n",
      " [ 1.]\n",
      " [-1.]\n",
      " [ 1.]\n",
      " [-1.]\n",
      " [ 1.]\n",
      " [ 1.]\n",
      " [ 1.]\n",
      " [-1.]\n",
      " [-1.]\n",
      " [ 1.]]\n"
     ]
    }
   ],
   "source": [
    "Z = np.zeros((0,d))\n",
    "y = np.zeros((0,1))\n",
    "\n",
    "# generating latent features\n",
    "for i in range(len(mue)):\n",
    "    ye = np.random.randint(0,2,(n,1)) * 2 -1\n",
    "    Ze = np.random.randn(n, de) * sige[i] + ye * mue[i]\n",
    "    Zc = np.random.randn(n, de) * sigc + ye * muc\n",
    "    Znew = np.concatenate((Zc,Ze),axis=1)\n",
    "    Z = np.concatenate((Z, Znew),axis=0)\n",
    "    y = np.concatenate((y,ye), axis=0)\n",
    "\n",
    "# generating data\n",
    "X = Z.dot(f)\n",
    "\n",
    "print(X)\n",
    "print(y)"
   ]
  },
  {
   "cell_type": "code",
   "execution_count": 123,
   "metadata": {},
   "outputs": [
    {
     "name": "stdout",
     "output_type": "stream",
     "text": [
      "(50, 2)\n",
      "(50, 1)\n"
     ]
    }
   ],
   "source": [
    "# generating test data in a new unseen environment\n",
    "Zte = np.zeros((0,d))\n",
    "yte = np.zeros((0,1))\n",
    "\n",
    "# generating latent features\n",
    "for i in range(len(muTe)):\n",
    "    ye = np.random.randint(0,2,(n,1)) * 2 -1\n",
    "    Ze = np.random.randn(n, de) * sigTe[i] + ye * muTe[i]\n",
    "    Zc = np.random.randn(n, de) * sigc + ye * muc\n",
    "    Znew = np.concatenate((Zc,Ze),axis=1)\n",
    "    Zte = np.concatenate((Zte, Znew),axis=0)\n",
    "    yte = np.concatenate((yte,ye), axis=0)\n",
    "\n",
    "Xte = Zte.dot(f)\n",
    "print(Zte.shape)\n",
    "print(yte.shape)"
   ]
  },
  {
   "cell_type": "code",
   "execution_count": 124,
   "metadata": {},
   "outputs": [
    {
     "name": "stdout",
     "output_type": "stream",
     "text": [
      "(100, 2)\n",
      "(100, 1)\n"
     ]
    },
    {
     "name": "stderr",
     "output_type": "stream",
     "text": [
      "/home/janez/.local/lib/python3.8/site-packages/sklearn/utils/validation.py:985: DataConversionWarning: A column-vector y was passed when a 1d array was expected. Please change the shape of y to (n_samples, ), for example using ravel().\n",
      "  y = column_or_1d(y, warn=True)\n"
     ]
    },
    {
     "data": {
      "text/plain": [
       "LogisticRegression()"
      ]
     },
     "execution_count": 124,
     "metadata": {},
     "output_type": "execute_result"
    }
   ],
   "source": [
    "from sklearn.linear_model import LogisticRegression\n",
    "from sklearn.metrics import zero_one_loss\n",
    "print(X.shape)\n",
    "print(y.shape)\n",
    "logreg = LogisticRegression()\n",
    "logreg.fit(X,y)"
   ]
  },
  {
   "cell_type": "code",
   "execution_count": 125,
   "metadata": {},
   "outputs": [
    {
     "data": {
      "text/plain": [
       "<matplotlib.collections.PathCollection at 0x7f7facf2af40>"
      ]
     },
     "execution_count": 125,
     "metadata": {},
     "output_type": "execute_result"
    },
    {
     "data": {
      "image/png": "[encoded data removed]",
      "text/plain": [
       "<Figure size 432x288 with 1 Axes>"
      ]
     },
     "metadata": {
      "needs_background": "light"
     },
     "output_type": "display_data"
    }
   ],
   "source": [
    "plt.scatter(X[0:50,0],X[0:50,1])\n",
    "plt.scatter(X[50:-1,0],X[50:-1,1])\n",
    "plt.scatter(Xte[:,0],Xte[:,1])"
   ]
  },
  {
   "cell_type": "code",
   "execution_count": 126,
   "metadata": {},
   "outputs": [
    {
     "data": {
      "text/plain": [
       "0.19999999999999996"
      ]
     },
     "execution_count": 126,
     "metadata": {},
     "output_type": "execute_result"
    }
   ],
   "source": [
    "y_pred = logreg.predict(Xte)\n",
    "zero_one_loss(yte, y_pred)"
   ]
  },
  {
   "cell_type": "code",
   "execution_count": null,
   "metadata": {},
   "outputs": [],
   "source": [
    "import numpy as np\n",
    "from scipy.optimize import minimize\n",
    "\n",
    "def objective(p):\n",
    "    # phi = first 4\n",
    "    # beta = next 2\n",
    "    # mu = next 1\n",
    "    return "
   ]
  }
 ],
 "metadata": {
  "interpreter": {
   "hash": "916dbcbb3f70747c44a77c7bcd40155683ae19c65e1c03b4aa3499c5328201f1"
  },
  "kernelspec": {
   "display_name": "Python 3.8.10 64-bit",
   "language": "python",
   "name": "python3"
  },
  "language_info": {
   "codemirror_mode": {
    "name": "ipython",
    "version": 3
   },
   "file_extension": ".py",
   "mimetype": "text/x-python",
   "name": "python",
   "nbconvert_exporter": "python",
   "pygments_lexer": "ipython3",
   "version": "3.8.10"
  },
  "orig_nbformat": 4
 },
 "nbformat": 4,
 "nbformat_minor": 2
}
