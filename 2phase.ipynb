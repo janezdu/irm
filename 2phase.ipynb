{
  "cells": [
    {
      "cell_type": "code",
      "execution_count": 1,
      "metadata": {
        "id": "9C-uZ1raO8yT"
      },
      "outputs": [],
      "source": [
        "from torch.utils.data import DataLoader\n",
        "import torchvision\n",
        "from torchvision import transforms\n",
        "import csv\n",
        "import tqdm.notebook as tq\n",
        "import torch\n",
        "import torch.optim as optim\n",
        "import torch.nn as nn\n",
        "from torchvision.utils import save_image\n",
        "\n",
        "import matplotlib.pyplot as plt"
      ]
    },
    {
      "cell_type": "code",
      "execution_count": 2,
      "metadata": {
        "id": "Hq1UJfJGO8yV"
      },
      "outputs": [],
      "source": [
        "H, W = 300, 500"
      ]
    },
    {
      "cell_type": "markdown",
      "source": [
        ""
      ],
      "metadata": {
        "id": "gOJxV-pGQ_ZI"
      }
    },
    {
      "cell_type": "code",
      "source": [
        "#  !ls -la \"/content/data/\""
      ],
      "metadata": {
        "id": "gwoWVZPqQ5hV"
      },
      "execution_count": 3,
      "outputs": []
    },
    {
      "cell_type": "code",
      "execution_count": 4,
      "metadata": {
        "id": "403vtaDuO8yW"
      },
      "outputs": [],
      "source": [
        "# transform = torchvision.transforms.Resize((H,W))\n",
        "transform = transforms.Compose([\n",
        "    transforms.Resize((H,W)),\n",
        "    transforms.CenterCrop(224),\n",
        "    transforms.ToTensor()\n",
        "])\n",
        "train = torchvision.datasets.ImageFolder(\"data\", transform)\n",
        "# train = torchvision.datasets.ImageFolder(\"data\", transform)"
      ]
    },
    {
      "cell_type": "code",
      "execution_count": 5,
      "metadata": {
        "id": "9cjyMKLUO8yW"
      },
      "outputs": [],
      "source": [
        "train_loader = DataLoader(\n",
        "    train,\n",
        "    batch_size=4,\n",
        "    shuffle=False,\n",
        "    num_workers=0,\n",
        "    collate_fn=None,\n",
        "    pin_memory=False,\n",
        " )"
      ]
    },
    {
      "cell_type": "code",
      "execution_count": 6,
      "metadata": {
        "id": "41UMcFBVO8yX"
      },
      "outputs": [],
      "source": [
        "# get waterbirds; returns dict birds\n",
        "# 1,001.Black_footed_Albatross/Black_Footed_Albatross_0046_18.jpg,1,2,1,/o/ocean/00002178.jpg\n",
        "# img_id,img_filename,y,split,place,place_filename\n",
        "def get_place():\n",
        "    '''\n",
        "    Gets a dictionary mapping file names to environment ID\n",
        "\n",
        "    Returns:    \n",
        "        dict with values (string) filename mapped to\n",
        "        keys (int) for environment ID*\n",
        "\n",
        "        *1 corresponds to water environment (ocean) and\n",
        "        *0 corresponds to land environment\n",
        "\n",
        "    Example entry:\n",
        "        # print(get_place())\n",
        "        # '001.Black_footed_Albatross/Black_Footed_Albatross_0046_18.jpg': 1, \n",
        "        # '001.Black_footed_Albatross/Black_Footed_Albatross_0009_34.jpg': 1,\t\n",
        "    '''\n",
        "    birds = {}\n",
        "    with open('./data/metadata.csv') as f:\n",
        "        reader = csv.DictReader(f)\n",
        "        for row in reader:\n",
        "            fname = row['img_filename'].split('/')[-1]\n",
        "            birds[fname] = int(row['place'])\n",
        "    return birds\n"
      ]
    },
    {
      "cell_type": "code",
      "execution_count": 7,
      "metadata": {
        "id": "hbiuWgOmO8yY"
      },
      "outputs": [],
      "source": [
        "birds = get_place()"
      ]
    },
    {
      "cell_type": "code",
      "execution_count": 8,
      "metadata": {
        "id": "L7NVWHSiO8yY"
      },
      "outputs": [],
      "source": [
        "class BasicConvNet(nn.Module):\n",
        "    '''\n",
        "    A basic neural network. Not particularly based on anything,\n",
        "    2 conv layers and last layer is FC.\n",
        "    '''\n",
        "\n",
        "    def __init__(self, num_classes, num_envs=2):\n",
        "        super(BasicConvNet, self).__init__()\n",
        "        self.conv2d1 = nn.Conv2d(3, 2, 3, 1, 1)\n",
        "        self.relu = nn.ReLU()\n",
        "        self.maxpool1 = nn.MaxPool2d(2, 2)\n",
        "        self.conv2d2 = nn.Conv2d(2, 4, 3, 1, 1)\n",
        "        self.maxpool2 = nn.MaxPool2d(2, 2)\n",
        "        self.flatten = nn.Flatten()\n",
        "        self.fc = nn.Linear(12544, num_classes * num_envs)\n",
        "        self._weight_init()\n",
        "\n",
        "    def _weight_init(self):\n",
        "        for layer in self.children():\n",
        "            if (layer.__class__.__name__ == 'Linear' \\\n",
        "                or layer.__class__.__name__ == 'Conv2d'):\n",
        "                nn.init.kaiming_uniform_(layer.weight.data,0.2)\n",
        "                nn.init.constant_(layer.bias.data,0)\n",
        "            \n",
        "\n",
        "    def forward(self, x):\n",
        "        x = self.conv2d1(x)\n",
        "        x = self.relu(x)\n",
        "        x = self.maxpool1(x)\n",
        "        x = self.conv2d2(x)\n",
        "        x = self.relu(x)\n",
        "        x = self.maxpool2(x)\n",
        "        x = self.relu(x)\n",
        "        x = self.flatten(x)\n",
        "        x = self.fc(x)\n",
        "        return x"
      ]
    },
    {
      "cell_type": "markdown",
      "metadata": {
        "id": "RB2DWVeXO8ya"
      },
      "source": [
        "## Phase 1\n",
        "Train featurizers and classifiers together for all environments.\n",
        "Both featurizer and classifier should be mutable (are being trained).\n",
        "\n",
        "Featurizer should be same for samples from all environments,\n",
        "classifier should be different for samples from different environments."
      ]
    },
    {
      "cell_type": "code",
      "execution_count": 9,
      "metadata": {
        "colab": {
          "base_uri": "https://localhost:8080/",
          "height": 917,
          "referenced_widgets": [
            "4549a28290664d769b4816ad605b50bf",
            "80a36209c3414d24b14b230c2eeed4e2",
            "90758317d8c4408f9a7f5f212a56d3ac",
            "298693e01b4b4e84a5baec534afea226",
            "d20b65e593fa4e86b1785896760ae6bf",
            "fb46affc61df412f917f7985dfc1d423",
            "b59947f522944678a2e8dc2221497bed",
            "d840c157a5344114af27a833167e5b4d",
            "9ee68dc101094e04a56c6b7d1b9d2f07",
            "c4b07d420a5f4a0a9bfb507bd8e2c970",
            "30864038344549d8af22540a8e8474c4"
          ]
        },
        "id": "cFH2eI2rO8yc",
        "outputId": "97861c09-243f-4ab2-e47e-f66683bf2b73"
      },
      "outputs": [
        {
          "output_type": "display_data",
          "data": {
            "text/plain": [
              "  0%|          | 0/50 [00:00<?, ?it/s]"
            ],
            "application/vnd.jupyter.widget-view+json": {
              "version_major": 2,
              "version_minor": 0,
              "model_id": "4549a28290664d769b4816ad605b50bf"
            }
          },
          "metadata": {}
        },
        {
          "output_type": "stream",
          "name": "stdout",
          "text": [
            "E: 0; Land Loss: 0.7006399631500244; Water Loss: 0.613723874092102 1\n",
            "E: 1; Land Loss: 0.7138070464134216; Water Loss: 0.6097952127456665 1\n",
            "E: 2; Land Loss: 0.7397164106369019; Water Loss: 0.6049914956092834 1\n",
            "E: 3; Land Loss: 0.7641109228134155; Water Loss: 0.6022160053253174 1\n",
            "E: 4; Land Loss: 0.7856600284576416; Water Loss: 0.600159227848053 1\n",
            "E: 5; Land Loss: 0.8044002056121826; Water Loss: 0.5986003279685974 1\n",
            "E: 6; Land Loss: 0.820556104183197; Water Loss: 0.5974159240722656 1\n",
            "E: 7; Land Loss: 0.8344010710716248; Water Loss: 0.596515953540802 1\n",
            "E: 8; Land Loss: 0.8462138772010803; Water Loss: 0.5958320498466492 1\n",
            "E: 9; Land Loss: 0.8562589883804321; Water Loss: 0.595312774181366 1\n",
            "E: 10; Land Loss: 0.8647788763046265; Water Loss: 0.5949188470840454 1\n",
            "E: 11; Land Loss: 0.8719899654388428; Water Loss: 0.5946202278137207 1\n",
            "E: 12; Land Loss: 0.8780828714370728; Water Loss: 0.5943942666053772 1\n",
            "E: 13; Land Loss: 0.8832239508628845; Water Loss: 0.5942235589027405 1\n",
            "E: 14; Land Loss: 0.8875565528869629; Water Loss: 0.5940949320793152 1\n",
            "E: 15; Land Loss: 0.8912041187286377; Water Loss: 0.5939981341362 1\n",
            "E: 16; Land Loss: 0.8942723274230957; Water Loss: 0.5939254760742188 1\n",
            "E: 17; Land Loss: 0.896851122379303; Water Loss: 0.5938711166381836 1\n",
            "E: 18; Land Loss: 0.8990170955657959; Water Loss: 0.5938305854797363 1\n",
            "E: 19; Land Loss: 0.9008351564407349; Water Loss: 0.59380042552948 1\n",
            "E: 20; Land Loss: 0.9023602604866028; Water Loss: 0.593778133392334 1\n",
            "E: 21; Land Loss: 0.9036389589309692; Water Loss: 0.5937615633010864 1\n",
            "E: 22; Land Loss: 0.9047103524208069; Water Loss: 0.5937492847442627 1\n",
            "E: 23; Land Loss: 0.9056077003479004; Water Loss: 0.5937402248382568 1\n",
            "E: 24; Land Loss: 0.9063587188720703; Water Loss: 0.5937334299087524 1\n",
            "E: 25; Land Loss: 0.906987190246582; Water Loss: 0.593728244304657 1\n",
            "E: 26; Land Loss: 0.9075126051902771; Water Loss: 0.5937241911888123 1\n",
            "E: 27; Land Loss: 0.9079517722129822; Water Loss: 0.5937208533287048 1\n",
            "E: 28; Land Loss: 0.9083185195922852; Water Loss: 0.5937179923057556 1\n",
            "E: 29; Land Loss: 0.9086247682571411; Water Loss: 0.5937154293060303 1\n",
            "E: 30; Land Loss: 0.9088801145553589; Water Loss: 0.5937128067016602 1\n",
            "E: 31; Land Loss: 0.9090930819511414; Water Loss: 0.59371018409729 1\n",
            "E: 32; Land Loss: 0.9092705845832825; Water Loss: 0.5937074422836304 1\n",
            "E: 33; Land Loss: 0.9094183444976807; Water Loss: 0.5937042832374573 1\n",
            "E: 34; Land Loss: 0.9095413684844971; Water Loss: 0.5937008261680603 1\n",
            "E: 35; Land Loss: 0.9096436500549316; Water Loss: 0.5936968922615051 1\n",
            "E: 36; Land Loss: 0.9097287654876709; Water Loss: 0.5936925411224365 1\n",
            "E: 37; Land Loss: 0.9097995758056641; Water Loss: 0.5936875343322754 1\n",
            "E: 38; Land Loss: 0.9098584651947021; Water Loss: 0.5936819314956665 1\n",
            "E: 39; Land Loss: 0.9099075794219971; Water Loss: 0.5936755537986755 1\n",
            "E: 40; Land Loss: 0.9099484086036682; Water Loss: 0.5936684608459473 1\n",
            "E: 41; Land Loss: 0.9099826216697693; Water Loss: 0.5936603546142578 1\n",
            "E: 42; Land Loss: 0.910011351108551; Water Loss: 0.5936511754989624 1\n",
            "E: 43; Land Loss: 0.9100357294082642; Water Loss: 0.593640923500061 1\n",
            "E: 44; Land Loss: 0.9100564122200012; Water Loss: 0.5936292409896851 1\n",
            "E: 45; Land Loss: 0.9100744128227234; Water Loss: 0.5936163067817688 1\n",
            "E: 46; Land Loss: 0.9100902080535889; Water Loss: 0.5936019420623779 1\n",
            "E: 47; Land Loss: 0.9101042747497559; Water Loss: 0.5935860276222229 1\n",
            "E: 48; Land Loss: 0.9101172089576721; Water Loss: 0.593567967414856 1\n",
            "E: 49; Land Loss: 0.9101296067237854; Water Loss: 0.5935475826263428 1\n"
          ]
        }
      ],
      "source": [
        "lr = 0.01\n",
        "n_epochs = 50\n",
        "birds = get_place()\n",
        "net = BasicConvNet(num_classes=2)\n",
        "optimizer = optim.Adam(net.parameters(), lr=lr)\n",
        "optimizer.zero_grad()\n",
        "criterion = nn.CrossEntropyLoss()\n",
        "\n",
        "# need 2 different loss functions. \n",
        "# such that they have gradient = 0 on half the weights\n",
        "# for the irrelevant environment\n",
        "\n",
        "for epoch in tq.tqdm(range(n_epochs)):\n",
        "    for batch_idx, data in  enumerate(train_loader):\n",
        "        inputs, labels = data\n",
        "\n",
        "        # inputs are currently sorted\n",
        "        sample_fname, _ = train_loader.dataset.samples[batch_idx]\n",
        "        fname = sample_fname.split('/')[-1]\n",
        "        # filename example: Black_Footed_Albatross_0009_34.jpg\n",
        "\n",
        "        if birds[fname] == 0:\n",
        "            # Train land-env birds\n",
        "            optimizer.zero_grad()\n",
        "            outputs = net(inputs)[:,:2] # get the first num_classes entries      \n",
        "            land_loss = criterion(outputs, labels.type(torch.LongTensor)) \n",
        "            land_loss.backward()\n",
        "            optimizer.step()\n",
        "            \n",
        "        elif birds[fname] == 1:\n",
        "            # Train water-env birds\n",
        "            optimizer.zero_grad()\n",
        "            outputs = net(inputs)[:,2:] # get the last num_class entries\n",
        "            water_loss = criterion(outputs, labels.type(torch.LongTensor)) \n",
        "            water_loss.backward()\n",
        "            optimizer.step()\n",
        "\n",
        "\n",
        "    print(f\"E: {epoch}; Land Loss: {land_loss.item()}; Water Loss: {water_loss.item()}\", birds[fname])\n"
      ]
    },
    {
      "cell_type": "code",
      "source": [
        "# Print model's state_dict\n",
        "print(\"Model's state_dict:\")\n",
        "for param_tensor in net.state_dict():\n",
        "    print(param_tensor, \"\\t\", net.state_dict()[param_tensor].size())\n",
        "\n",
        "# # Print optimizer's state_dict\n",
        "# print(\"Optimizer's state_dict:\")\n",
        "# for var_name in optimizer.state_dict():\n",
        "#     print(var_name, \"\\t\", optimizer.state_dict()[var_name])\n",
        "\n",
        "torch.save(net.state_dict(), \"phase1\")"
      ],
      "metadata": {
        "colab": {
          "base_uri": "https://localhost:8080/"
        },
        "id": "qmPJsrltSBT9",
        "outputId": "974dbb44-85ef-42a7-aed5-05f894b5cb30"
      },
      "execution_count": 10,
      "outputs": [
        {
          "output_type": "stream",
          "name": "stdout",
          "text": [
            "Model's state_dict:\n",
            "conv2d1.weight \t torch.Size([2, 3, 3, 3])\n",
            "conv2d1.bias \t torch.Size([2])\n",
            "conv2d2.weight \t torch.Size([4, 2, 3, 3])\n",
            "conv2d2.bias \t torch.Size([4])\n",
            "fc.weight \t torch.Size([4, 12544])\n",
            "fc.bias \t torch.Size([4])\n"
          ]
        }
      ]
    },
    {
      "cell_type": "markdown",
      "metadata": {
        "id": "sH8uYMt1O8ye"
      },
      "source": [
        "## Phase 2\n",
        "\n",
        "Train classifiers for environments only, freezing featurizers"
      ]
    },
    {
      "cell_type": "code",
      "source": [
        "for layer in net.children():\n",
        "    # unless it's the last linear layer, freeze everything.\n",
        "    for p in layer.parameters():\n",
        "        p.requires_grad = False\n",
        "    if layer.__class__.__name__ == 'Linear':\n",
        "        # if it's one of the first environment weights, let it train\n",
        "        for i,p in enumerate(layer.parameters()):\n",
        "            if i < 2: p.requires_grad=True\n",
        "\n",
        "for layer in net.children():\n",
        "    print(layer.__class__.__name__)\n",
        "    for p in layer.parameters():\n",
        "        print(\"is frozen: \", str(not p.requires_grad))"
      ],
      "metadata": {
        "colab": {
          "base_uri": "https://localhost:8080/"
        },
        "id": "B-2oNWylSwa_",
        "outputId": "55198b26-5383-4048-e050-2d29370c1e36"
      },
      "execution_count": 11,
      "outputs": [
        {
          "output_type": "stream",
          "name": "stdout",
          "text": [
            "Conv2d\n",
            "is frozen:  True\n",
            "is frozen:  True\n",
            "ReLU\n",
            "MaxPool2d\n",
            "Conv2d\n",
            "is frozen:  True\n",
            "is frozen:  True\n",
            "MaxPool2d\n",
            "Flatten\n",
            "Linear\n",
            "is frozen:  False\n",
            "is frozen:  False\n"
          ]
        }
      ]
    },
    {
      "cell_type": "code",
      "execution_count": 12,
      "metadata": {
        "colab": {
          "base_uri": "https://localhost:8080/",
          "height": 917,
          "referenced_widgets": [
            "71d9815e6b1840e2a5608078295dd205",
            "975e44fbd6c04c6cbd068856e06b98db",
            "8419d1faa7bf481482536d208ee86d22",
            "4491291fce6041f294d80f89b2a0af25",
            "0b9a436a920345788029cf39cf935429",
            "07fe3118922d48f5bc5a05777d8d2626",
            "1cb32b73324a48269eb3c8153f6daf0a",
            "554f8582c744419cbb593f48513ef4a7",
            "3294a7868e7948ceab9a13ac7033983d",
            "5e2ab4b48e324d72a25d13fb4b839abf",
            "4bd8871138c34eea9123a8d5fb7e7884"
          ]
        },
        "id": "zOprbv1gO8yf",
        "outputId": "bc285e42-fe81-44ba-e71c-c92edf23cdc9"
      },
      "outputs": [
        {
          "output_type": "display_data",
          "data": {
            "text/plain": [
              "  0%|          | 0/50 [00:00<?, ?it/s]"
            ],
            "application/vnd.jupyter.widget-view+json": {
              "version_major": 2,
              "version_minor": 0,
              "model_id": "71d9815e6b1840e2a5608078295dd205"
            }
          },
          "metadata": {}
        },
        {
          "output_type": "stream",
          "name": "stdout",
          "text": [
            "E: 0; Land Loss: 0.9101296067237854; Water Loss: 0.5935475826263428\n",
            "E: 1; Land Loss: 0.9101296067237854; Water Loss: 0.5935475826263428\n",
            "E: 2; Land Loss: 0.9101296067237854; Water Loss: 0.5935475826263428\n",
            "E: 3; Land Loss: 0.9101296067237854; Water Loss: 0.5935475826263428\n",
            "E: 4; Land Loss: 0.9101296067237854; Water Loss: 0.5935475826263428\n",
            "E: 5; Land Loss: 0.9101296067237854; Water Loss: 0.5935475826263428\n",
            "E: 6; Land Loss: 0.9101296067237854; Water Loss: 0.5935475826263428\n",
            "E: 7; Land Loss: 0.9101296067237854; Water Loss: 0.5935475826263428\n",
            "E: 8; Land Loss: 0.9101296067237854; Water Loss: 0.5935475826263428\n",
            "E: 9; Land Loss: 0.9101296067237854; Water Loss: 0.5935475826263428\n",
            "E: 10; Land Loss: 0.9101296067237854; Water Loss: 0.5935475826263428\n",
            "E: 11; Land Loss: 0.9101296067237854; Water Loss: 0.5935475826263428\n",
            "E: 12; Land Loss: 0.9101296067237854; Water Loss: 0.5935475826263428\n",
            "E: 13; Land Loss: 0.9101296067237854; Water Loss: 0.5935475826263428\n",
            "E: 14; Land Loss: 0.9101296067237854; Water Loss: 0.5935475826263428\n",
            "E: 15; Land Loss: 0.9101296067237854; Water Loss: 0.5935475826263428\n",
            "E: 16; Land Loss: 0.9101296067237854; Water Loss: 0.5935475826263428\n",
            "E: 17; Land Loss: 0.9101296067237854; Water Loss: 0.5935475826263428\n",
            "E: 18; Land Loss: 0.9101296067237854; Water Loss: 0.5935475826263428\n",
            "E: 19; Land Loss: 0.9101296067237854; Water Loss: 0.5935475826263428\n",
            "E: 20; Land Loss: 0.9101296067237854; Water Loss: 0.5935475826263428\n",
            "E: 21; Land Loss: 0.9101296067237854; Water Loss: 0.5935475826263428\n",
            "E: 22; Land Loss: 0.9101296067237854; Water Loss: 0.5935475826263428\n",
            "E: 23; Land Loss: 0.9101296067237854; Water Loss: 0.5935475826263428\n",
            "E: 24; Land Loss: 0.9101296067237854; Water Loss: 0.5935475826263428\n",
            "E: 25; Land Loss: 0.9101296067237854; Water Loss: 0.5935475826263428\n",
            "E: 26; Land Loss: 0.9101296067237854; Water Loss: 0.5935475826263428\n",
            "E: 27; Land Loss: 0.9101296067237854; Water Loss: 0.5935475826263428\n",
            "E: 28; Land Loss: 0.9101296067237854; Water Loss: 0.5935475826263428\n",
            "E: 29; Land Loss: 0.9101296067237854; Water Loss: 0.5935475826263428\n",
            "E: 30; Land Loss: 0.9101296067237854; Water Loss: 0.5935475826263428\n",
            "E: 31; Land Loss: 0.9101296067237854; Water Loss: 0.5935475826263428\n",
            "E: 32; Land Loss: 0.9101296067237854; Water Loss: 0.5935475826263428\n",
            "E: 33; Land Loss: 0.9101296067237854; Water Loss: 0.5935475826263428\n",
            "E: 34; Land Loss: 0.9101296067237854; Water Loss: 0.5935475826263428\n",
            "E: 35; Land Loss: 0.9101296067237854; Water Loss: 0.5935475826263428\n",
            "E: 36; Land Loss: 0.9101296067237854; Water Loss: 0.5935475826263428\n",
            "E: 37; Land Loss: 0.9101296067237854; Water Loss: 0.5935475826263428\n",
            "E: 38; Land Loss: 0.9101296067237854; Water Loss: 0.5935475826263428\n",
            "E: 39; Land Loss: 0.9101296067237854; Water Loss: 0.5935475826263428\n",
            "E: 40; Land Loss: 0.9101296067237854; Water Loss: 0.5935475826263428\n",
            "E: 41; Land Loss: 0.9101296067237854; Water Loss: 0.5935475826263428\n",
            "E: 42; Land Loss: 0.9101296067237854; Water Loss: 0.5935475826263428\n",
            "E: 43; Land Loss: 0.9101296067237854; Water Loss: 0.5935475826263428\n",
            "E: 44; Land Loss: 0.9101296067237854; Water Loss: 0.5935475826263428\n",
            "E: 45; Land Loss: 0.9101296067237854; Water Loss: 0.5935475826263428\n",
            "E: 46; Land Loss: 0.9101296067237854; Water Loss: 0.5935475826263428\n",
            "E: 47; Land Loss: 0.9101296067237854; Water Loss: 0.5935475826263428\n",
            "E: 48; Land Loss: 0.9101296067237854; Water Loss: 0.5935475826263428\n",
            "E: 49; Land Loss: 0.9101296067237854; Water Loss: 0.5935475826263428\n"
          ]
        }
      ],
      "source": [
        "l_optim_frozen = optim.SGD(\n",
        "    filter(lambda p: p.requires_grad, net.parameters()), lr=lr)\n",
        "\n",
        "for epoch in tq.tqdm(range(n_epochs)):\n",
        "    for batch_idx, data in enumerate(train_loader):\n",
        "        inputs, labels = data\n",
        "        l_optim_frozen.zero_grad()\n",
        "        outputs = net(inputs)[:,:2] \n",
        "        # we're only working with the first weights now \n",
        "        loss = criterion(outputs, labels.type(torch.LongTensor)) \n",
        "        loss.backward()\n",
        "        l_optim_frozen.step()\n",
        "\n",
        "\n",
        "    print(f\"E: {epoch}; Land Loss: {land_loss.item()}; Water Loss: {water_loss.item()}\")"
      ]
    },
    {
      "cell_type": "code",
      "execution_count": 12,
      "metadata": {
        "id": "-Pfu3hetO8yg"
      },
      "outputs": [],
      "source": [
        ""
      ]
    }
  ],
  "metadata": {
    "interpreter": {
      "hash": "916dbcbb3f70747c44a77c7bcd40155683ae19c65e1c03b4aa3499c5328201f1"
    },
    "kernelspec": {
      "display_name": "Python 3.8.10 64-bit",
      "language": "python",
      "name": "python3"
    },
    "language_info": {
      "codemirror_mode": {
        "name": "ipython",
        "version": 3
      },
      "file_extension": ".py",
      "mimetype": "text/x-python",
      "name": "python",
      "nbconvert_exporter": "python",
      "pygments_lexer": "ipython3",
      "version": "3.8.10"
    },
    "orig_nbformat": 4,
    "colab": {
      "name": "2phase.ipynb",
      "provenance": [],
      "collapsed_sections": []
    },
    "accelerator": "GPU",
    "widgets": {
      "application/vnd.jupyter.widget-state+json": {
        "4549a28290664d769b4816ad605b50bf": {
          "model_module": "@jupyter-widgets/controls",
          "model_name": "HBoxModel",
          "model_module_version": "1.5.0",
          "state": {
            "_dom_classes": [],
            "_model_module": "@jupyter-widgets/controls",
            "_model_module_version": "1.5.0",
            "_model_name": "HBoxModel",
            "_view_count": null,
            "_view_module": "@jupyter-widgets/controls",
            "_view_module_version": "1.5.0",
            "_view_name": "HBoxView",
            "box_style": "",
            "children": [
              "IPY_MODEL_80a36209c3414d24b14b230c2eeed4e2",
              "IPY_MODEL_90758317d8c4408f9a7f5f212a56d3ac",
              "IPY_MODEL_298693e01b4b4e84a5baec534afea226"
            ],
            "layout": "IPY_MODEL_d20b65e593fa4e86b1785896760ae6bf"
          }
        },
        "80a36209c3414d24b14b230c2eeed4e2": {
          "model_module": "@jupyter-widgets/controls",
          "model_name": "HTMLModel",
          "model_module_version": "1.5.0",
          "state": {
            "_dom_classes": [],
            "_model_module": "@jupyter-widgets/controls",
            "_model_module_version": "1.5.0",
            "_model_name": "HTMLModel",
            "_view_count": null,
            "_view_module": "@jupyter-widgets/controls",
            "_view_module_version": "1.5.0",
            "_view_name": "HTMLView",
            "description": "",
            "description_tooltip": null,
            "layout": "IPY_MODEL_fb46affc61df412f917f7985dfc1d423",
            "placeholder": "​",
            "style": "IPY_MODEL_b59947f522944678a2e8dc2221497bed",
            "value": "100%"
          }
        },
        "90758317d8c4408f9a7f5f212a56d3ac": {
          "model_module": "@jupyter-widgets/controls",
          "model_name": "FloatProgressModel",
          "model_module_version": "1.5.0",
          "state": {
            "_dom_classes": [],
            "_model_module": "@jupyter-widgets/controls",
            "_model_module_version": "1.5.0",
            "_model_name": "FloatProgressModel",
            "_view_count": null,
            "_view_module": "@jupyter-widgets/controls",
            "_view_module_version": "1.5.0",
            "_view_name": "ProgressView",
            "bar_style": "success",
            "description": "",
            "description_tooltip": null,
            "layout": "IPY_MODEL_d840c157a5344114af27a833167e5b4d",
            "max": 50,
            "min": 0,
            "orientation": "horizontal",
            "style": "IPY_MODEL_9ee68dc101094e04a56c6b7d1b9d2f07",
            "value": 50
          }
        },
        "298693e01b4b4e84a5baec534afea226": {
          "model_module": "@jupyter-widgets/controls",
          "model_name": "HTMLModel",
          "model_module_version": "1.5.0",
          "state": {
            "_dom_classes": [],
            "_model_module": "@jupyter-widgets/controls",
            "_model_module_version": "1.5.0",
            "_model_name": "HTMLModel",
            "_view_count": null,
            "_view_module": "@jupyter-widgets/controls",
            "_view_module_version": "1.5.0",
            "_view_name": "HTMLView",
            "description": "",
            "description_tooltip": null,
            "layout": "IPY_MODEL_c4b07d420a5f4a0a9bfb507bd8e2c970",
            "placeholder": "​",
            "style": "IPY_MODEL_30864038344549d8af22540a8e8474c4",
            "value": " 50/50 [01:01&lt;00:00,  1.21s/it]"
          }
        },
        "d20b65e593fa4e86b1785896760ae6bf": {
          "model_module": "@jupyter-widgets/base",
          "model_name": "LayoutModel",
          "model_module_version": "1.2.0",
          "state": {
            "_model_module": "@jupyter-widgets/base",
            "_model_module_version": "1.2.0",
            "_model_name": "LayoutModel",
            "_view_count": null,
            "_view_module": "@jupyter-widgets/base",
            "_view_module_version": "1.2.0",
            "_view_name": "LayoutView",
            "align_content": null,
            "align_items": null,
            "align_self": null,
            "border": null,
            "bottom": null,
            "display": null,
            "flex": null,
            "flex_flow": null,
            "grid_area": null,
            "grid_auto_columns": null,
            "grid_auto_flow": null,
            "grid_auto_rows": null,
            "grid_column": null,
            "grid_gap": null,
            "grid_row": null,
            "grid_template_areas": null,
            "grid_template_columns": null,
            "grid_template_rows": null,
            "height": null,
            "justify_content": null,
            "justify_items": null,
            "left": null,
            "margin": null,
            "max_height": null,
            "max_width": null,
            "min_height": null,
            "min_width": null,
            "object_fit": null,
            "object_position": null,
            "order": null,
            "overflow": null,
            "overflow_x": null,
            "overflow_y": null,
            "padding": null,
            "right": null,
            "top": null,
            "visibility": null,
            "width": null
          }
        },
        "fb46affc61df412f917f7985dfc1d423": {
          "model_module": "@jupyter-widgets/base",
          "model_name": "LayoutModel",
          "model_module_version": "1.2.0",
          "state": {
            "_model_module": "@jupyter-widgets/base",
            "_model_module_version": "1.2.0",
            "_model_name": "LayoutModel",
            "_view_count": null,
            "_view_module": "@jupyter-widgets/base",
            "_view_module_version": "1.2.0",
            "_view_name": "LayoutView",
            "align_content": null,
            "align_items": null,
            "align_self": null,
            "border": null,
            "bottom": null,
            "display": null,
            "flex": null,
            "flex_flow": null,
            "grid_area": null,
            "grid_auto_columns": null,
            "grid_auto_flow": null,
            "grid_auto_rows": null,
            "grid_column": null,
            "grid_gap": null,
            "grid_row": null,
            "grid_template_areas": null,
            "grid_template_columns": null,
            "grid_template_rows": null,
            "height": null,
            "justify_content": null,
            "justify_items": null,
            "left": null,
            "margin": null,
            "max_height": null,
            "max_width": null,
            "min_height": null,
            "min_width": null,
            "object_fit": null,
            "object_position": null,
            "order": null,
            "overflow": null,
            "overflow_x": null,
            "overflow_y": null,
            "padding": null,
            "right": null,
            "top": null,
            "visibility": null,
            "width": null
          }
        },
        "b59947f522944678a2e8dc2221497bed": {
          "model_module": "@jupyter-widgets/controls",
          "model_name": "DescriptionStyleModel",
          "model_module_version": "1.5.0",
          "state": {
            "_model_module": "@jupyter-widgets/controls",
            "_model_module_version": "1.5.0",
            "_model_name": "DescriptionStyleModel",
            "_view_count": null,
            "_view_module": "@jupyter-widgets/base",
            "_view_module_version": "1.2.0",
            "_view_name": "StyleView",
            "description_width": ""
          }
        },
        "d840c157a5344114af27a833167e5b4d": {
          "model_module": "@jupyter-widgets/base",
          "model_name": "LayoutModel",
          "model_module_version": "1.2.0",
          "state": {
            "_model_module": "@jupyter-widgets/base",
            "_model_module_version": "1.2.0",
            "_model_name": "LayoutModel",
            "_view_count": null,
            "_view_module": "@jupyter-widgets/base",
            "_view_module_version": "1.2.0",
            "_view_name": "LayoutView",
            "align_content": null,
            "align_items": null,
            "align_self": null,
            "border": null,
            "bottom": null,
            "display": null,
            "flex": null,
            "flex_flow": null,
            "grid_area": null,
            "grid_auto_columns": null,
            "grid_auto_flow": null,
            "grid_auto_rows": null,
            "grid_column": null,
            "grid_gap": null,
            "grid_row": null,
            "grid_template_areas": null,
            "grid_template_columns": null,
            "grid_template_rows": null,
            "height": null,
            "justify_content": null,
            "justify_items": null,
            "left": null,
            "margin": null,
            "max_height": null,
            "max_width": null,
            "min_height": null,
            "min_width": null,
            "object_fit": null,
            "object_position": null,
            "order": null,
            "overflow": null,
            "overflow_x": null,
            "overflow_y": null,
            "padding": null,
            "right": null,
            "top": null,
            "visibility": null,
            "width": null
          }
        },
        "9ee68dc101094e04a56c6b7d1b9d2f07": {
          "model_module": "@jupyter-widgets/controls",
          "model_name": "ProgressStyleModel",
          "model_module_version": "1.5.0",
          "state": {
            "_model_module": "@jupyter-widgets/controls",
            "_model_module_version": "1.5.0",
            "_model_name": "ProgressStyleModel",
            "_view_count": null,
            "_view_module": "@jupyter-widgets/base",
            "_view_module_version": "1.2.0",
            "_view_name": "StyleView",
            "bar_color": null,
            "description_width": ""
          }
        },
        "c4b07d420a5f4a0a9bfb507bd8e2c970": {
          "model_module": "@jupyter-widgets/base",
          "model_name": "LayoutModel",
          "model_module_version": "1.2.0",
          "state": {
            "_model_module": "@jupyter-widgets/base",
            "_model_module_version": "1.2.0",
            "_model_name": "LayoutModel",
            "_view_count": null,
            "_view_module": "@jupyter-widgets/base",
            "_view_module_version": "1.2.0",
            "_view_name": "LayoutView",
            "align_content": null,
            "align_items": null,
            "align_self": null,
            "border": null,
            "bottom": null,
            "display": null,
            "flex": null,
            "flex_flow": null,
            "grid_area": null,
            "grid_auto_columns": null,
            "grid_auto_flow": null,
            "grid_auto_rows": null,
            "grid_column": null,
            "grid_gap": null,
            "grid_row": null,
            "grid_template_areas": null,
            "grid_template_columns": null,
            "grid_template_rows": null,
            "height": null,
            "justify_content": null,
            "justify_items": null,
            "left": null,
            "margin": null,
            "max_height": null,
            "max_width": null,
            "min_height": null,
            "min_width": null,
            "object_fit": null,
            "object_position": null,
            "order": null,
            "overflow": null,
            "overflow_x": null,
            "overflow_y": null,
            "padding": null,
            "right": null,
            "top": null,
            "visibility": null,
            "width": null
          }
        },
        "30864038344549d8af22540a8e8474c4": {
          "model_module": "@jupyter-widgets/controls",
          "model_name": "DescriptionStyleModel",
          "model_module_version": "1.5.0",
          "state": {
            "_model_module": "@jupyter-widgets/controls",
            "_model_module_version": "1.5.0",
            "_model_name": "DescriptionStyleModel",
            "_view_count": null,
            "_view_module": "@jupyter-widgets/base",
            "_view_module_version": "1.2.0",
            "_view_name": "StyleView",
            "description_width": ""
          }
        },
        "71d9815e6b1840e2a5608078295dd205": {
          "model_module": "@jupyter-widgets/controls",
          "model_name": "HBoxModel",
          "model_module_version": "1.5.0",
          "state": {
            "_dom_classes": [],
            "_model_module": "@jupyter-widgets/controls",
            "_model_module_version": "1.5.0",
            "_model_name": "HBoxModel",
            "_view_count": null,
            "_view_module": "@jupyter-widgets/controls",
            "_view_module_version": "1.5.0",
            "_view_name": "HBoxView",
            "box_style": "",
            "children": [
              "IPY_MODEL_975e44fbd6c04c6cbd068856e06b98db",
              "IPY_MODEL_8419d1faa7bf481482536d208ee86d22",
              "IPY_MODEL_4491291fce6041f294d80f89b2a0af25"
            ],
            "layout": "IPY_MODEL_0b9a436a920345788029cf39cf935429"
          }
        },
        "975e44fbd6c04c6cbd068856e06b98db": {
          "model_module": "@jupyter-widgets/controls",
          "model_name": "HTMLModel",
          "model_module_version": "1.5.0",
          "state": {
            "_dom_classes": [],
            "_model_module": "@jupyter-widgets/controls",
            "_model_module_version": "1.5.0",
            "_model_name": "HTMLModel",
            "_view_count": null,
            "_view_module": "@jupyter-widgets/controls",
            "_view_module_version": "1.5.0",
            "_view_name": "HTMLView",
            "description": "",
            "description_tooltip": null,
            "layout": "IPY_MODEL_07fe3118922d48f5bc5a05777d8d2626",
            "placeholder": "​",
            "style": "IPY_MODEL_1cb32b73324a48269eb3c8153f6daf0a",
            "value": "100%"
          }
        },
        "8419d1faa7bf481482536d208ee86d22": {
          "model_module": "@jupyter-widgets/controls",
          "model_name": "FloatProgressModel",
          "model_module_version": "1.5.0",
          "state": {
            "_dom_classes": [],
            "_model_module": "@jupyter-widgets/controls",
            "_model_module_version": "1.5.0",
            "_model_name": "FloatProgressModel",
            "_view_count": null,
            "_view_module": "@jupyter-widgets/controls",
            "_view_module_version": "1.5.0",
            "_view_name": "ProgressView",
            "bar_style": "success",
            "description": "",
            "description_tooltip": null,
            "layout": "IPY_MODEL_554f8582c744419cbb593f48513ef4a7",
            "max": 50,
            "min": 0,
            "orientation": "horizontal",
            "style": "IPY_MODEL_3294a7868e7948ceab9a13ac7033983d",
            "value": 50
          }
        },
        "4491291fce6041f294d80f89b2a0af25": {
          "model_module": "@jupyter-widgets/controls",
          "model_name": "HTMLModel",
          "model_module_version": "1.5.0",
          "state": {
            "_dom_classes": [],
            "_model_module": "@jupyter-widgets/controls",
            "_model_module_version": "1.5.0",
            "_model_name": "HTMLModel",
            "_view_count": null,
            "_view_module": "@jupyter-widgets/controls",
            "_view_module_version": "1.5.0",
            "_view_name": "HTMLView",
            "description": "",
            "description_tooltip": null,
            "layout": "IPY_MODEL_5e2ab4b48e324d72a25d13fb4b839abf",
            "placeholder": "​",
            "style": "IPY_MODEL_4bd8871138c34eea9123a8d5fb7e7884",
            "value": " 50/50 [00:44&lt;00:00,  1.11it/s]"
          }
        },
        "0b9a436a920345788029cf39cf935429": {
          "model_module": "@jupyter-widgets/base",
          "model_name": "LayoutModel",
          "model_module_version": "1.2.0",
          "state": {
            "_model_module": "@jupyter-widgets/base",
            "_model_module_version": "1.2.0",
            "_model_name": "LayoutModel",
            "_view_count": null,
            "_view_module": "@jupyter-widgets/base",
            "_view_module_version": "1.2.0",
            "_view_name": "LayoutView",
            "align_content": null,
            "align_items": null,
            "align_self": null,
            "border": null,
            "bottom": null,
            "display": null,
            "flex": null,
            "flex_flow": null,
            "grid_area": null,
            "grid_auto_columns": null,
            "grid_auto_flow": null,
            "grid_auto_rows": null,
            "grid_column": null,
            "grid_gap": null,
            "grid_row": null,
            "grid_template_areas": null,
            "grid_template_columns": null,
            "grid_template_rows": null,
            "height": null,
            "justify_content": null,
            "justify_items": null,
            "left": null,
            "margin": null,
            "max_height": null,
            "max_width": null,
            "min_height": null,
            "min_width": null,
            "object_fit": null,
            "object_position": null,
            "order": null,
            "overflow": null,
            "overflow_x": null,
            "overflow_y": null,
            "padding": null,
            "right": null,
            "top": null,
            "visibility": null,
            "width": null
          }
        },
        "07fe3118922d48f5bc5a05777d8d2626": {
          "model_module": "@jupyter-widgets/base",
          "model_name": "LayoutModel",
          "model_module_version": "1.2.0",
          "state": {
            "_model_module": "@jupyter-widgets/base",
            "_model_module_version": "1.2.0",
            "_model_name": "LayoutModel",
            "_view_count": null,
            "_view_module": "@jupyter-widgets/base",
            "_view_module_version": "1.2.0",
            "_view_name": "LayoutView",
            "align_content": null,
            "align_items": null,
            "align_self": null,
            "border": null,
            "bottom": null,
            "display": null,
            "flex": null,
            "flex_flow": null,
            "grid_area": null,
            "grid_auto_columns": null,
            "grid_auto_flow": null,
            "grid_auto_rows": null,
            "grid_column": null,
            "grid_gap": null,
            "grid_row": null,
            "grid_template_areas": null,
            "grid_template_columns": null,
            "grid_template_rows": null,
            "height": null,
            "justify_content": null,
            "justify_items": null,
            "left": null,
            "margin": null,
            "max_height": null,
            "max_width": null,
            "min_height": null,
            "min_width": null,
            "object_fit": null,
            "object_position": null,
            "order": null,
            "overflow": null,
            "overflow_x": null,
            "overflow_y": null,
            "padding": null,
            "right": null,
            "top": null,
            "visibility": null,
            "width": null
          }
        },
        "1cb32b73324a48269eb3c8153f6daf0a": {
          "model_module": "@jupyter-widgets/controls",
          "model_name": "DescriptionStyleModel",
          "model_module_version": "1.5.0",
          "state": {
            "_model_module": "@jupyter-widgets/controls",
            "_model_module_version": "1.5.0",
            "_model_name": "DescriptionStyleModel",
            "_view_count": null,
            "_view_module": "@jupyter-widgets/base",
            "_view_module_version": "1.2.0",
            "_view_name": "StyleView",
            "description_width": ""
          }
        },
        "554f8582c744419cbb593f48513ef4a7": {
          "model_module": "@jupyter-widgets/base",
          "model_name": "LayoutModel",
          "model_module_version": "1.2.0",
          "state": {
            "_model_module": "@jupyter-widgets/base",
            "_model_module_version": "1.2.0",
            "_model_name": "LayoutModel",
            "_view_count": null,
            "_view_module": "@jupyter-widgets/base",
            "_view_module_version": "1.2.0",
            "_view_name": "LayoutView",
            "align_content": null,
            "align_items": null,
            "align_self": null,
            "border": null,
            "bottom": null,
            "display": null,
            "flex": null,
            "flex_flow": null,
            "grid_area": null,
            "grid_auto_columns": null,
            "grid_auto_flow": null,
            "grid_auto_rows": null,
            "grid_column": null,
            "grid_gap": null,
            "grid_row": null,
            "grid_template_areas": null,
            "grid_template_columns": null,
            "grid_template_rows": null,
            "height": null,
            "justify_content": null,
            "justify_items": null,
            "left": null,
            "margin": null,
            "max_height": null,
            "max_width": null,
            "min_height": null,
            "min_width": null,
            "object_fit": null,
            "object_position": null,
            "order": null,
            "overflow": null,
            "overflow_x": null,
            "overflow_y": null,
            "padding": null,
            "right": null,
            "top": null,
            "visibility": null,
            "width": null
          }
        },
        "3294a7868e7948ceab9a13ac7033983d": {
          "model_module": "@jupyter-widgets/controls",
          "model_name": "ProgressStyleModel",
          "model_module_version": "1.5.0",
          "state": {
            "_model_module": "@jupyter-widgets/controls",
            "_model_module_version": "1.5.0",
            "_model_name": "ProgressStyleModel",
            "_view_count": null,
            "_view_module": "@jupyter-widgets/base",
            "_view_module_version": "1.2.0",
            "_view_name": "StyleView",
            "bar_color": null,
            "description_width": ""
          }
        },
        "5e2ab4b48e324d72a25d13fb4b839abf": {
          "model_module": "@jupyter-widgets/base",
          "model_name": "LayoutModel",
          "model_module_version": "1.2.0",
          "state": {
            "_model_module": "@jupyter-widgets/base",
            "_model_module_version": "1.2.0",
            "_model_name": "LayoutModel",
            "_view_count": null,
            "_view_module": "@jupyter-widgets/base",
            "_view_module_version": "1.2.0",
            "_view_name": "LayoutView",
            "align_content": null,
            "align_items": null,
            "align_self": null,
            "border": null,
            "bottom": null,
            "display": null,
            "flex": null,
            "flex_flow": null,
            "grid_area": null,
            "grid_auto_columns": null,
            "grid_auto_flow": null,
            "grid_auto_rows": null,
            "grid_column": null,
            "grid_gap": null,
            "grid_row": null,
            "grid_template_areas": null,
            "grid_template_columns": null,
            "grid_template_rows": null,
            "height": null,
            "justify_content": null,
            "justify_items": null,
            "left": null,
            "margin": null,
            "max_height": null,
            "max_width": null,
            "min_height": null,
            "min_width": null,
            "object_fit": null,
            "object_position": null,
            "order": null,
            "overflow": null,
            "overflow_x": null,
            "overflow_y": null,
            "padding": null,
            "right": null,
            "top": null,
            "visibility": null,
            "width": null
          }
        },
        "4bd8871138c34eea9123a8d5fb7e7884": {
          "model_module": "@jupyter-widgets/controls",
          "model_name": "DescriptionStyleModel",
          "model_module_version": "1.5.0",
          "state": {
            "_model_module": "@jupyter-widgets/controls",
            "_model_module_version": "1.5.0",
            "_model_name": "DescriptionStyleModel",
            "_view_count": null,
            "_view_module": "@jupyter-widgets/base",
            "_view_module_version": "1.2.0",
            "_view_name": "StyleView",
            "description_width": ""
          }
        }
      }
    }
  },
  "nbformat": 4,
  "nbformat_minor": 0
}