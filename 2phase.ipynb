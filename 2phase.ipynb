{
  "cells": [
    {
      "cell_type": "code",
      "execution_count": 32,
      "metadata": {
        "id": "9C-uZ1raO8yT",
        "colab": {
          "base_uri": "https://localhost:8080/"
        },
        "outputId": "dd60750d-5aef-4e68-bfcf-452df6ff7e17"
      },
      "outputs": [
        {
          "output_type": "stream",
          "name": "stdout",
          "text": [
            "cuda:0\n"
          ]
        }
      ],
      "source": [
        "import tqdm.notebook as tq\n",
        "import csv\n",
        "import os\n",
        "\n",
        "from torch.utils.data import DataLoader\n",
        "import torchvision\n",
        "from torchvision import transforms\n",
        "from torchvision.utils import save_image\n",
        "import torch\n",
        "import torch.optim as optim\n",
        "import torch.nn as nn\n",
        "\n",
        "import matplotlib.pyplot as plt"
      ]
    },
    {
      "cell_type": "code",
      "source": [
        "path_clone = \"/content/\"\n",
        "if not os.path.isdir(path_clone + \"irm\"):\n",
        "  %cd $path_clone\n",
        "  !git clone https://github.com/janezdu/irm.git\n",
        "else:\n",
        "  %cd \"irm\"\n",
        "  !git pull\n",
        "  print(\"Dataset already cloned\")\n",
        "\n",
        "data_path = \"irm/data\"\n",
        "\n",
        "print(\"Device name:\",torch.cuda.get_device_name(0))\n",
        "#  !ls -la \"/content/data/\""
      ],
      "metadata": {
        "colab": {
          "base_uri": "https://localhost:8080/"
        },
        "id": "gTeieOWZsybh",
        "outputId": "d813fda3-b0de-4b1c-cbfe-7dbab26a7b6c"
      },
      "execution_count": 40,
      "outputs": [
        {
          "output_type": "stream",
          "name": "stdout",
          "text": [
            "[Errno 2] No such file or directory: 'irm'\n",
            "/content/irm\n",
            "remote: Enumerating objects: 20, done.\u001b[K\n",
            "remote: Counting objects: 100% (3/3), done.\u001b[K\n",
            "remote: Compressing objects: 100% (3/3), done.\u001b[K\n",
            "remote: Total 20 (delta 0), reused 0 (delta 0), pack-reused 17\u001b[K\n",
            "Unpacking objects: 100% (20/20), done.\n",
            "From https://github.com/janezdu/irm\n",
            "   52c23a3..236fa8e  main       -> origin/main\n",
            "Updating 52c23a3..236fa8e\n",
            "Fast-forward\n",
            " 2phase.md                       |   7 \u001b[32m+++++++\u001b[m\n",
            " images/fixedlinear-1.png        | Bin \u001b[31m0\u001b[m -> \u001b[32m12498\u001b[m bytes\n",
            " images/losses-may10-meeting.png | Bin \u001b[31m0\u001b[m -> \u001b[32m10788\u001b[m bytes\n",
            " 3 files changed, 7 insertions(+)\n",
            " create mode 100644 2phase.md\n",
            " create mode 100644 images/fixedlinear-1.png\n",
            " create mode 100644 images/losses-may10-meeting.png\n",
            "Dataset already cloned\n",
            "Device name: Tesla T4\n"
          ]
        }
      ]
    },
    {
      "cell_type": "code",
      "execution_count": 41,
      "metadata": {
        "id": "403vtaDuO8yW"
      },
      "outputs": [],
      "source": [
        "H, W = 300, 500\n",
        "transform = transforms.Compose([\n",
        "    transforms.Resize((H,W)),\n",
        "    transforms.CenterCrop(224),\n",
        "    transforms.ToTensor()\n",
        "])\n",
        "train = torchvision.datasets.ImageFolder(\"data/\", transform)"
      ]
    },
    {
      "cell_type": "code",
      "execution_count": 42,
      "metadata": {
        "id": "9cjyMKLUO8yW"
      },
      "outputs": [],
      "source": [
        "train_loader = DataLoader(\n",
        "    train,\n",
        "    batch_size=1,\n",
        "    shuffle=True, \n",
        "    # careful when dealing with mixed env points\n",
        "    num_workers=0,\n",
        "    collate_fn=None,\n",
        "    pin_memory=False,\n",
        " )"
      ]
    },
    {
      "cell_type": "code",
      "execution_count": 43,
      "metadata": {
        "id": "41UMcFBVO8yX"
      },
      "outputs": [],
      "source": [
        "# get waterbirds; returns dict birds\n",
        "# 1,001.Black_footed_Albatross/Black_Footed_Albatross_0046_18.jpg,1,2,1,/o/ocean/00002178.jpg\n",
        "# img_id,img_filename,y,split,place,place_filename\n",
        "def get_place():\n",
        "    '''\n",
        "    Gets a dictionary mapping file names to environment ID\n",
        "\n",
        "    Returns:    \n",
        "        dict with values (string) filename mapped to\n",
        "        keys (int) for environment ID*\n",
        "\n",
        "        *1 corresponds to water environment (ocean) and\n",
        "        *0 corresponds to land environment\n",
        "\n",
        "    Example entry:\n",
        "        # print(get_place())\n",
        "        # '001.Black_footed_Albatross/Black_Footed_Albatross_0046_18.jpg': 1, \n",
        "        # '001.Black_footed_Albatross/Black_Footed_Albatross_0009_34.jpg': 1,\t\n",
        "    '''\n",
        "    birds = {}\n",
        "    with open('data/metadata.csv') as f:\n",
        "        reader = csv.DictReader(f)\n",
        "        for row in reader:\n",
        "            fname = row['img_filename'].split('/')[-1]\n",
        "            birds[fname] = int(row['place'])\n",
        "    return birds\n"
      ]
    },
    {
      "cell_type": "code",
      "execution_count": 44,
      "metadata": {
        "id": "hbiuWgOmO8yY"
      },
      "outputs": [],
      "source": [
        "birds = get_place()"
      ]
    },
    {
      "cell_type": "code",
      "execution_count": 45,
      "metadata": {
        "id": "L7NVWHSiO8yY"
      },
      "outputs": [],
      "source": [
        "class BasicConvNet(nn.Module):\n",
        "    '''\n",
        "    A basic neural network. Not particularly based on anything,\n",
        "    2 conv layers and last layer is FC.\n",
        "    '''\n",
        "\n",
        "    def __init__(self, num_classes, num_envs=2):\n",
        "        super(BasicConvNet, self).__init__()\n",
        "        self.conv2d1 = nn.Conv2d(3, 2, 3, 1, 1)\n",
        "        self.relu = nn.ReLU()\n",
        "        self.maxpool1 = nn.MaxPool2d(2, 2)\n",
        "        self.conv2d2 = nn.Conv2d(2, 4, 3, 1, 1)\n",
        "        self.maxpool2 = nn.MaxPool2d(2, 2)\n",
        "        self.flatten = nn.Flatten()\n",
        "\n",
        "        # For this part, we want one dense layer for the frist\n",
        "        # and one dense layer for the second environment\n",
        "        self.fc1 = nn.Linear(12544, num_classes)\n",
        "        self.fc2 = nn.Linear(12544, num_classes)\n",
        "        self._weight_init()\n",
        "\n",
        "    def _weight_init(self):\n",
        "        for layer in self.children():\n",
        "            if (layer.__class__.__name__ == 'Linear' \\\n",
        "                or layer.__class__.__name__ == 'Conv2d'):\n",
        "                nn.init.kaiming_uniform_(layer.weight.data,0.2)\n",
        "                nn.init.constant_(layer.bias.data,0)  \n",
        "\n",
        "    def forward(self, x, env):\n",
        "        '''\n",
        "        env: integer parameter. 0 for land, 1 for water\n",
        "        '''\n",
        "        x = self.conv2d1(x)\n",
        "        x = self.relu(x)\n",
        "        x = self.maxpool1(x)\n",
        "        x = self.conv2d2(x)\n",
        "        x = self.relu(x)\n",
        "        x = self.maxpool2(x)\n",
        "        x = self.relu(x)\n",
        "        x = self.flatten(x)\n",
        "\n",
        "        if env == 1:\n",
        "            x = self.fc1(x)\n",
        "        else:\n",
        "            x = self.fc2(x)\n",
        "            \n",
        "        return x"
      ]
    },
    {
      "cell_type": "markdown",
      "metadata": {
        "id": "RB2DWVeXO8ya"
      },
      "source": [
        "## Phase 1\n",
        "Train featurizers and classifiers together for all environments.\n",
        "Both featurizer and classifier should be mutable (are being trained).\n",
        "\n",
        "Featurizer should be same for samples from all environments,\n",
        "classifier should be different for samples from different environments."
      ]
    },
    {
      "cell_type": "code",
      "execution_count": 46,
      "metadata": {
        "colab": {
          "base_uri": "https://localhost:8080/",
          "height": 136,
          "referenced_widgets": [
            "5a6248732a6a4581a4e1e9468fbf470e",
            "b670654286144a5285ae0bf42c453338",
            "82d934dbf9e847918960178347ce52d7",
            "e8f3fa3ac0da46b3a75e3f68e0d85d42",
            "d61f223812f14a419923f4829ca2a049",
            "2f4f1d723051454388e45eef7f3c19f3",
            "b0638b743c9d4563a669de8e4f80e221",
            "8b45712f7af14de08013669ff50bc8f0",
            "6fa524eb37a34155abfb45e10c5e58d1",
            "eb82050ffcdf428985109530727ccfc5",
            "e490770409ec46df94a21e0af1a7d729"
          ]
        },
        "id": "cFH2eI2rO8yc",
        "outputId": "ffa3b6bc-cd7e-4398-800b-a72190a2d1ee"
      },
      "outputs": [
        {
          "output_type": "display_data",
          "data": {
            "text/plain": [
              "  0%|          | 0/50 [00:00<?, ?it/s]"
            ],
            "application/vnd.jupyter.widget-view+json": {
              "version_major": 2,
              "version_minor": 0,
              "model_id": "5a6248732a6a4581a4e1e9468fbf470e"
            }
          },
          "metadata": {}
        },
        {
          "output_type": "stream",
          "name": "stdout",
          "text": [
            "E: 0; Land Loss: 0.6224765777587891;             Water Loss: 0.6208257079124451\n",
            "E: 10; Land Loss: 0.0006600823253393173;             Water Loss: 0.0038576724473387003\n",
            "E: 20; Land Loss: 0.004351314157247543;             Water Loss: 4.029192859889008e-05\n",
            "E: 30; Land Loss: 0.0;             Water Loss: 0.0006518622976727784\n",
            "E: 40; Land Loss: 9.452849917579442e-05;             Water Loss: 5.566918844124302e-05\n"
          ]
        }
      ],
      "source": [
        "lr = 0.01\n",
        "n_epochs = 50\n",
        "birds = get_place()\n",
        "net = BasicConvNet(num_classes=2)\n",
        "optimizer = optim.SGD(net.parameters(), lr=lr)\n",
        "optimizer.zero_grad()\n",
        "criterion = nn.CrossEntropyLoss()\n",
        "losses = torch.Tensor(n_epochs,2)\n",
        "\n",
        "# need 2 different loss functions. \n",
        "# such that they have gradient = 0 on half the weights\n",
        "# for the irrelevant environment\n",
        "\n",
        "for epoch in tq.tqdm(range(n_epochs)):\n",
        "    for batch_idx, data in  enumerate(train_loader):\n",
        "        inputs, labels = data\n",
        "\n",
        "        # inputs are currently sorted\n",
        "        sample_fname, _ = train_loader.dataset.samples[batch_idx]\n",
        "        fname = sample_fname.split('/')[-1]\n",
        "        # filename example: Black_Footed_Albatross_0009_34.jpg\n",
        "\n",
        "        if birds[fname] == 0:\n",
        "            # Train land-env birds\n",
        "            optimizer.zero_grad()\n",
        "            outputs = net(inputs, 0)\n",
        "            land_loss = criterion(outputs, labels.type(torch.LongTensor)) \n",
        "            land_loss.backward()\n",
        "            optimizer.step()\n",
        "            \n",
        "        elif birds[fname] == 1:\n",
        "            # Train water-env birds\n",
        "            optimizer.zero_grad()\n",
        "            outputs = net(inputs, 1)\n",
        "            water_loss = criterion(outputs, labels.type(torch.LongTensor)) \n",
        "            water_loss.backward()\n",
        "            optimizer.step()\n",
        "        losses[epoch,0] = land_loss.item()\n",
        "        losses[epoch,1] = water_loss.item()\n",
        "\n",
        "\n",
        "    if epoch % 10 == 0:\n",
        "        print(f\"E: {epoch}; Land Loss: {land_loss.item()}; \\\n",
        "            Water Loss: {water_loss.item()}\")\n"
      ]
    },
    {
      "cell_type": "code",
      "source": [
        "plt.plot(losses[:,0], label=\"land losses\")\n",
        "plt.plot(losses[:,1], label=\"water losses\")\n",
        "plt.legend()\n",
        "plt.show()"
      ],
      "metadata": {
        "colab": {
          "base_uri": "https://localhost:8080/",
          "height": 265
        },
        "id": "oh5wp3S13O6m",
        "outputId": "da64cbbe-bce8-4ed8-c5ac-de9e8c45e58a"
      },
      "execution_count": 47,
      "outputs": [
        {
          "output_type": "display_data",
          "data": {
            "text/plain": [
              "<Figure size 432x288 with 1 Axes>"
            ],
            "image/png": "[encoded data removed]"
          },
          "metadata": {
            "needs_background": "light"
          }
        }
      ]
    },
    {
      "cell_type": "code",
      "source": [
        "# Print model's state_dict\n",
        "print(\"Model's state_dict:\")\n",
        "for param_tensor in net.state_dict():\n",
        "    print(param_tensor, \"\\t\", net.state_dict()[param_tensor].size())\n",
        "torch.save(net.state_dict(), \"phase1\")"
      ],
      "metadata": {
        "colab": {
          "base_uri": "https://localhost:8080/"
        },
        "id": "qmPJsrltSBT9",
        "outputId": "2a26a75d-5048-40b9-9068-fe435fd96b75"
      },
      "execution_count": 48,
      "outputs": [
        {
          "output_type": "stream",
          "name": "stdout",
          "text": [
            "Model's state_dict:\n",
            "conv2d1.weight \t torch.Size([2, 3, 3, 3])\n",
            "conv2d1.bias \t torch.Size([2])\n",
            "conv2d2.weight \t torch.Size([4, 2, 3, 3])\n",
            "conv2d2.bias \t torch.Size([4])\n",
            "fc1.weight \t torch.Size([2, 12544])\n",
            "fc1.bias \t torch.Size([2])\n",
            "fc2.weight \t torch.Size([2, 12544])\n",
            "fc2.bias \t torch.Size([2])\n"
          ]
        }
      ]
    },
    {
      "cell_type": "markdown",
      "metadata": {
        "id": "sH8uYMt1O8ye"
      },
      "source": [
        "## Phase 2\n",
        "\n",
        "Train classifiers for environments only, freezing featurizers"
      ]
    },
    {
      "cell_type": "code",
      "source": [
        "for layer in net.children():\n",
        "    # unless it's the last linear layer, freeze everything.\n",
        "    for p in layer.parameters():\n",
        "        p.requires_grad = False\n",
        "    if layer.__class__.__name__ == 'Linear':\n",
        "        # if it's one of the first environment weights, let it train\n",
        "        for i,p in enumerate(layer.parameters()):\n",
        "            if i < 2: p.requires_grad=True\n",
        "\n",
        "for layer in net.children():\n",
        "    print(layer.__class__.__name__)\n",
        "    for p in layer.parameters(): \n",
        "        # TODO: fix this! It just does weight, bias as the two parameters.\n",
        "        print(\"is frozen: \", str(not p.requires_grad))"
      ],
      "metadata": {
        "id": "B-2oNWylSwa_"
      },
      "execution_count": null,
      "outputs": []
    },
    {
      "cell_type": "code",
      "execution_count": null,
      "metadata": {
        "id": "zOprbv1gO8yf"
      },
      "outputs": [],
      "source": [
        "l_optim_frozen = optim.SGD(\n",
        "    filter(lambda p: p.requires_grad, net.parameters()), lr=lr)\n",
        "\n",
        "for epoch in tq.tqdm(range(n_epochs)):\n",
        "    for batch_idx, data in enumerate(train_loader):\n",
        "        inputs, labels = data\n",
        "        l_optim_frozen.zero_grad()\n",
        "        outputs = net(inputs)[:,:2] \n",
        "        # we're only working with the first weights now \n",
        "        loss = criterion(outputs, labels.type(torch.LongTensor)) \n",
        "        loss.backward()\n",
        "        l_optim_frozen.step()\n",
        "\n",
        "\n",
        "    print(f\"E: {epoch}; Land Loss: {land_loss.item()}; Water Loss: {water_loss.item()}\")"
      ]
    },
    {
      "cell_type": "code",
      "execution_count": null,
      "metadata": {
        "id": "-Pfu3hetO8yg"
      },
      "outputs": [],
      "source": [
        ""
      ]
    }
  ],
  "metadata": {
    "interpreter": {
      "hash": "916dbcbb3f70747c44a77c7bcd40155683ae19c65e1c03b4aa3499c5328201f1"
    },
    "kernelspec": {
      "display_name": "Python 3.8.10 64-bit",
      "language": "python",
      "name": "python3"
    },
    "language_info": {
      "codemirror_mode": {
        "name": "ipython",
        "version": 3
      },
      "file_extension": ".py",
      "mimetype": "text/x-python",
      "name": "python",
      "nbconvert_exporter": "python",
      "pygments_lexer": "ipython3",
      "version": "3.8.10"
    },
    "orig_nbformat": 4,
    "colab": {
      "name": "2phase.ipynb",
      "provenance": [],
      "collapsed_sections": []
    },
    "accelerator": "GPU",
    "widgets": {
      "application/vnd.jupyter.widget-state+json": {
        "5a6248732a6a4581a4e1e9468fbf470e": {
          "model_module": "@jupyter-widgets/controls",
          "model_name": "HBoxModel",
          "model_module_version": "1.5.0",
          "state": {
            "_dom_classes": [],
            "_model_module": "@jupyter-widgets/controls",
            "_model_module_version": "1.5.0",
            "_model_name": "HBoxModel",
            "_view_count": null,
            "_view_module": "@jupyter-widgets/controls",
            "_view_module_version": "1.5.0",
            "_view_name": "HBoxView",
            "box_style": "",
            "children": [
              "IPY_MODEL_b670654286144a5285ae0bf42c453338",
              "IPY_MODEL_82d934dbf9e847918960178347ce52d7",
              "IPY_MODEL_e8f3fa3ac0da46b3a75e3f68e0d85d42"
            ],
            "layout": "IPY_MODEL_d61f223812f14a419923f4829ca2a049"
          }
        },
        "b670654286144a5285ae0bf42c453338": {
          "model_module": "@jupyter-widgets/controls",
          "model_name": "HTMLModel",
          "model_module_version": "1.5.0",
          "state": {
            "_dom_classes": [],
            "_model_module": "@jupyter-widgets/controls",
            "_model_module_version": "1.5.0",
            "_model_name": "HTMLModel",
            "_view_count": null,
            "_view_module": "@jupyter-widgets/controls",
            "_view_module_version": "1.5.0",
            "_view_name": "HTMLView",
            "description": "",
            "description_tooltip": null,
            "layout": "IPY_MODEL_2f4f1d723051454388e45eef7f3c19f3",
            "placeholder": "​",
            "style": "IPY_MODEL_b0638b743c9d4563a669de8e4f80e221",
            "value": "100%"
          }
        },
        "82d934dbf9e847918960178347ce52d7": {
          "model_module": "@jupyter-widgets/controls",
          "model_name": "FloatProgressModel",
          "model_module_version": "1.5.0",
          "state": {
            "_dom_classes": [],
            "_model_module": "@jupyter-widgets/controls",
            "_model_module_version": "1.5.0",
            "_model_name": "FloatProgressModel",
            "_view_count": null,
            "_view_module": "@jupyter-widgets/controls",
            "_view_module_version": "1.5.0",
            "_view_name": "ProgressView",
            "bar_style": "success",
            "description": "",
            "description_tooltip": null,
            "layout": "IPY_MODEL_8b45712f7af14de08013669ff50bc8f0",
            "max": 50,
            "min": 0,
            "orientation": "horizontal",
            "style": "IPY_MODEL_6fa524eb37a34155abfb45e10c5e58d1",
            "value": 50
          }
        },
        "e8f3fa3ac0da46b3a75e3f68e0d85d42": {
          "model_module": "@jupyter-widgets/controls",
          "model_name": "HTMLModel",
          "model_module_version": "1.5.0",
          "state": {
            "_dom_classes": [],
            "_model_module": "@jupyter-widgets/controls",
            "_model_module_version": "1.5.0",
            "_model_name": "HTMLModel",
            "_view_count": null,
            "_view_module": "@jupyter-widgets/controls",
            "_view_module_version": "1.5.0",
            "_view_name": "HTMLView",
            "description": "",
            "description_tooltip": null,
            "layout": "IPY_MODEL_eb82050ffcdf428985109530727ccfc5",
            "placeholder": "​",
            "style": "IPY_MODEL_e490770409ec46df94a21e0af1a7d729",
            "value": " 50/50 [00:59&lt;00:00,  1.18s/it]"
          }
        },
        "d61f223812f14a419923f4829ca2a049": {
          "model_module": "@jupyter-widgets/base",
          "model_name": "LayoutModel",
          "model_module_version": "1.2.0",
          "state": {
            "_model_module": "@jupyter-widgets/base",
            "_model_module_version": "1.2.0",
            "_model_name": "LayoutModel",
            "_view_count": null,
            "_view_module": "@jupyter-widgets/base",
            "_view_module_version": "1.2.0",
            "_view_name": "LayoutView",
            "align_content": null,
            "align_items": null,
            "align_self": null,
            "border": null,
            "bottom": null,
            "display": null,
            "flex": null,
            "flex_flow": null,
            "grid_area": null,
            "grid_auto_columns": null,
            "grid_auto_flow": null,
            "grid_auto_rows": null,
            "grid_column": null,
            "grid_gap": null,
            "grid_row": null,
            "grid_template_areas": null,
            "grid_template_columns": null,
            "grid_template_rows": null,
            "height": null,
            "justify_content": null,
            "justify_items": null,
            "left": null,
            "margin": null,
            "max_height": null,
            "max_width": null,
            "min_height": null,
            "min_width": null,
            "object_fit": null,
            "object_position": null,
            "order": null,
            "overflow": null,
            "overflow_x": null,
            "overflow_y": null,
            "padding": null,
            "right": null,
            "top": null,
            "visibility": null,
            "width": null
          }
        },
        "2f4f1d723051454388e45eef7f3c19f3": {
          "model_module": "@jupyter-widgets/base",
          "model_name": "LayoutModel",
          "model_module_version": "1.2.0",
          "state": {
            "_model_module": "@jupyter-widgets/base",
            "_model_module_version": "1.2.0",
            "_model_name": "LayoutModel",
            "_view_count": null,
            "_view_module": "@jupyter-widgets/base",
            "_view_module_version": "1.2.0",
            "_view_name": "LayoutView",
            "align_content": null,
            "align_items": null,
            "align_self": null,
            "border": null,
            "bottom": null,
            "display": null,
            "flex": null,
            "flex_flow": null,
            "grid_area": null,
            "grid_auto_columns": null,
            "grid_auto_flow": null,
            "grid_auto_rows": null,
            "grid_column": null,
            "grid_gap": null,
            "grid_row": null,
            "grid_template_areas": null,
            "grid_template_columns": null,
            "grid_template_rows": null,
            "height": null,
            "justify_content": null,
            "justify_items": null,
            "left": null,
            "margin": null,
            "max_height": null,
            "max_width": null,
            "min_height": null,
            "min_width": null,
            "object_fit": null,
            "object_position": null,
            "order": null,
            "overflow": null,
            "overflow_x": null,
            "overflow_y": null,
            "padding": null,
            "right": null,
            "top": null,
            "visibility": null,
            "width": null
          }
        },
        "b0638b743c9d4563a669de8e4f80e221": {
          "model_module": "@jupyter-widgets/controls",
          "model_name": "DescriptionStyleModel",
          "model_module_version": "1.5.0",
          "state": {
            "_model_module": "@jupyter-widgets/controls",
            "_model_module_version": "1.5.0",
            "_model_name": "DescriptionStyleModel",
            "_view_count": null,
            "_view_module": "@jupyter-widgets/base",
            "_view_module_version": "1.2.0",
            "_view_name": "StyleView",
            "description_width": ""
          }
        },
        "8b45712f7af14de08013669ff50bc8f0": {
          "model_module": "@jupyter-widgets/base",
          "model_name": "LayoutModel",
          "model_module_version": "1.2.0",
          "state": {
            "_model_module": "@jupyter-widgets/base",
            "_model_module_version": "1.2.0",
            "_model_name": "LayoutModel",
            "_view_count": null,
            "_view_module": "@jupyter-widgets/base",
            "_view_module_version": "1.2.0",
            "_view_name": "LayoutView",
            "align_content": null,
            "align_items": null,
            "align_self": null,
            "border": null,
            "bottom": null,
            "display": null,
            "flex": null,
            "flex_flow": null,
            "grid_area": null,
            "grid_auto_columns": null,
            "grid_auto_flow": null,
            "grid_auto_rows": null,
            "grid_column": null,
            "grid_gap": null,
            "grid_row": null,
            "grid_template_areas": null,
            "grid_template_columns": null,
            "grid_template_rows": null,
            "height": null,
            "justify_content": null,
            "justify_items": null,
            "left": null,
            "margin": null,
            "max_height": null,
            "max_width": null,
            "min_height": null,
            "min_width": null,
            "object_fit": null,
            "object_position": null,
            "order": null,
            "overflow": null,
            "overflow_x": null,
            "overflow_y": null,
            "padding": null,
            "right": null,
            "top": null,
            "visibility": null,
            "width": null
          }
        },
        "6fa524eb37a34155abfb45e10c5e58d1": {
          "model_module": "@jupyter-widgets/controls",
          "model_name": "ProgressStyleModel",
          "model_module_version": "1.5.0",
          "state": {
            "_model_module": "@jupyter-widgets/controls",
            "_model_module_version": "1.5.0",
            "_model_name": "ProgressStyleModel",
            "_view_count": null,
            "_view_module": "@jupyter-widgets/base",
            "_view_module_version": "1.2.0",
            "_view_name": "StyleView",
            "bar_color": null,
            "description_width": ""
          }
        },
        "eb82050ffcdf428985109530727ccfc5": {
          "model_module": "@jupyter-widgets/base",
          "model_name": "LayoutModel",
          "model_module_version": "1.2.0",
          "state": {
            "_model_module": "@jupyter-widgets/base",
            "_model_module_version": "1.2.0",
            "_model_name": "LayoutModel",
            "_view_count": null,
            "_view_module": "@jupyter-widgets/base",
            "_view_module_version": "1.2.0",
            "_view_name": "LayoutView",
            "align_content": null,
            "align_items": null,
            "align_self": null,
            "border": null,
            "bottom": null,
            "display": null,
            "flex": null,
            "flex_flow": null,
            "grid_area": null,
            "grid_auto_columns": null,
            "grid_auto_flow": null,
            "grid_auto_rows": null,
            "grid_column": null,
            "grid_gap": null,
            "grid_row": null,
            "grid_template_areas": null,
            "grid_template_columns": null,
            "grid_template_rows": null,
            "height": null,
            "justify_content": null,
            "justify_items": null,
            "left": null,
            "margin": null,
            "max_height": null,
            "max_width": null,
            "min_height": null,
            "min_width": null,
            "object_fit": null,
            "object_position": null,
            "order": null,
            "overflow": null,
            "overflow_x": null,
            "overflow_y": null,
            "padding": null,
            "right": null,
            "top": null,
            "visibility": null,
            "width": null
          }
        },
        "e490770409ec46df94a21e0af1a7d729": {
          "model_module": "@jupyter-widgets/controls",
          "model_name": "DescriptionStyleModel",
          "model_module_version": "1.5.0",
          "state": {
            "_model_module": "@jupyter-widgets/controls",
            "_model_module_version": "1.5.0",
            "_model_name": "DescriptionStyleModel",
            "_view_count": null,
            "_view_module": "@jupyter-widgets/base",
            "_view_module_version": "1.2.0",
            "_view_name": "StyleView",
            "description_width": ""
          }
        }
      }
    }
  },
  "nbformat": 4,
  "nbformat_minor": 0
}