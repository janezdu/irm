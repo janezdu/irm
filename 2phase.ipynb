{
  "cells": [
    {
      "cell_type": "code",
      "execution_count": 33,
      "metadata": {
        "id": "9C-uZ1raO8yT"
      },
      "outputs": [],
      "source": [
        "# import tqdm.notebook as tq\n",
        "from tqdm.notebook import tqdm\n",
        "import csv\n",
        "import os\n",
        "import pandas as pd\n",
        "from skimage import io\n",
        "\n",
        "from torch.utils.data import Dataset, DataLoader\n",
        "import torchvision\n",
        "from torchvision import transforms\n",
        "from torchvision.utils import save_image\n",
        "import torch\n",
        "import torch.optim as optim\n",
        "import torch.nn as nn\n",
        "from torch.utils.data import Subset\n",
        "\n",
        "import matplotlib.pyplot as plt"
      ]
    },
    {
      "cell_type": "markdown",
      "metadata": {
        "id": "KAJd3YRlPYF3"
      },
      "source": [
        "## Choose dataset. \n",
        "- `data_path = \"irm/landbird\"` for 2 classes, both landbirds sampled from mixed environments\n",
        "- `data_path = \"irm/data\"` for 2 classes, one land bird/one water bird, mixed environments \n",
        "- `data_path = \"irm/waterbirds\"` for *all* classes, mixed environments "
      ]
    },
    {
      "cell_type": "code",
      "execution_count": 2,
      "metadata": {
        "colab": {
          "base_uri": "https://localhost:8080/"
        },
        "id": "gTeieOWZsybh",
        "outputId": "0c236a20-68f4-4981-94f6-529c853452b6"
      },
      "outputs": [
        {
          "name": "stdout",
          "output_type": "stream",
          "text": [
            "Device name: NVIDIA GeForce RTX 3060\n"
          ]
        }
      ],
      "source": [
        "# data_path = \"irm/data/\"\n",
        "data_path = \"data/\"\n",
        "\n",
        "print(\"Device name:\",torch.cuda.get_device_name(0))\n",
        "device = torch.device(\"cuda:0\" if torch.cuda.is_available() else \"cpu\")\n",
        "#  !ls -la \"/content/data/\""
      ]
    },
    {
      "cell_type": "code",
      "execution_count": 14,
      "metadata": {
        "id": "403vtaDuO8yW"
      },
      "outputs": [],
      "source": [
        "H, W = 300, 500\n",
        "transform = transforms.Compose([\n",
        "    transforms.Resize((H,W)),\n",
        "    transforms.CenterCrop(224),\n",
        "    transforms.ToTensor()\n",
        "])\n",
        "\n",
        "imgs = torchvision.datasets.ImageFolder(data_path, transform)"
      ]
    },
    {
      "cell_type": "code",
      "execution_count": 4,
      "metadata": {
        "id": "41UMcFBVO8yX"
      },
      "outputs": [
        {
          "data": {
            "text/plain": [
              "{'train': <torch.utils.data.dataset.Subset at 0x197a58064d0>,\n",
              " 'train_land': <torch.utils.data.dataset.Subset at 0x197a5807c70>,\n",
              " 'train_water': <torch.utils.data.dataset.Subset at 0x197c3f63d60>,\n",
              " 'val_land': <torch.utils.data.dataset.Subset at 0x197c3fac1c0>,\n",
              " 'val_water': <torch.utils.data.dataset.Subset at 0x197c3fad720>,\n",
              " 'test_land': <torch.utils.data.dataset.Subset at 0x197c3fae650>,\n",
              " 'val': <torch.utils.data.dataset.Subset at 0x197c3fae6b0>,\n",
              " 'test': <torch.utils.data.dataset.Subset at 0x197c3faca90>}"
            ]
          },
          "execution_count": 4,
          "metadata": {},
          "output_type": "execute_result"
        }
      ],
      "source": [
        "# get waterbirds; returns dict birds\n",
        "# 1,001.Black_footed_Albatross/Black_Footed_Albatross_0046_18.jpg,1,2,1,/o/ocean/00002178.jpg\n",
        "# img_id,img_filename,y,split,place,place_filename\n",
        "def get_place():\n",
        "    '''\n",
        "    Gets a dictionary mapping file names to environment ID\n",
        "\n",
        "    Returns:    \n",
        "        dict with values (string) filename mapped to\n",
        "        keys (int) for environment ID*\n",
        "\n",
        "        *1 corresponds to water environment (ocean) and\n",
        "        *0 corresponds to land environment\n",
        "\n",
        "    Example entry:\n",
        "        # print(get_place())\n",
        "        # '001.Black_footed_Albatross/Black_Footed_Albatross_0046_18.jpg': 1, \n",
        "        # '001.Black_footed_Albatross/Black_Footed_Albatross_0009_34.jpg': 1,\t\n",
        "    '''\n",
        "    birds = {}\n",
        "    with open( data_path+'metadata.csv') as f:\n",
        "        reader = csv.DictReader(f)\n",
        "        for row in reader:\n",
        "            fname = row['img_filename'].split('/')[-1]\n",
        "            birds[fname] = int(row['place'])\n",
        "    return birds\n",
        "\n",
        "def split_dataset(meta_fname=data_path+\"metadata.csv\"):\n",
        "    '''\n",
        "    Appendix C.1 of DRO paper:\n",
        "    50-20-30 train-val-test split that allocates \n",
        "    more examples to the validation and test sets than the standard \n",
        "    split.\n",
        "    '''\n",
        "    train_land = []\n",
        "    train_water = []\n",
        "    val_land = []\n",
        "    val_water = []\n",
        "    test_land = []\n",
        "    test_water = []\n",
        "    train = []\n",
        "    with open(meta_fname) as f:\n",
        "        reader = csv.DictReader(f)\n",
        "        for row in reader:    \n",
        "            match int(row['split']), int(row['place']):\n",
        "                case 0,0:\n",
        "                    train_land.append(int(row['img_id']))\n",
        "                    train.append(int(row['img_id']))\n",
        "                case 0,1:\n",
        "                    train_water.append(int(row['img_id']))\n",
        "                    train.append(int(row['img_id']))\n",
        "                case 1,0:\n",
        "                    val_land.append(int(row['img_id']))\n",
        "                case 1,1:\n",
        "                    val_water.append(int(row['img_id']))\n",
        "                case 2,0:\n",
        "                    test_land.append(int(row['img_id']))\n",
        "                case 2,1:\n",
        "                    test_water.append(int(row['img_id']))\n",
        "    return train_land, train_water, val_land, val_water, test_land, test_water, train\n",
        "\n",
        "def train_val_dataset(imgs):\n",
        "    train_land, train_water, val_land, val_water, test_land, test_water,\\\n",
        "        train \\\n",
        "        = split_dataset()\n",
        "    datasets = {}\n",
        "    datasets['train'] =  Subset(imgs, train)\n",
        "    datasets['train_land'] = Subset(imgs, train_land)\n",
        "    datasets['train_water'] = Subset(imgs, train_water)\n",
        "    datasets['val_land'] = Subset(imgs, val_land)\n",
        "    datasets['val_water'] = Subset(imgs, val_water)\n",
        "    datasets['test_land'] = Subset(imgs, test_land )\n",
        "    datasets['test_land'] = Subset(imgs, test_water)\n",
        "    datasets['val'] =  Subset(imgs, val_land + val_water)\n",
        "    datasets['test'] = Subset(imgs, test_land + test_water)\n",
        "    return datasets\n",
        "\n",
        "train_val_dataset(imgs)"
      ]
    },
    {
      "cell_type": "code",
      "execution_count": 91,
      "metadata": {},
      "outputs": [],
      "source": [
        "class EnvDataset(Dataset):\n",
        "    \"\"\" waterbirds + environment dataset\"\"\"\n",
        "\n",
        "    def __init__(self, csv_file, root_dir, transform=None):\n",
        "        \"\"\"\n",
        "        Args:\n",
        "            csv_file (string): Path to the csv file with annotations.\n",
        "            root_dir (string): Directory with all the images.\n",
        "            transform (callable, optional): Optional transform to be applied\n",
        "                on a sample.\n",
        "        \"\"\"\n",
        "        \n",
        "        self.metadata = pd.read_csv(csv_file)\n",
        "        self.root_dir = root_dir\n",
        "        self.transform = transform\n",
        "\n",
        "    def __len__(self):\n",
        "        return len(self.metadata)\n",
        "\n",
        "    def __getitem__(self, idx):\n",
        "        if torch.is_tensor(idx):\n",
        "            idx = idx.tolist()\n",
        "\n",
        "        img_name = os.path.join(self.root_dir,\n",
        "                                str(self.metadata.iloc[idx][1]))\n",
        "        image = io.imread(img_name)\n",
        "        print(self.metadata.iloc[idx])\n",
        "        env = self.metadata.iloc[idx]['place']\n",
        "        sample = {'image': image, 'env': env}\n",
        "\n",
        "        # if self.transform:\n",
        "        #     sample = self.transform(sample)\n",
        "\n",
        "        return sample"
      ]
    },
    {
      "cell_type": "code",
      "execution_count": 92,
      "metadata": {},
      "outputs": [],
      "source": [
        "ds = EnvDataset(csv_file='data/metadata.csv', root_dir='data/')\n",
        "birds = get_place()\n",
        "dataloader = DataLoader(ds, batch_size=4,\n",
        "                        shuffle=True, num_workers=0)"
      ]
    },
    {
      "cell_type": "code",
      "execution_count": 93,
      "metadata": {},
      "outputs": [],
      "source": [
        "datasets = train_val_dataset(imgs)\n",
        "BATCH_SIZE = 8\n",
        "\n",
        "train_loader = DataLoader(\n",
        "    datasets['train'].dataset,\n",
        "    batch_size=BATCH_SIZE,\n",
        "    shuffle=True, \n",
        "    # careful when dealing with mixed env points\n",
        "    num_workers=0,\n",
        "    collate_fn=None,\n",
        "    pin_memory=False,\n",
        " )\n",
        "\n",
        "val_loader = DataLoader(\n",
        "    datasets['val'].dataset,\n",
        "    batch_size=BATCH_SIZE,\n",
        "    shuffle=True, \n",
        "    # careful when dealing with mixed env points\n",
        "    num_workers=0,\n",
        "    collate_fn=None,\n",
        "    pin_memory=False,\n",
        " )"
      ]
    },
    {
      "cell_type": "code",
      "execution_count": 94,
      "metadata": {
        "id": "L7NVWHSiO8yY"
      },
      "outputs": [],
      "source": [
        "class BasicConvNet(nn.Module):\n",
        "    '''\n",
        "    A basic neural network. Not particularly based on anything,\n",
        "    2 conv layers and last layer is FC.\n",
        "    '''\n",
        "\n",
        "    def __init__(self, num_classes, num_envs=2):\n",
        "        super(BasicConvNet, self).__init__()\n",
        "        self.conv2d1 = nn.Conv2d(3, 2, 3, 1, 1)\n",
        "        self.relu = nn.ReLU()\n",
        "        self.maxpool1 = nn.MaxPool2d(2, 2)\n",
        "        self.conv2d2 = nn.Conv2d(2, 4, 3, 1, 1)\n",
        "        self.maxpool2 = nn.MaxPool2d(2, 2)\n",
        "        self.flatten = nn.Flatten()\n",
        "\n",
        "        # For this part, we want one dense layer for the frist\n",
        "        # and one dense layer for the second environment\n",
        "        self.fc1 = nn.Linear(12544, num_classes)\n",
        "        self.fc2 = nn.Linear(12544, num_classes)\n",
        "        self._weight_init()\n",
        "\n",
        "    def _weight_init(self):\n",
        "        for layer in self.children():\n",
        "            if (layer.__class__.__name__ == 'Linear' \\\n",
        "                or layer.__class__.__name__ == 'Conv2d'):\n",
        "                nn.init.kaiming_uniform_(layer.weight.data,0.2)\n",
        "                nn.init.constant_(layer.bias.data,0)  \n",
        "\n",
        "    def forward(self, x, env):\n",
        "        '''\n",
        "        env: integer parameter. 0 for land, 1 for water\n",
        "        '''\n",
        "        x = self.conv2d1(x)\n",
        "        x = self.relu(x)\n",
        "        x = self.maxpool1(x)\n",
        "        x = self.conv2d2(x)\n",
        "        x = self.relu(x)\n",
        "        x = self.maxpool2(x)\n",
        "        x = self.relu(x)\n",
        "        x = self.flatten(x)\n",
        "\n",
        "        if env == 0:\n",
        "            x = self.fc1(x)\n",
        "        else:\n",
        "            x = self.fc2(x)\n",
        "            \n",
        "        return x"
      ]
    },
    {
      "cell_type": "markdown",
      "metadata": {
        "id": "ZXU4PtxVWidi"
      },
      "source": [
        "## Baseline\n",
        "A regular small neural network. ERM only, ignore environments.\n",
        "\n",
        "`todo`: IRM baseline"
      ]
    },
    {
      "cell_type": "code",
      "execution_count": 95,
      "metadata": {
        "colab": {
          "base_uri": "https://localhost:8080/",
          "height": 384,
          "referenced_widgets": [
            "09c19d5952f4454abf3ad00fbe84c458",
            "82bfa5fdf7e84a9cb06841320c8f1a4d",
            "df18ee5bb3544220807d3424c9a73629",
            "6bd43f7483d64f26b2c9ec71471dffbb",
            "ba45666e92294bcfbfc14059c6822e87",
            "6befdf2cb06b4dd08fb7b8d3266f931f",
            "d76b4dc0ae6848b8be765f69ec5d601b",
            "228d4ae07f0a48f6a017fb1c2eb0f318",
            "2e708e2b089d4ec9b2095b5c29399d63",
            "66bafab3feb243ada16b6c0e5d450e38",
            "09e0a4c64a874d54b0b88fade4bd4852"
          ]
        },
        "id": "Azkul8YNWi2k",
        "outputId": "8d936b34-c107-4549-ea57-56acfe3f221c"
      },
      "outputs": [
        {
          "data": {
            "application/vnd.jupyter.widget-view+json": {
              "model_id": "514194d686b44ab28b01a43a734b71f5",
              "version_major": 2,
              "version_minor": 0
            },
            "text/plain": [
              "  0%|          | 0/50 [00:00<?, ?it/s]"
            ]
          },
          "metadata": {},
          "output_type": "display_data"
        },
        {
          "name": "stdout",
          "output_type": "stream",
          "text": [
            "E: 0; Loss: 0.7136045694351196;\n",
            "E: 10; Loss: 0.2979872226715088;\n",
            "E: 20; Loss: 0.037518031895160675;\n",
            "E: 30; Loss: 0.02281118929386139;\n",
            "E: 40; Loss: 0.02362651377916336;\n",
            "Average Validation Loss: 0.005351968575268984;\n"
          ]
        },
        {
          "data": {
            "image/png": "[encoded data removed]",
            "text/plain": [
              "<Figure size 432x288 with 1 Axes>"
            ]
          },
          "metadata": {
            "needs_background": "light"
          },
          "output_type": "display_data"
        }
      ],
      "source": [
        "lr = 0.01\n",
        "n_epochs = 50\n",
        "birds = get_place()\n",
        "baseline = BasicConvNet(num_classes=2)\n",
        "optimizer = optim.SGD(baseline.parameters(), lr=lr)\n",
        "optimizer.zero_grad()\n",
        "criterion = nn.CrossEntropyLoss()\n",
        "\n",
        "def train_baseline(data_loader, net):\n",
        "    losses = torch.Tensor(n_epochs,2)\n",
        "    for epoch in tqdm(range(n_epochs)):\n",
        "        for batch_idx, data in enumerate(data_loader):\n",
        "            inputs, labels = data\n",
        "\n",
        "            # inputs are currently sorted\n",
        "            sample_fname, _ = data_loader.dataset.samples[batch_idx]\n",
        "            fname = sample_fname.split('/')[-1]\n",
        "            # filename example: Black_Footed_Albatross_0009_34.jpg\n",
        "\n",
        "            optimizer.zero_grad()\n",
        "            outputs = net(inputs, 0) #just use fc1\n",
        "            loss = criterion(outputs, labels.type(torch.LongTensor)) \n",
        "            loss.backward()\n",
        "            optimizer.step()\n",
        "            losses[epoch,0] = loss.item()\n",
        "\n",
        "        if epoch % 10 == 0:\n",
        "            print(f\"E: {epoch}; Loss: {loss.item()};\" )\n",
        "    return losses\n",
        "\n",
        "def test(data_loader, model):\n",
        "    losses=[]\n",
        "    for batch_idx, data in enumerate(data_loader):\n",
        "        inputs, labels = data\n",
        "        sample_fname, _ = data_loader.dataset.samples[batch_idx]\n",
        "        fname = sample_fname.split('/')[-1]\n",
        "        outputs = model(inputs, 0) #just use fc1\n",
        "        loss = criterion(outputs, labels.type(torch.LongTensor)) \n",
        "        losses.append(loss.item())\n",
        "    \n",
        "    avg_loss = torch.mean(torch.FloatTensor(losses))\n",
        "    print(f\"Average Validation Loss: {avg_loss};\" )\n",
        "    return avg_loss\n",
        "\n",
        "train_losses = train_baseline(train_loader, baseline)\n",
        "baseline_loss = test(val_loader, baseline)\n",
        "\n",
        "plt.plot(train_losses[:,0], label=\"loss\")\n",
        "plt.show()"
      ]
    },
    {
      "cell_type": "markdown",
      "metadata": {
        "id": "RB2DWVeXO8ya"
      },
      "source": [
        "## Phase 1\n",
        "Train featurizers and classifiers together for all environments.\n",
        "Both featurizer and classifier should be mutable (are being trained).\n",
        "\n",
        "Featurizer should be same for samples from all environments,\n",
        "classifier should be different for samples from different environments."
      ]
    },
    {
      "cell_type": "code",
      "execution_count": 96,
      "metadata": {
        "colab": {
          "base_uri": "https://localhost:8080/",
          "height": 136,
          "referenced_widgets": [
            "f2286b4b6f87499a94d01023f0f559fd",
            "e7e7b404810c4a9a85f9c07fb9a3cebe",
            "9ef4230724974dee8bc5526415d13911",
            "2b2242026e814a7c87d02463777f9c7b",
            "dad9388f9ea24578a60a6ddff11c892f",
            "cc2acb3c7f714cdf97ebc02af995dbbc",
            "adf4f1870f6e45e0a799a6f1a49c98e9",
            "3ef337d9c8684b5c99ef6f7722a7f179",
            "5d5b920bb2ce4dd9b9cf1806c0870325",
            "1de939196bd3422cac46d14fd7518231",
            "76b4648074954d82b917aa3d3594a9ad"
          ]
        },
        "id": "cFH2eI2rO8yc",
        "outputId": "42d2685c-3332-4b82-ebc2-eba63b5089fa"
      },
      "outputs": [],
      "source": [
        "# need 2 different loss functions. \n",
        "# such that they have gradient = 0 on half the weights\n",
        "# for the irrelevant environment\n",
        "SANITY_CHECK = False\n",
        "\n",
        "def train_phase1(data_loader, net):\n",
        "    losses = torch.Tensor(n_epochs,2)\n",
        "    for epoch in tqdm(range(n_epochs)):\n",
        "        for batch_idx, (inputs, labels) in enumerate(data_loader, 0):\n",
        "            print(inputs.shape)\n",
        "            break\n",
        "            sample_fname, _ = train_loader.dataset.samples[batch_idx]\n",
        "            fname = os.path.split(sample_fname)[-1]\n",
        "\n",
        "            if birds[fname] == 0:\n",
        "                # Train land-env birds\n",
        "                optimizer.zero_grad()\n",
        "                outputs = net(inputs, 0)\n",
        "                land_loss = criterion(outputs, labels.type(torch.LongTensor)) \n",
        "                land_loss.backward()\n",
        "                optimizer.step()\n",
        "                losses[epoch,0] = land_loss.item()\n",
        "                \n",
        "            elif birds[fname] == 1:\n",
        "                if SANITY_CHECK:\n",
        "                # skip; these are water backgrounds. Train only on land bg\n",
        "                # see if corresponding dense layer (fc2) is connected\n",
        "                    water_loss=0\n",
        "                else:\n",
        "                # Train water-env birds\n",
        "                    optimizer.zero_grad()\n",
        "                    outputs = net(inputs, 1)\n",
        "                    water_loss = criterion(outputs, labels.type(torch.LongTensor)) \n",
        "                    water_loss.backward()\n",
        "                    optimizer.step()\n",
        "                    losses[epoch,1] = water_loss.item()\n",
        "        if epoch % 10 == 9:\n",
        "            if SANITY_CHECK:\n",
        "                print(f\"E: {epoch}; Land Loss: {land_loss.item()};\" )\n",
        "            else:\n",
        "                print(f\"E: {epoch}; Land Loss: {land_loss.item()}; \\\n",
        "                Water Loss: {water_loss.item()}\")\n",
        "    return losses"
      ]
    },
    {
      "cell_type": "code",
      "execution_count": 97,
      "metadata": {
        "colab": {
          "base_uri": "https://localhost:8080/",
          "height": 265
        },
        "id": "oh5wp3S13O6m",
        "outputId": "e07ed13a-34da-4505-8c41-b70ced2033ab"
      },
      "outputs": [
        {
          "data": {
            "application/vnd.jupyter.widget-view+json": {
              "model_id": "092c998b1eff41fd9f43a348cae87654",
              "version_major": 2,
              "version_minor": 0
            },
            "text/plain": [
              "  0%|          | 0/50 [00:00<?, ?it/s]"
            ]
          },
          "metadata": {},
          "output_type": "display_data"
        },
        {
          "name": "stdout",
          "output_type": "stream",
          "text": [
            "img_id                                                        11126\n",
            "img_filename      189.Red_bellied_Woodpecker/Red_Bellied_Woodpec...\n",
            "y                                                                 0\n",
            "split                                                             2\n",
            "place                                                             1\n",
            "place_filename                                /o/ocean/00003005.jpg\n",
            "Name: 114, dtype: object\n",
            "img_id                                                           17\n",
            "img_filename      001.Black_footed_Albatross/Black_Footed_Albatr...\n",
            "y                                                                 1\n",
            "split                                                             2\n",
            "place                                                             1\n",
            "place_filename                                /o/ocean/00004537.jpg\n",
            "Name: 16, dtype: object\n",
            "img_id                                                        11108\n",
            "img_filename      189.Red_bellied_Woodpecker/Red_Bellied_Woodpec...\n",
            "y                                                                 0\n",
            "split                                                             0\n",
            "place                                                             0\n",
            "place_filename                        /b/bamboo_forest/00003477.jpg\n",
            "Name: 96, dtype: object\n",
            "img_id                                                            2\n",
            "img_filename      001.Black_footed_Albatross/Black_Footed_Albatr...\n",
            "y                                                                 1\n",
            "split                                                             0\n",
            "place                                                             1\n",
            "place_filename                         /l/lake/natural/00000065.jpg\n",
            "Name: 1, dtype: object\n"
          ]
        },
        {
          "ename": "RuntimeError",
          "evalue": "stack expects each tensor to be equal size, but got [333, 500, 3] at entry 0 and [350, 350, 3] at entry 1",
          "output_type": "error",
          "traceback": [
            "\u001b[1;31m---------------------------------------------------------------------------\u001b[0m",
            "\u001b[1;31mRuntimeError\u001b[0m                              Traceback (most recent call last)",
            "\u001b[1;32mc:\\Users\\Jane\\code\\irm\\2phase.ipynb Cell 14'\u001b[0m in \u001b[0;36m<cell line: 11>\u001b[1;34m()\u001b[0m\n\u001b[0;32m      <a href='vscode-notebook-cell:/c%3A/Users/Jane/code/irm/2phase.ipynb#ch0000013?line=7'>8</a>\u001b[0m optimizer\u001b[39m.\u001b[39mzero_grad()\n\u001b[0;32m      <a href='vscode-notebook-cell:/c%3A/Users/Jane/code/irm/2phase.ipynb#ch0000013?line=8'>9</a>\u001b[0m criterion \u001b[39m=\u001b[39m nn\u001b[39m.\u001b[39mCrossEntropyLoss()\n\u001b[1;32m---> <a href='vscode-notebook-cell:/c%3A/Users/Jane/code/irm/2phase.ipynb#ch0000013?line=10'>11</a>\u001b[0m train_losses \u001b[39m=\u001b[39m train_phase1(dataloader, net)\n",
            "\u001b[1;32mc:\\Users\\Jane\\code\\irm\\2phase.ipynb Cell 13'\u001b[0m in \u001b[0;36mtrain_phase1\u001b[1;34m(data_loader, net)\u001b[0m\n\u001b[0;32m      <a href='vscode-notebook-cell:/c%3A/Users/Jane/code/irm/2phase.ipynb#ch0000012?line=6'>7</a>\u001b[0m losses \u001b[39m=\u001b[39m torch\u001b[39m.\u001b[39mTensor(n_epochs,\u001b[39m2\u001b[39m)\n\u001b[0;32m      <a href='vscode-notebook-cell:/c%3A/Users/Jane/code/irm/2phase.ipynb#ch0000012?line=7'>8</a>\u001b[0m \u001b[39mfor\u001b[39;00m epoch \u001b[39min\u001b[39;00m tqdm(\u001b[39mrange\u001b[39m(n_epochs)):\n\u001b[1;32m----> <a href='vscode-notebook-cell:/c%3A/Users/Jane/code/irm/2phase.ipynb#ch0000012?line=8'>9</a>\u001b[0m     \u001b[39mfor\u001b[39;00m batch_idx, (inputs, labels) \u001b[39min\u001b[39;00m \u001b[39menumerate\u001b[39m(data_loader, \u001b[39m0\u001b[39m):\n\u001b[0;32m     <a href='vscode-notebook-cell:/c%3A/Users/Jane/code/irm/2phase.ipynb#ch0000012?line=9'>10</a>\u001b[0m         \u001b[39mprint\u001b[39m(inputs\u001b[39m.\u001b[39mshape)\n\u001b[0;32m     <a href='vscode-notebook-cell:/c%3A/Users/Jane/code/irm/2phase.ipynb#ch0000012?line=10'>11</a>\u001b[0m         \u001b[39mbreak\u001b[39;00m\n",
            "File \u001b[1;32mc:\\Users\\Jane\\AppData\\Local\\Programs\\Python\\Python310\\lib\\site-packages\\torch\\utils\\data\\dataloader.py:530\u001b[0m, in \u001b[0;36m_BaseDataLoaderIter.__next__\u001b[1;34m(self)\u001b[0m\n\u001b[0;32m    528\u001b[0m \u001b[39mif\u001b[39;00m \u001b[39mself\u001b[39m\u001b[39m.\u001b[39m_sampler_iter \u001b[39mis\u001b[39;00m \u001b[39mNone\u001b[39;00m:\n\u001b[0;32m    529\u001b[0m     \u001b[39mself\u001b[39m\u001b[39m.\u001b[39m_reset()\n\u001b[1;32m--> 530\u001b[0m data \u001b[39m=\u001b[39m \u001b[39mself\u001b[39;49m\u001b[39m.\u001b[39;49m_next_data()\n\u001b[0;32m    531\u001b[0m \u001b[39mself\u001b[39m\u001b[39m.\u001b[39m_num_yielded \u001b[39m+\u001b[39m\u001b[39m=\u001b[39m \u001b[39m1\u001b[39m\n\u001b[0;32m    532\u001b[0m \u001b[39mif\u001b[39;00m \u001b[39mself\u001b[39m\u001b[39m.\u001b[39m_dataset_kind \u001b[39m==\u001b[39m _DatasetKind\u001b[39m.\u001b[39mIterable \u001b[39mand\u001b[39;00m \\\n\u001b[0;32m    533\u001b[0m         \u001b[39mself\u001b[39m\u001b[39m.\u001b[39m_IterableDataset_len_called \u001b[39mis\u001b[39;00m \u001b[39mnot\u001b[39;00m \u001b[39mNone\u001b[39;00m \u001b[39mand\u001b[39;00m \\\n\u001b[0;32m    534\u001b[0m         \u001b[39mself\u001b[39m\u001b[39m.\u001b[39m_num_yielded \u001b[39m>\u001b[39m \u001b[39mself\u001b[39m\u001b[39m.\u001b[39m_IterableDataset_len_called:\n",
            "File \u001b[1;32mc:\\Users\\Jane\\AppData\\Local\\Programs\\Python\\Python310\\lib\\site-packages\\torch\\utils\\data\\dataloader.py:570\u001b[0m, in \u001b[0;36m_SingleProcessDataLoaderIter._next_data\u001b[1;34m(self)\u001b[0m\n\u001b[0;32m    568\u001b[0m \u001b[39mdef\u001b[39;00m \u001b[39m_next_data\u001b[39m(\u001b[39mself\u001b[39m):\n\u001b[0;32m    569\u001b[0m     index \u001b[39m=\u001b[39m \u001b[39mself\u001b[39m\u001b[39m.\u001b[39m_next_index()  \u001b[39m# may raise StopIteration\u001b[39;00m\n\u001b[1;32m--> 570\u001b[0m     data \u001b[39m=\u001b[39m \u001b[39mself\u001b[39;49m\u001b[39m.\u001b[39;49m_dataset_fetcher\u001b[39m.\u001b[39;49mfetch(index)  \u001b[39m# may raise StopIteration\u001b[39;00m\n\u001b[0;32m    571\u001b[0m     \u001b[39mif\u001b[39;00m \u001b[39mself\u001b[39m\u001b[39m.\u001b[39m_pin_memory:\n\u001b[0;32m    572\u001b[0m         data \u001b[39m=\u001b[39m _utils\u001b[39m.\u001b[39mpin_memory\u001b[39m.\u001b[39mpin_memory(data)\n",
            "File \u001b[1;32mc:\\Users\\Jane\\AppData\\Local\\Programs\\Python\\Python310\\lib\\site-packages\\torch\\utils\\data\\_utils\\fetch.py:52\u001b[0m, in \u001b[0;36m_MapDatasetFetcher.fetch\u001b[1;34m(self, possibly_batched_index)\u001b[0m\n\u001b[0;32m     50\u001b[0m \u001b[39melse\u001b[39;00m:\n\u001b[0;32m     51\u001b[0m     data \u001b[39m=\u001b[39m \u001b[39mself\u001b[39m\u001b[39m.\u001b[39mdataset[possibly_batched_index]\n\u001b[1;32m---> 52\u001b[0m \u001b[39mreturn\u001b[39;00m \u001b[39mself\u001b[39;49m\u001b[39m.\u001b[39;49mcollate_fn(data)\n",
            "File \u001b[1;32mc:\\Users\\Jane\\AppData\\Local\\Programs\\Python\\Python310\\lib\\site-packages\\torch\\utils\\data\\_utils\\collate.py:157\u001b[0m, in \u001b[0;36mdefault_collate\u001b[1;34m(batch)\u001b[0m\n\u001b[0;32m    155\u001b[0m \u001b[39melif\u001b[39;00m \u001b[39misinstance\u001b[39m(elem, collections\u001b[39m.\u001b[39mabc\u001b[39m.\u001b[39mMapping):\n\u001b[0;32m    156\u001b[0m     \u001b[39mtry\u001b[39;00m:\n\u001b[1;32m--> 157\u001b[0m         \u001b[39mreturn\u001b[39;00m elem_type({key: default_collate([d[key] \u001b[39mfor\u001b[39;00m d \u001b[39min\u001b[39;00m batch]) \u001b[39mfor\u001b[39;00m key \u001b[39min\u001b[39;00m elem})\n\u001b[0;32m    158\u001b[0m     \u001b[39mexcept\u001b[39;00m \u001b[39mTypeError\u001b[39;00m:\n\u001b[0;32m    159\u001b[0m         \u001b[39m# The mapping type may not support `__init__(iterable)`.\u001b[39;00m\n\u001b[0;32m    160\u001b[0m         \u001b[39mreturn\u001b[39;00m {key: default_collate([d[key] \u001b[39mfor\u001b[39;00m d \u001b[39min\u001b[39;00m batch]) \u001b[39mfor\u001b[39;00m key \u001b[39min\u001b[39;00m elem}\n",
            "File \u001b[1;32mc:\\Users\\Jane\\AppData\\Local\\Programs\\Python\\Python310\\lib\\site-packages\\torch\\utils\\data\\_utils\\collate.py:157\u001b[0m, in \u001b[0;36m<dictcomp>\u001b[1;34m(.0)\u001b[0m\n\u001b[0;32m    155\u001b[0m \u001b[39melif\u001b[39;00m \u001b[39misinstance\u001b[39m(elem, collections\u001b[39m.\u001b[39mabc\u001b[39m.\u001b[39mMapping):\n\u001b[0;32m    156\u001b[0m     \u001b[39mtry\u001b[39;00m:\n\u001b[1;32m--> 157\u001b[0m         \u001b[39mreturn\u001b[39;00m elem_type({key: default_collate([d[key] \u001b[39mfor\u001b[39;49;00m d \u001b[39min\u001b[39;49;00m batch]) \u001b[39mfor\u001b[39;00m key \u001b[39min\u001b[39;00m elem})\n\u001b[0;32m    158\u001b[0m     \u001b[39mexcept\u001b[39;00m \u001b[39mTypeError\u001b[39;00m:\n\u001b[0;32m    159\u001b[0m         \u001b[39m# The mapping type may not support `__init__(iterable)`.\u001b[39;00m\n\u001b[0;32m    160\u001b[0m         \u001b[39mreturn\u001b[39;00m {key: default_collate([d[key] \u001b[39mfor\u001b[39;00m d \u001b[39min\u001b[39;00m batch]) \u001b[39mfor\u001b[39;00m key \u001b[39min\u001b[39;00m elem}\n",
            "File \u001b[1;32mc:\\Users\\Jane\\AppData\\Local\\Programs\\Python\\Python310\\lib\\site-packages\\torch\\utils\\data\\_utils\\collate.py:146\u001b[0m, in \u001b[0;36mdefault_collate\u001b[1;34m(batch)\u001b[0m\n\u001b[0;32m    143\u001b[0m     \u001b[39mif\u001b[39;00m np_str_obj_array_pattern\u001b[39m.\u001b[39msearch(elem\u001b[39m.\u001b[39mdtype\u001b[39m.\u001b[39mstr) \u001b[39mis\u001b[39;00m \u001b[39mnot\u001b[39;00m \u001b[39mNone\u001b[39;00m:\n\u001b[0;32m    144\u001b[0m         \u001b[39mraise\u001b[39;00m \u001b[39mTypeError\u001b[39;00m(default_collate_err_msg_format\u001b[39m.\u001b[39mformat(elem\u001b[39m.\u001b[39mdtype))\n\u001b[1;32m--> 146\u001b[0m     \u001b[39mreturn\u001b[39;00m default_collate([torch\u001b[39m.\u001b[39;49mas_tensor(b) \u001b[39mfor\u001b[39;49;00m b \u001b[39min\u001b[39;49;00m batch])\n\u001b[0;32m    147\u001b[0m \u001b[39melif\u001b[39;00m elem\u001b[39m.\u001b[39mshape \u001b[39m==\u001b[39m ():  \u001b[39m# scalars\u001b[39;00m\n\u001b[0;32m    148\u001b[0m     \u001b[39mreturn\u001b[39;00m torch\u001b[39m.\u001b[39mas_tensor(batch)\n",
            "File \u001b[1;32mc:\\Users\\Jane\\AppData\\Local\\Programs\\Python\\Python310\\lib\\site-packages\\torch\\utils\\data\\_utils\\collate.py:138\u001b[0m, in \u001b[0;36mdefault_collate\u001b[1;34m(batch)\u001b[0m\n\u001b[0;32m    136\u001b[0m         storage \u001b[39m=\u001b[39m elem\u001b[39m.\u001b[39mstorage()\u001b[39m.\u001b[39m_new_shared(numel)\n\u001b[0;32m    137\u001b[0m         out \u001b[39m=\u001b[39m elem\u001b[39m.\u001b[39mnew(storage)\u001b[39m.\u001b[39mresize_(\u001b[39mlen\u001b[39m(batch), \u001b[39m*\u001b[39m\u001b[39mlist\u001b[39m(elem\u001b[39m.\u001b[39msize()))\n\u001b[1;32m--> 138\u001b[0m     \u001b[39mreturn\u001b[39;00m torch\u001b[39m.\u001b[39;49mstack(batch, \u001b[39m0\u001b[39;49m, out\u001b[39m=\u001b[39;49mout)\n\u001b[0;32m    139\u001b[0m \u001b[39melif\u001b[39;00m elem_type\u001b[39m.\u001b[39m\u001b[39m__module__\u001b[39m \u001b[39m==\u001b[39m \u001b[39m'\u001b[39m\u001b[39mnumpy\u001b[39m\u001b[39m'\u001b[39m \u001b[39mand\u001b[39;00m elem_type\u001b[39m.\u001b[39m\u001b[39m__name__\u001b[39m \u001b[39m!=\u001b[39m \u001b[39m'\u001b[39m\u001b[39mstr_\u001b[39m\u001b[39m'\u001b[39m \\\n\u001b[0;32m    140\u001b[0m         \u001b[39mand\u001b[39;00m elem_type\u001b[39m.\u001b[39m\u001b[39m__name__\u001b[39m \u001b[39m!=\u001b[39m \u001b[39m'\u001b[39m\u001b[39mstring_\u001b[39m\u001b[39m'\u001b[39m:\n\u001b[0;32m    141\u001b[0m     \u001b[39mif\u001b[39;00m elem_type\u001b[39m.\u001b[39m\u001b[39m__name__\u001b[39m \u001b[39m==\u001b[39m \u001b[39m'\u001b[39m\u001b[39mndarray\u001b[39m\u001b[39m'\u001b[39m \u001b[39mor\u001b[39;00m elem_type\u001b[39m.\u001b[39m\u001b[39m__name__\u001b[39m \u001b[39m==\u001b[39m \u001b[39m'\u001b[39m\u001b[39mmemmap\u001b[39m\u001b[39m'\u001b[39m:\n\u001b[0;32m    142\u001b[0m         \u001b[39m# array of string classes and object\u001b[39;00m\n",
            "\u001b[1;31mRuntimeError\u001b[0m: stack expects each tensor to be equal size, but got [333, 500, 3] at entry 0 and [350, 350, 3] at entry 1"
          ]
        }
      ],
      "source": [
        "# Training phase 1\n",
        "lr = 0.01\n",
        "n_epochs = 50\n",
        "birds = get_place()\n",
        "net = BasicConvNet(num_classes=2)\n",
        "\n",
        "optimizer = optim.SGD(net.parameters(), lr=lr)\n",
        "optimizer.zero_grad()\n",
        "criterion = nn.CrossEntropyLoss()\n",
        "\n",
        "train_losses = train_phase1(dataloader, net)"
      ]
    },
    {
      "cell_type": "code",
      "execution_count": null,
      "metadata": {},
      "outputs": [
        {
          "data": {
            "image/png": "[encoded data removed]",
            "text/plain": [
              "<Figure size 432x288 with 1 Axes>"
            ]
          },
          "metadata": {
            "needs_background": "light"
          },
          "output_type": "display_data"
        }
      ],
      "source": [
        "plt.plot(train_losses[:,0], label=\"land losses\")\n",
        "plt.plot(train_losses[:,1], label=\"water losses\")\n",
        "plt.legend()\n",
        "plt.show()"
      ]
    },
    {
      "cell_type": "code",
      "execution_count": null,
      "metadata": {
        "colab": {
          "base_uri": "https://localhost:8080/"
        },
        "id": "qmPJsrltSBT9",
        "outputId": "0a141fde-b95a-4045-9bb5-317ae36f5708"
      },
      "outputs": [
        {
          "name": "stdout",
          "output_type": "stream",
          "text": [
            "Model's state_dict:\n",
            "conv2d1.weight \t torch.Size([2, 3, 3, 3])\n",
            "conv2d1.bias \t torch.Size([2])\n",
            "conv2d2.weight \t torch.Size([4, 2, 3, 3])\n",
            "conv2d2.bias \t torch.Size([4])\n",
            "fc1.weight \t torch.Size([2, 12544])\n",
            "fc1.bias \t torch.Size([2])\n",
            "fc2.weight \t torch.Size([2, 12544])\n",
            "fc2.bias \t torch.Size([2])\n"
          ]
        }
      ],
      "source": [
        "# Print model's state_dict\n",
        "print(\"Model's state_dict:\")\n",
        "for param_tensor in net.state_dict():\n",
        "    print(param_tensor, \"\\t\", net.state_dict()[param_tensor].size())\n",
        "torch.save(net.state_dict(), \"phase1\")"
      ]
    },
    {
      "cell_type": "markdown",
      "metadata": {
        "id": "sH8uYMt1O8ye"
      },
      "source": [
        "## Phase 2\n",
        "\n",
        "Train classifiers for environments only, freezing featurizers"
      ]
    },
    {
      "cell_type": "code",
      "execution_count": null,
      "metadata": {
        "colab": {
          "base_uri": "https://localhost:8080/"
        },
        "id": "B-2oNWylSwa_",
        "outputId": "d5d6737d-4fab-4d5e-8294-c63c2fceb783"
      },
      "outputs": [],
      "source": [
        "def freeze_featurizer(net):\n",
        "    for layer in net.children():\n",
        "        # unless it's the last linear layer, freeze everything.\n",
        "        for p in layer.parameters():\n",
        "            p.requires_grad = False\n",
        "        if layer.__class__.__name__ == 'Linear':\n",
        "            # if it's one of the first environment weights, let it train\n",
        "            for i,p in enumerate(layer.parameters()):\n",
        "                if i < 2: p.requires_grad=True\n",
        "\n",
        "    for layer in net.children():\n",
        "        print(layer.__class__.__name__)\n",
        "        for p in layer.parameters(): \n",
        "            # TODO: fix this! It just does weight, bias as the two parameters.\n",
        "            print(\"is frozen: \", str(not p.requires_grad))"
      ]
    },
    {
      "cell_type": "code",
      "execution_count": null,
      "metadata": {
        "colab": {
          "base_uri": "https://localhost:8080/",
          "height": 136,
          "referenced_widgets": [
            "8ebeb8a4e2164e7c922d02d52d1a2e27",
            "2e99193cf7b7457d83fc949e114be9bc",
            "f3adc05bef4f4bcb854cdcb299a03540",
            "a0c0918f042b46de99346cc2444129a8",
            "f060a36e4561460581e6d6ee38c084e2",
            "770394e06af5497ead0faed5772e0248",
            "8e4c733836044176988332437f2b77d3",
            "b6ee6a4d6862469db2662b23f95f6518",
            "a3aae7c31a564a5fa7737ee45171f0e8",
            "2bbd07fcbee54223be0e91719dad6645",
            "574b5b73d2c742bf88812b44bac387c7"
          ]
        },
        "id": "zOprbv1gO8yf",
        "outputId": "0fd188c6-031c-4ebf-a33d-c0fe5615836f"
      },
      "outputs": [
        {
          "data": {
            "application/vnd.jupyter.widget-view+json": {
              "model_id": "dc524d6274e946488c8ba9195ee365b6",
              "version_major": 2,
              "version_minor": 0
            },
            "text/plain": [
              "  0%|          | 0/50 [00:00<?, ?it/s]"
            ]
          },
          "metadata": {},
          "output_type": "display_data"
        },
        {
          "name": "stdout",
          "output_type": "stream",
          "text": [
            "E: 9; Loss: 3.218599158572033e-05\n",
            "E: 19; Loss: 0.0\n",
            "E: 29; Loss: 0.0004757702990900725\n",
            "E: 39; Loss: 2.729855441430118e-05\n",
            "E: 49; Loss: 3.2543604902457446e-05\n"
          ]
        }
      ],
      "source": [
        "def train_phase2(data_loader,net):\n",
        "    l_optim_frozen = optim.SGD(\n",
        "        filter(lambda p: p.requires_grad, net.parameters()), lr=lr)\n",
        "    losses = torch.Tensor(n_epochs)\n",
        "\n",
        "    for epoch in tq.tqdm(range(n_epochs)):\n",
        "        for batch_idx, data in enumerate(data_loader):\n",
        "            inputs, labels = data\n",
        "            l_optim_frozen.zero_grad()\n",
        "\n",
        "            sample_fname, _ = data_loader.dataset.samples[batch_idx]\n",
        "            fname = sample_fname.split('/')[-1]\n",
        "\n",
        "            # Train land-env birds\n",
        "            outputs = net(inputs, 0) \n",
        "        \n",
        "            # we're only working with the first weights now \n",
        "            loss = criterion(outputs, labels.type(torch.LongTensor)) \n",
        "            loss.backward()\n",
        "            l_optim_frozen.step()\n",
        "            losses[epoch] = loss.item()\n",
        "\n",
        "        if epoch % 10 == 9:    \n",
        "            print(f\"E: {epoch}; Loss: {loss.item()}\")"
      ]
    },
    {
      "cell_type": "code",
      "execution_count": null,
      "metadata": {},
      "outputs": [
        {
          "ename": "NameError",
          "evalue": "name 'freeze_featurizer' is not defined",
          "output_type": "error",
          "traceback": [
            "\u001b[1;31m---------------------------------------------------------------------------\u001b[0m",
            "\u001b[1;31mNameError\u001b[0m                                 Traceback (most recent call last)",
            "\u001b[1;32mc:\\Users\\Jane\\code\\irm\\2phase.ipynb Cell 20'\u001b[0m in \u001b[0;36m<cell line: 1>\u001b[1;34m()\u001b[0m\n\u001b[1;32m----> <a href='vscode-notebook-cell:/c%3A/Users/Jane/code/irm/2phase.ipynb#ch0000019?line=0'>1</a>\u001b[0m freeze_featurizer(net)\n\u001b[0;32m      <a href='vscode-notebook-cell:/c%3A/Users/Jane/code/irm/2phase.ipynb#ch0000019?line=1'>2</a>\u001b[0m train_phase2(train_loader, net)\n\u001b[0;32m      <a href='vscode-notebook-cell:/c%3A/Users/Jane/code/irm/2phase.ipynb#ch0000019?line=2'>3</a>\u001b[0m test(val_loader, net)\n",
            "\u001b[1;31mNameError\u001b[0m: name 'freeze_featurizer' is not defined"
          ]
        }
      ],
      "source": [
        "freeze_featurizer(net)\n",
        "train_phase2(train_loader, net)\n",
        "test(val_loader, net)"
      ]
    },
    {
      "cell_type": "code",
      "execution_count": null,
      "metadata": {
        "colab": {
          "base_uri": "https://localhost:8080/",
          "height": 439
        },
        "id": "-Pfu3hetO8yg",
        "outputId": "0a5621a3-cca5-4d62-d442-a1638b15f03b"
      },
      "outputs": [
        {
          "name": "stdout",
          "output_type": "stream",
          "text": [
            "torch.Size([50])\n",
            "tensor([6.3894e-05, 1.9751e-04, 1.4674e-04, 4.7684e-06, 1.8166e-04, 5.5083e-04,\n",
            "        6.5205e-05, 0.0000e+00, 3.3492e-04, 3.2186e-05, 5.0615e-04, 1.4161e-04,\n",
            "        1.2516e-04, 2.2266e-04, 1.4781e-04, 5.2272e-04, 4.3034e-05, 1.4054e-04,\n",
            "        1.3471e-05, 0.0000e+00, 1.7403e-04, 7.0212e-05, 4.3407e-04, 2.1458e-06,\n",
            "        5.2452e-06, 1.7451e-04, 9.5548e-04, 3.0739e-04, 2.1336e-04, 4.7577e-04,\n",
            "        1.1921e-07, 0.0000e+00, 7.8678e-06, 2.8371e-05, 2.1408e-04, 2.6941e-05,\n",
            "        1.6080e-04, 4.8994e-05, 7.8695e-04, 2.7299e-05, 1.5497e-06, 4.0714e-04,\n",
            "        2.1815e-05, 8.5231e-05, 4.6385e-04, 1.9942e-04, 3.2110e-04, 4.2418e-04,\n",
            "        5.2452e-06, 3.2544e-05])\n"
          ]
        },
        {
          "data": {
            "image/png": "[encoded data removed]",
            "text/plain": [
              "<Figure size 432x288 with 1 Axes>"
            ]
          },
          "metadata": {
            "needs_background": "light"
          },
          "output_type": "display_data"
        }
      ],
      "source": [
        "print(losses.shape)\n",
        "print(losses)\n",
        "plt.plot(losses, label=\"losses\")\n",
        "plt.legend()\n",
        "plt.show()"
      ]
    }
  ],
  "metadata": {
    "accelerator": "GPU",
    "colab": {
      "collapsed_sections": [],
      "name": "2phase.ipynb",
      "provenance": []
    },
    "interpreter": {
      "hash": "a208a06fa4e2651cc077ea8d8f2b0f5b3b3c162cdb2e7af3609a8fa32e180259"
    },
    "kernelspec": {
      "display_name": "Python 3.10.4 64-bit",
      "language": "python",
      "name": "python3"
    },
    "language_info": {
      "codemirror_mode": {
        "name": "ipython",
        "version": 3
      },
      "file_extension": ".py",
      "mimetype": "text/x-python",
      "name": "python",
      "nbconvert_exporter": "python",
      "pygments_lexer": "ipython3",
      "version": "3.10.4"
    },
    "orig_nbformat": 4,
    "widgets": {
      "application/vnd.jupyter.widget-state+json": {
        "09c19d5952f4454abf3ad00fbe84c458": {
          "model_module": "@jupyter-widgets/controls",
          "model_module_version": "1.5.0",
          "model_name": "HBoxModel",
          "state": {
            "_dom_classes": [],
            "_model_module": "@jupyter-widgets/controls",
            "_model_module_version": "1.5.0",
            "_model_name": "HBoxModel",
            "_view_count": null,
            "_view_module": "@jupyter-widgets/controls",
            "_view_module_version": "1.5.0",
            "_view_name": "HBoxView",
            "box_style": "",
            "children": [
              "IPY_MODEL_82bfa5fdf7e84a9cb06841320c8f1a4d",
              "IPY_MODEL_df18ee5bb3544220807d3424c9a73629",
              "IPY_MODEL_6bd43f7483d64f26b2c9ec71471dffbb"
            ],
            "layout": "IPY_MODEL_ba45666e92294bcfbfc14059c6822e87"
          }
        },
        "09e0a4c64a874d54b0b88fade4bd4852": {
          "model_module": "@jupyter-widgets/controls",
          "model_module_version": "1.5.0",
          "model_name": "DescriptionStyleModel",
          "state": {
            "_model_module": "@jupyter-widgets/controls",
            "_model_module_version": "1.5.0",
            "_model_name": "DescriptionStyleModel",
            "_view_count": null,
            "_view_module": "@jupyter-widgets/base",
            "_view_module_version": "1.2.0",
            "_view_name": "StyleView",
            "description_width": ""
          }
        },
        "1de939196bd3422cac46d14fd7518231": {
          "model_module": "@jupyter-widgets/base",
          "model_module_version": "1.2.0",
          "model_name": "LayoutModel",
          "state": {
            "_model_module": "@jupyter-widgets/base",
            "_model_module_version": "1.2.0",
            "_model_name": "LayoutModel",
            "_view_count": null,
            "_view_module": "@jupyter-widgets/base",
            "_view_module_version": "1.2.0",
            "_view_name": "LayoutView",
            "align_content": null,
            "align_items": null,
            "align_self": null,
            "border": null,
            "bottom": null,
            "display": null,
            "flex": null,
            "flex_flow": null,
            "grid_area": null,
            "grid_auto_columns": null,
            "grid_auto_flow": null,
            "grid_auto_rows": null,
            "grid_column": null,
            "grid_gap": null,
            "grid_row": null,
            "grid_template_areas": null,
            "grid_template_columns": null,
            "grid_template_rows": null,
            "height": null,
            "justify_content": null,
            "justify_items": null,
            "left": null,
            "margin": null,
            "max_height": null,
            "max_width": null,
            "min_height": null,
            "min_width": null,
            "object_fit": null,
            "object_position": null,
            "order": null,
            "overflow": null,
            "overflow_x": null,
            "overflow_y": null,
            "padding": null,
            "right": null,
            "top": null,
            "visibility": null,
            "width": null
          }
        },
        "228d4ae07f0a48f6a017fb1c2eb0f318": {
          "model_module": "@jupyter-widgets/base",
          "model_module_version": "1.2.0",
          "model_name": "LayoutModel",
          "state": {
            "_model_module": "@jupyter-widgets/base",
            "_model_module_version": "1.2.0",
            "_model_name": "LayoutModel",
            "_view_count": null,
            "_view_module": "@jupyter-widgets/base",
            "_view_module_version": "1.2.0",
            "_view_name": "LayoutView",
            "align_content": null,
            "align_items": null,
            "align_self": null,
            "border": null,
            "bottom": null,
            "display": null,
            "flex": null,
            "flex_flow": null,
            "grid_area": null,
            "grid_auto_columns": null,
            "grid_auto_flow": null,
            "grid_auto_rows": null,
            "grid_column": null,
            "grid_gap": null,
            "grid_row": null,
            "grid_template_areas": null,
            "grid_template_columns": null,
            "grid_template_rows": null,
            "height": null,
            "justify_content": null,
            "justify_items": null,
            "left": null,
            "margin": null,
            "max_height": null,
            "max_width": null,
            "min_height": null,
            "min_width": null,
            "object_fit": null,
            "object_position": null,
            "order": null,
            "overflow": null,
            "overflow_x": null,
            "overflow_y": null,
            "padding": null,
            "right": null,
            "top": null,
            "visibility": null,
            "width": null
          }
        },
        "2b2242026e814a7c87d02463777f9c7b": {
          "model_module": "@jupyter-widgets/controls",
          "model_module_version": "1.5.0",
          "model_name": "HTMLModel",
          "state": {
            "_dom_classes": [],
            "_model_module": "@jupyter-widgets/controls",
            "_model_module_version": "1.5.0",
            "_model_name": "HTMLModel",
            "_view_count": null,
            "_view_module": "@jupyter-widgets/controls",
            "_view_module_version": "1.5.0",
            "_view_name": "HTMLView",
            "description": "",
            "description_tooltip": null,
            "layout": "IPY_MODEL_1de939196bd3422cac46d14fd7518231",
            "placeholder": "​",
            "style": "IPY_MODEL_76b4648074954d82b917aa3d3594a9ad",
            "value": " 50/50 [01:02&lt;00:00,  1.19s/it]"
          }
        },
        "2bbd07fcbee54223be0e91719dad6645": {
          "model_module": "@jupyter-widgets/base",
          "model_module_version": "1.2.0",
          "model_name": "LayoutModel",
          "state": {
            "_model_module": "@jupyter-widgets/base",
            "_model_module_version": "1.2.0",
            "_model_name": "LayoutModel",
            "_view_count": null,
            "_view_module": "@jupyter-widgets/base",
            "_view_module_version": "1.2.0",
            "_view_name": "LayoutView",
            "align_content": null,
            "align_items": null,
            "align_self": null,
            "border": null,
            "bottom": null,
            "display": null,
            "flex": null,
            "flex_flow": null,
            "grid_area": null,
            "grid_auto_columns": null,
            "grid_auto_flow": null,
            "grid_auto_rows": null,
            "grid_column": null,
            "grid_gap": null,
            "grid_row": null,
            "grid_template_areas": null,
            "grid_template_columns": null,
            "grid_template_rows": null,
            "height": null,
            "justify_content": null,
            "justify_items": null,
            "left": null,
            "margin": null,
            "max_height": null,
            "max_width": null,
            "min_height": null,
            "min_width": null,
            "object_fit": null,
            "object_position": null,
            "order": null,
            "overflow": null,
            "overflow_x": null,
            "overflow_y": null,
            "padding": null,
            "right": null,
            "top": null,
            "visibility": null,
            "width": null
          }
        },
        "2e708e2b089d4ec9b2095b5c29399d63": {
          "model_module": "@jupyter-widgets/controls",
          "model_module_version": "1.5.0",
          "model_name": "ProgressStyleModel",
          "state": {
            "_model_module": "@jupyter-widgets/controls",
            "_model_module_version": "1.5.0",
            "_model_name": "ProgressStyleModel",
            "_view_count": null,
            "_view_module": "@jupyter-widgets/base",
            "_view_module_version": "1.2.0",
            "_view_name": "StyleView",
            "bar_color": null,
            "description_width": ""
          }
        },
        "2e99193cf7b7457d83fc949e114be9bc": {
          "model_module": "@jupyter-widgets/controls",
          "model_module_version": "1.5.0",
          "model_name": "HTMLModel",
          "state": {
            "_dom_classes": [],
            "_model_module": "@jupyter-widgets/controls",
            "_model_module_version": "1.5.0",
            "_model_name": "HTMLModel",
            "_view_count": null,
            "_view_module": "@jupyter-widgets/controls",
            "_view_module_version": "1.5.0",
            "_view_name": "HTMLView",
            "description": "",
            "description_tooltip": null,
            "layout": "IPY_MODEL_770394e06af5497ead0faed5772e0248",
            "placeholder": "​",
            "style": "IPY_MODEL_8e4c733836044176988332437f2b77d3",
            "value": "100%"
          }
        },
        "3ef337d9c8684b5c99ef6f7722a7f179": {
          "model_module": "@jupyter-widgets/base",
          "model_module_version": "1.2.0",
          "model_name": "LayoutModel",
          "state": {
            "_model_module": "@jupyter-widgets/base",
            "_model_module_version": "1.2.0",
            "_model_name": "LayoutModel",
            "_view_count": null,
            "_view_module": "@jupyter-widgets/base",
            "_view_module_version": "1.2.0",
            "_view_name": "LayoutView",
            "align_content": null,
            "align_items": null,
            "align_self": null,
            "border": null,
            "bottom": null,
            "display": null,
            "flex": null,
            "flex_flow": null,
            "grid_area": null,
            "grid_auto_columns": null,
            "grid_auto_flow": null,
            "grid_auto_rows": null,
            "grid_column": null,
            "grid_gap": null,
            "grid_row": null,
            "grid_template_areas": null,
            "grid_template_columns": null,
            "grid_template_rows": null,
            "height": null,
            "justify_content": null,
            "justify_items": null,
            "left": null,
            "margin": null,
            "max_height": null,
            "max_width": null,
            "min_height": null,
            "min_width": null,
            "object_fit": null,
            "object_position": null,
            "order": null,
            "overflow": null,
            "overflow_x": null,
            "overflow_y": null,
            "padding": null,
            "right": null,
            "top": null,
            "visibility": null,
            "width": null
          }
        },
        "574b5b73d2c742bf88812b44bac387c7": {
          "model_module": "@jupyter-widgets/controls",
          "model_module_version": "1.5.0",
          "model_name": "DescriptionStyleModel",
          "state": {
            "_model_module": "@jupyter-widgets/controls",
            "_model_module_version": "1.5.0",
            "_model_name": "DescriptionStyleModel",
            "_view_count": null,
            "_view_module": "@jupyter-widgets/base",
            "_view_module_version": "1.2.0",
            "_view_name": "StyleView",
            "description_width": ""
          }
        },
        "5d5b920bb2ce4dd9b9cf1806c0870325": {
          "model_module": "@jupyter-widgets/controls",
          "model_module_version": "1.5.0",
          "model_name": "ProgressStyleModel",
          "state": {
            "_model_module": "@jupyter-widgets/controls",
            "_model_module_version": "1.5.0",
            "_model_name": "ProgressStyleModel",
            "_view_count": null,
            "_view_module": "@jupyter-widgets/base",
            "_view_module_version": "1.2.0",
            "_view_name": "StyleView",
            "bar_color": null,
            "description_width": ""
          }
        },
        "66bafab3feb243ada16b6c0e5d450e38": {
          "model_module": "@jupyter-widgets/base",
          "model_module_version": "1.2.0",
          "model_name": "LayoutModel",
          "state": {
            "_model_module": "@jupyter-widgets/base",
            "_model_module_version": "1.2.0",
            "_model_name": "LayoutModel",
            "_view_count": null,
            "_view_module": "@jupyter-widgets/base",
            "_view_module_version": "1.2.0",
            "_view_name": "LayoutView",
            "align_content": null,
            "align_items": null,
            "align_self": null,
            "border": null,
            "bottom": null,
            "display": null,
            "flex": null,
            "flex_flow": null,
            "grid_area": null,
            "grid_auto_columns": null,
            "grid_auto_flow": null,
            "grid_auto_rows": null,
            "grid_column": null,
            "grid_gap": null,
            "grid_row": null,
            "grid_template_areas": null,
            "grid_template_columns": null,
            "grid_template_rows": null,
            "height": null,
            "justify_content": null,
            "justify_items": null,
            "left": null,
            "margin": null,
            "max_height": null,
            "max_width": null,
            "min_height": null,
            "min_width": null,
            "object_fit": null,
            "object_position": null,
            "order": null,
            "overflow": null,
            "overflow_x": null,
            "overflow_y": null,
            "padding": null,
            "right": null,
            "top": null,
            "visibility": null,
            "width": null
          }
        },
        "6bd43f7483d64f26b2c9ec71471dffbb": {
          "model_module": "@jupyter-widgets/controls",
          "model_module_version": "1.5.0",
          "model_name": "HTMLModel",
          "state": {
            "_dom_classes": [],
            "_model_module": "@jupyter-widgets/controls",
            "_model_module_version": "1.5.0",
            "_model_name": "HTMLModel",
            "_view_count": null,
            "_view_module": "@jupyter-widgets/controls",
            "_view_module_version": "1.5.0",
            "_view_name": "HTMLView",
            "description": "",
            "description_tooltip": null,
            "layout": "IPY_MODEL_66bafab3feb243ada16b6c0e5d450e38",
            "placeholder": "​",
            "style": "IPY_MODEL_09e0a4c64a874d54b0b88fade4bd4852",
            "value": " 50/50 [01:01&lt;00:00,  1.24s/it]"
          }
        },
        "6befdf2cb06b4dd08fb7b8d3266f931f": {
          "model_module": "@jupyter-widgets/base",
          "model_module_version": "1.2.0",
          "model_name": "LayoutModel",
          "state": {
            "_model_module": "@jupyter-widgets/base",
            "_model_module_version": "1.2.0",
            "_model_name": "LayoutModel",
            "_view_count": null,
            "_view_module": "@jupyter-widgets/base",
            "_view_module_version": "1.2.0",
            "_view_name": "LayoutView",
            "align_content": null,
            "align_items": null,
            "align_self": null,
            "border": null,
            "bottom": null,
            "display": null,
            "flex": null,
            "flex_flow": null,
            "grid_area": null,
            "grid_auto_columns": null,
            "grid_auto_flow": null,
            "grid_auto_rows": null,
            "grid_column": null,
            "grid_gap": null,
            "grid_row": null,
            "grid_template_areas": null,
            "grid_template_columns": null,
            "grid_template_rows": null,
            "height": null,
            "justify_content": null,
            "justify_items": null,
            "left": null,
            "margin": null,
            "max_height": null,
            "max_width": null,
            "min_height": null,
            "min_width": null,
            "object_fit": null,
            "object_position": null,
            "order": null,
            "overflow": null,
            "overflow_x": null,
            "overflow_y": null,
            "padding": null,
            "right": null,
            "top": null,
            "visibility": null,
            "width": null
          }
        },
        "76b4648074954d82b917aa3d3594a9ad": {
          "model_module": "@jupyter-widgets/controls",
          "model_module_version": "1.5.0",
          "model_name": "DescriptionStyleModel",
          "state": {
            "_model_module": "@jupyter-widgets/controls",
            "_model_module_version": "1.5.0",
            "_model_name": "DescriptionStyleModel",
            "_view_count": null,
            "_view_module": "@jupyter-widgets/base",
            "_view_module_version": "1.2.0",
            "_view_name": "StyleView",
            "description_width": ""
          }
        },
        "770394e06af5497ead0faed5772e0248": {
          "model_module": "@jupyter-widgets/base",
          "model_module_version": "1.2.0",
          "model_name": "LayoutModel",
          "state": {
            "_model_module": "@jupyter-widgets/base",
            "_model_module_version": "1.2.0",
            "_model_name": "LayoutModel",
            "_view_count": null,
            "_view_module": "@jupyter-widgets/base",
            "_view_module_version": "1.2.0",
            "_view_name": "LayoutView",
            "align_content": null,
            "align_items": null,
            "align_self": null,
            "border": null,
            "bottom": null,
            "display": null,
            "flex": null,
            "flex_flow": null,
            "grid_area": null,
            "grid_auto_columns": null,
            "grid_auto_flow": null,
            "grid_auto_rows": null,
            "grid_column": null,
            "grid_gap": null,
            "grid_row": null,
            "grid_template_areas": null,
            "grid_template_columns": null,
            "grid_template_rows": null,
            "height": null,
            "justify_content": null,
            "justify_items": null,
            "left": null,
            "margin": null,
            "max_height": null,
            "max_width": null,
            "min_height": null,
            "min_width": null,
            "object_fit": null,
            "object_position": null,
            "order": null,
            "overflow": null,
            "overflow_x": null,
            "overflow_y": null,
            "padding": null,
            "right": null,
            "top": null,
            "visibility": null,
            "width": null
          }
        },
        "82bfa5fdf7e84a9cb06841320c8f1a4d": {
          "model_module": "@jupyter-widgets/controls",
          "model_module_version": "1.5.0",
          "model_name": "HTMLModel",
          "state": {
            "_dom_classes": [],
            "_model_module": "@jupyter-widgets/controls",
            "_model_module_version": "1.5.0",
            "_model_name": "HTMLModel",
            "_view_count": null,
            "_view_module": "@jupyter-widgets/controls",
            "_view_module_version": "1.5.0",
            "_view_name": "HTMLView",
            "description": "",
            "description_tooltip": null,
            "layout": "IPY_MODEL_6befdf2cb06b4dd08fb7b8d3266f931f",
            "placeholder": "​",
            "style": "IPY_MODEL_d76b4dc0ae6848b8be765f69ec5d601b",
            "value": "100%"
          }
        },
        "8e4c733836044176988332437f2b77d3": {
          "model_module": "@jupyter-widgets/controls",
          "model_module_version": "1.5.0",
          "model_name": "DescriptionStyleModel",
          "state": {
            "_model_module": "@jupyter-widgets/controls",
            "_model_module_version": "1.5.0",
            "_model_name": "DescriptionStyleModel",
            "_view_count": null,
            "_view_module": "@jupyter-widgets/base",
            "_view_module_version": "1.2.0",
            "_view_name": "StyleView",
            "description_width": ""
          }
        },
        "8ebeb8a4e2164e7c922d02d52d1a2e27": {
          "model_module": "@jupyter-widgets/controls",
          "model_module_version": "1.5.0",
          "model_name": "HBoxModel",
          "state": {
            "_dom_classes": [],
            "_model_module": "@jupyter-widgets/controls",
            "_model_module_version": "1.5.0",
            "_model_name": "HBoxModel",
            "_view_count": null,
            "_view_module": "@jupyter-widgets/controls",
            "_view_module_version": "1.5.0",
            "_view_name": "HBoxView",
            "box_style": "",
            "children": [
              "IPY_MODEL_2e99193cf7b7457d83fc949e114be9bc",
              "IPY_MODEL_f3adc05bef4f4bcb854cdcb299a03540",
              "IPY_MODEL_a0c0918f042b46de99346cc2444129a8"
            ],
            "layout": "IPY_MODEL_f060a36e4561460581e6d6ee38c084e2"
          }
        },
        "9ef4230724974dee8bc5526415d13911": {
          "model_module": "@jupyter-widgets/controls",
          "model_module_version": "1.5.0",
          "model_name": "FloatProgressModel",
          "state": {
            "_dom_classes": [],
            "_model_module": "@jupyter-widgets/controls",
            "_model_module_version": "1.5.0",
            "_model_name": "FloatProgressModel",
            "_view_count": null,
            "_view_module": "@jupyter-widgets/controls",
            "_view_module_version": "1.5.0",
            "_view_name": "ProgressView",
            "bar_style": "success",
            "description": "",
            "description_tooltip": null,
            "layout": "IPY_MODEL_3ef337d9c8684b5c99ef6f7722a7f179",
            "max": 50,
            "min": 0,
            "orientation": "horizontal",
            "style": "IPY_MODEL_5d5b920bb2ce4dd9b9cf1806c0870325",
            "value": 50
          }
        },
        "a0c0918f042b46de99346cc2444129a8": {
          "model_module": "@jupyter-widgets/controls",
          "model_module_version": "1.5.0",
          "model_name": "HTMLModel",
          "state": {
            "_dom_classes": [],
            "_model_module": "@jupyter-widgets/controls",
            "_model_module_version": "1.5.0",
            "_model_name": "HTMLModel",
            "_view_count": null,
            "_view_module": "@jupyter-widgets/controls",
            "_view_module_version": "1.5.0",
            "_view_name": "HTMLView",
            "description": "",
            "description_tooltip": null,
            "layout": "IPY_MODEL_2bbd07fcbee54223be0e91719dad6645",
            "placeholder": "​",
            "style": "IPY_MODEL_574b5b73d2c742bf88812b44bac387c7",
            "value": " 50/50 [00:47&lt;00:00,  1.06it/s]"
          }
        },
        "a3aae7c31a564a5fa7737ee45171f0e8": {
          "model_module": "@jupyter-widgets/controls",
          "model_module_version": "1.5.0",
          "model_name": "ProgressStyleModel",
          "state": {
            "_model_module": "@jupyter-widgets/controls",
            "_model_module_version": "1.5.0",
            "_model_name": "ProgressStyleModel",
            "_view_count": null,
            "_view_module": "@jupyter-widgets/base",
            "_view_module_version": "1.2.0",
            "_view_name": "StyleView",
            "bar_color": null,
            "description_width": ""
          }
        },
        "adf4f1870f6e45e0a799a6f1a49c98e9": {
          "model_module": "@jupyter-widgets/controls",
          "model_module_version": "1.5.0",
          "model_name": "DescriptionStyleModel",
          "state": {
            "_model_module": "@jupyter-widgets/controls",
            "_model_module_version": "1.5.0",
            "_model_name": "DescriptionStyleModel",
            "_view_count": null,
            "_view_module": "@jupyter-widgets/base",
            "_view_module_version": "1.2.0",
            "_view_name": "StyleView",
            "description_width": ""
          }
        },
        "b6ee6a4d6862469db2662b23f95f6518": {
          "model_module": "@jupyter-widgets/base",
          "model_module_version": "1.2.0",
          "model_name": "LayoutModel",
          "state": {
            "_model_module": "@jupyter-widgets/base",
            "_model_module_version": "1.2.0",
            "_model_name": "LayoutModel",
            "_view_count": null,
            "_view_module": "@jupyter-widgets/base",
            "_view_module_version": "1.2.0",
            "_view_name": "LayoutView",
            "align_content": null,
            "align_items": null,
            "align_self": null,
            "border": null,
            "bottom": null,
            "display": null,
            "flex": null,
            "flex_flow": null,
            "grid_area": null,
            "grid_auto_columns": null,
            "grid_auto_flow": null,
            "grid_auto_rows": null,
            "grid_column": null,
            "grid_gap": null,
            "grid_row": null,
            "grid_template_areas": null,
            "grid_template_columns": null,
            "grid_template_rows": null,
            "height": null,
            "justify_content": null,
            "justify_items": null,
            "left": null,
            "margin": null,
            "max_height": null,
            "max_width": null,
            "min_height": null,
            "min_width": null,
            "object_fit": null,
            "object_position": null,
            "order": null,
            "overflow": null,
            "overflow_x": null,
            "overflow_y": null,
            "padding": null,
            "right": null,
            "top": null,
            "visibility": null,
            "width": null
          }
        },
        "ba45666e92294bcfbfc14059c6822e87": {
          "model_module": "@jupyter-widgets/base",
          "model_module_version": "1.2.0",
          "model_name": "LayoutModel",
          "state": {
            "_model_module": "@jupyter-widgets/base",
            "_model_module_version": "1.2.0",
            "_model_name": "LayoutModel",
            "_view_count": null,
            "_view_module": "@jupyter-widgets/base",
            "_view_module_version": "1.2.0",
            "_view_name": "LayoutView",
            "align_content": null,
            "align_items": null,
            "align_self": null,
            "border": null,
            "bottom": null,
            "display": null,
            "flex": null,
            "flex_flow": null,
            "grid_area": null,
            "grid_auto_columns": null,
            "grid_auto_flow": null,
            "grid_auto_rows": null,
            "grid_column": null,
            "grid_gap": null,
            "grid_row": null,
            "grid_template_areas": null,
            "grid_template_columns": null,
            "grid_template_rows": null,
            "height": null,
            "justify_content": null,
            "justify_items": null,
            "left": null,
            "margin": null,
            "max_height": null,
            "max_width": null,
            "min_height": null,
            "min_width": null,
            "object_fit": null,
            "object_position": null,
            "order": null,
            "overflow": null,
            "overflow_x": null,
            "overflow_y": null,
            "padding": null,
            "right": null,
            "top": null,
            "visibility": null,
            "width": null
          }
        },
        "cc2acb3c7f714cdf97ebc02af995dbbc": {
          "model_module": "@jupyter-widgets/base",
          "model_module_version": "1.2.0",
          "model_name": "LayoutModel",
          "state": {
            "_model_module": "@jupyter-widgets/base",
            "_model_module_version": "1.2.0",
            "_model_name": "LayoutModel",
            "_view_count": null,
            "_view_module": "@jupyter-widgets/base",
            "_view_module_version": "1.2.0",
            "_view_name": "LayoutView",
            "align_content": null,
            "align_items": null,
            "align_self": null,
            "border": null,
            "bottom": null,
            "display": null,
            "flex": null,
            "flex_flow": null,
            "grid_area": null,
            "grid_auto_columns": null,
            "grid_auto_flow": null,
            "grid_auto_rows": null,
            "grid_column": null,
            "grid_gap": null,
            "grid_row": null,
            "grid_template_areas": null,
            "grid_template_columns": null,
            "grid_template_rows": null,
            "height": null,
            "justify_content": null,
            "justify_items": null,
            "left": null,
            "margin": null,
            "max_height": null,
            "max_width": null,
            "min_height": null,
            "min_width": null,
            "object_fit": null,
            "object_position": null,
            "order": null,
            "overflow": null,
            "overflow_x": null,
            "overflow_y": null,
            "padding": null,
            "right": null,
            "top": null,
            "visibility": null,
            "width": null
          }
        },
        "d76b4dc0ae6848b8be765f69ec5d601b": {
          "model_module": "@jupyter-widgets/controls",
          "model_module_version": "1.5.0",
          "model_name": "DescriptionStyleModel",
          "state": {
            "_model_module": "@jupyter-widgets/controls",
            "_model_module_version": "1.5.0",
            "_model_name": "DescriptionStyleModel",
            "_view_count": null,
            "_view_module": "@jupyter-widgets/base",
            "_view_module_version": "1.2.0",
            "_view_name": "StyleView",
            "description_width": ""
          }
        },
        "dad9388f9ea24578a60a6ddff11c892f": {
          "model_module": "@jupyter-widgets/base",
          "model_module_version": "1.2.0",
          "model_name": "LayoutModel",
          "state": {
            "_model_module": "@jupyter-widgets/base",
            "_model_module_version": "1.2.0",
            "_model_name": "LayoutModel",
            "_view_count": null,
            "_view_module": "@jupyter-widgets/base",
            "_view_module_version": "1.2.0",
            "_view_name": "LayoutView",
            "align_content": null,
            "align_items": null,
            "align_self": null,
            "border": null,
            "bottom": null,
            "display": null,
            "flex": null,
            "flex_flow": null,
            "grid_area": null,
            "grid_auto_columns": null,
            "grid_auto_flow": null,
            "grid_auto_rows": null,
            "grid_column": null,
            "grid_gap": null,
            "grid_row": null,
            "grid_template_areas": null,
            "grid_template_columns": null,
            "grid_template_rows": null,
            "height": null,
            "justify_content": null,
            "justify_items": null,
            "left": null,
            "margin": null,
            "max_height": null,
            "max_width": null,
            "min_height": null,
            "min_width": null,
            "object_fit": null,
            "object_position": null,
            "order": null,
            "overflow": null,
            "overflow_x": null,
            "overflow_y": null,
            "padding": null,
            "right": null,
            "top": null,
            "visibility": null,
            "width": null
          }
        },
        "df18ee5bb3544220807d3424c9a73629": {
          "model_module": "@jupyter-widgets/controls",
          "model_module_version": "1.5.0",
          "model_name": "FloatProgressModel",
          "state": {
            "_dom_classes": [],
            "_model_module": "@jupyter-widgets/controls",
            "_model_module_version": "1.5.0",
            "_model_name": "FloatProgressModel",
            "_view_count": null,
            "_view_module": "@jupyter-widgets/controls",
            "_view_module_version": "1.5.0",
            "_view_name": "ProgressView",
            "bar_style": "success",
            "description": "",
            "description_tooltip": null,
            "layout": "IPY_MODEL_228d4ae07f0a48f6a017fb1c2eb0f318",
            "max": 50,
            "min": 0,
            "orientation": "horizontal",
            "style": "IPY_MODEL_2e708e2b089d4ec9b2095b5c29399d63",
            "value": 50
          }
        },
        "e7e7b404810c4a9a85f9c07fb9a3cebe": {
          "model_module": "@jupyter-widgets/controls",
          "model_module_version": "1.5.0",
          "model_name": "HTMLModel",
          "state": {
            "_dom_classes": [],
            "_model_module": "@jupyter-widgets/controls",
            "_model_module_version": "1.5.0",
            "_model_name": "HTMLModel",
            "_view_count": null,
            "_view_module": "@jupyter-widgets/controls",
            "_view_module_version": "1.5.0",
            "_view_name": "HTMLView",
            "description": "",
            "description_tooltip": null,
            "layout": "IPY_MODEL_cc2acb3c7f714cdf97ebc02af995dbbc",
            "placeholder": "​",
            "style": "IPY_MODEL_adf4f1870f6e45e0a799a6f1a49c98e9",
            "value": "100%"
          }
        },
        "f060a36e4561460581e6d6ee38c084e2": {
          "model_module": "@jupyter-widgets/base",
          "model_module_version": "1.2.0",
          "model_name": "LayoutModel",
          "state": {
            "_model_module": "@jupyter-widgets/base",
            "_model_module_version": "1.2.0",
            "_model_name": "LayoutModel",
            "_view_count": null,
            "_view_module": "@jupyter-widgets/base",
            "_view_module_version": "1.2.0",
            "_view_name": "LayoutView",
            "align_content": null,
            "align_items": null,
            "align_self": null,
            "border": null,
            "bottom": null,
            "display": null,
            "flex": null,
            "flex_flow": null,
            "grid_area": null,
            "grid_auto_columns": null,
            "grid_auto_flow": null,
            "grid_auto_rows": null,
            "grid_column": null,
            "grid_gap": null,
            "grid_row": null,
            "grid_template_areas": null,
            "grid_template_columns": null,
            "grid_template_rows": null,
            "height": null,
            "justify_content": null,
            "justify_items": null,
            "left": null,
            "margin": null,
            "max_height": null,
            "max_width": null,
            "min_height": null,
            "min_width": null,
            "object_fit": null,
            "object_position": null,
            "order": null,
            "overflow": null,
            "overflow_x": null,
            "overflow_y": null,
            "padding": null,
            "right": null,
            "top": null,
            "visibility": null,
            "width": null
          }
        },
        "f2286b4b6f87499a94d01023f0f559fd": {
          "model_module": "@jupyter-widgets/controls",
          "model_module_version": "1.5.0",
          "model_name": "HBoxModel",
          "state": {
            "_dom_classes": [],
            "_model_module": "@jupyter-widgets/controls",
            "_model_module_version": "1.5.0",
            "_model_name": "HBoxModel",
            "_view_count": null,
            "_view_module": "@jupyter-widgets/controls",
            "_view_module_version": "1.5.0",
            "_view_name": "HBoxView",
            "box_style": "",
            "children": [
              "IPY_MODEL_e7e7b404810c4a9a85f9c07fb9a3cebe",
              "IPY_MODEL_9ef4230724974dee8bc5526415d13911",
              "IPY_MODEL_2b2242026e814a7c87d02463777f9c7b"
            ],
            "layout": "IPY_MODEL_dad9388f9ea24578a60a6ddff11c892f"
          }
        },
        "f3adc05bef4f4bcb854cdcb299a03540": {
          "model_module": "@jupyter-widgets/controls",
          "model_module_version": "1.5.0",
          "model_name": "FloatProgressModel",
          "state": {
            "_dom_classes": [],
            "_model_module": "@jupyter-widgets/controls",
            "_model_module_version": "1.5.0",
            "_model_name": "FloatProgressModel",
            "_view_count": null,
            "_view_module": "@jupyter-widgets/controls",
            "_view_module_version": "1.5.0",
            "_view_name": "ProgressView",
            "bar_style": "success",
            "description": "",
            "description_tooltip": null,
            "layout": "IPY_MODEL_b6ee6a4d6862469db2662b23f95f6518",
            "max": 50,
            "min": 0,
            "orientation": "horizontal",
            "style": "IPY_MODEL_a3aae7c31a564a5fa7737ee45171f0e8",
            "value": 50
          }
        }
      }
    }
  },
  "nbformat": 4,
  "nbformat_minor": 0
}
