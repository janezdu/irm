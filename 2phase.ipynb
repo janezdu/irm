{
  "cells": [
    {
      "cell_type": "code",
      "execution_count": 3,
      "metadata": {
        "id": "9C-uZ1raO8yT"
      },
      "outputs": [],
      "source": [
        "from tqdm.notebook import tqdm\n",
        "# import tqdm.notebook as tq\n",
        "import csv\n",
        "import os\n",
        "import pandas as pd\n",
        "from skimage import io\n",
        "\n",
        "from torch.utils.data import Dataset, DataLoader\n",
        "import torchvision\n",
        "from torchvision import transforms\n",
        "from torchvision.utils import save_image\n",
        "import torch\n",
        "import torch.optim as optim\n",
        "import torch.nn as nn\n",
        "from torch.utils.data import Subset\n",
        "\n",
        "import matplotlib.pyplot as plt"
      ]
    },
    {
      "cell_type": "markdown",
      "metadata": {
        "id": "KAJd3YRlPYF3"
      },
      "source": [
        "## Choose dataset. \n",
        "- `data_path = \"irm/landbird\"` for 2 classes, both landbirds sampled from mixed environments\n",
        "- `data_path = \"irm/data\"` for 2 classes, one land bird/one water bird, mixed environments \n",
        "- `data_path = \"irm/waterbirds\"` for *all* classes, mixed environments "
      ]
    },
    {
      "cell_type": "code",
      "execution_count": 4,
      "metadata": {
        "colab": {
          "base_uri": "https://localhost:8080/"
        },
        "id": "gTeieOWZsybh",
        "outputId": "0c236a20-68f4-4981-94f6-529c853452b6"
      },
      "outputs": [
        {
          "name": "stdout",
          "output_type": "stream",
          "text": [
            "Device name: NVIDIA GeForce RTX 3060\n"
          ]
        }
      ],
      "source": [
        "# data_path = \"irm/data/\"\n",
        "data_path = \"data/\"\n",
        "\n",
        "print(\"Device name:\",torch.cuda.get_device_name(0))\n",
        "device = torch.device(\"cuda:0\" if torch.cuda.is_available() else \"cpu\")\n",
        "#  !ls -la \"/content/data/\""
      ]
    },
    {
      "cell_type": "code",
      "execution_count": 5,
      "metadata": {
        "id": "403vtaDuO8yW"
      },
      "outputs": [],
      "source": [
        "H, W = 300, 500\n",
        "transform = transforms.Compose([\n",
        "    transforms.Resize((H,W)),\n",
        "    transforms.CenterCrop(224),\n",
        "    transforms.ToTensor()\n",
        "])\n",
        "\n",
        "imgs = torchvision.datasets.ImageFolder(data_path, transform)"
      ]
    },
    {
      "cell_type": "code",
      "execution_count": 6,
      "metadata": {
        "id": "41UMcFBVO8yX"
      },
      "outputs": [
        {
          "data": {
            "text/plain": [
              "{'train': <torch.utils.data.dataset.Subset at 0x1e384ccf2e0>,\n",
              " 'train_land': <torch.utils.data.dataset.Subset at 0x1e384ccf3a0>,\n",
              " 'train_water': <torch.utils.data.dataset.Subset at 0x1e384ccf2b0>,\n",
              " 'val_land': <torch.utils.data.dataset.Subset at 0x1e384ccf250>,\n",
              " 'val_water': <torch.utils.data.dataset.Subset at 0x1e384ccf1f0>,\n",
              " 'test_land': <torch.utils.data.dataset.Subset at 0x1e384ccf130>,\n",
              " 'val': <torch.utils.data.dataset.Subset at 0x1e384ccf160>,\n",
              " 'test': <torch.utils.data.dataset.Subset at 0x1e384ccf0a0>}"
            ]
          },
          "execution_count": 6,
          "metadata": {},
          "output_type": "execute_result"
        }
      ],
      "source": [
        "# get waterbirds; returns dict birds\n",
        "# 1,001.Black_footed_Albatross/Black_Footed_Albatross_0046_18.jpg,1,2,1,/o/ocean/00002178.jpg\n",
        "# img_id,img_filename,y,split,place,place_filename\n",
        "def get_place():\n",
        "    '''\n",
        "    Gets a dictionary mapping file names to environment ID\n",
        "\n",
        "    Returns:    \n",
        "        dict with values (string) filename mapped to\n",
        "        keys (int) for environment ID*\n",
        "\n",
        "        *1 corresponds to water environment (ocean) and\n",
        "        *0 corresponds to land environment\n",
        "\n",
        "    Example entry:\n",
        "        # print(get_place())\n",
        "        # '001.Black_footed_Albatross/Black_Footed_Albatross_0046_18.jpg': 1, \n",
        "        # '001.Black_footed_Albatross/Black_Footed_Albatross_0009_34.jpg': 1,\t\n",
        "    '''\n",
        "    birds = {}\n",
        "    with open( data_path+'metadata.csv') as f:\n",
        "        reader = csv.DictReader(f)\n",
        "        for row in reader:\n",
        "            fname = row['img_filename'].split('/')[-1]\n",
        "            birds[fname] = int(row['place'])\n",
        "    return birds\n",
        "\n",
        "def split_dataset(meta_fname=data_path+\"metadata.csv\"):\n",
        "    '''\n",
        "    Appendix C.1 of DRO paper:\n",
        "    50-20-30 train-val-test split that allocates \n",
        "    more examples to the validation and test sets than the standard \n",
        "    split.\n",
        "    '''\n",
        "    train_land = []\n",
        "    train_water = []\n",
        "    val_land = []\n",
        "    val_water = []\n",
        "    test_land = []\n",
        "    test_water = []\n",
        "    train = []\n",
        "    with open(meta_fname) as f:\n",
        "        reader = csv.DictReader(f)\n",
        "        for row in reader:    \n",
        "            match int(row['split']), int(row['place']):\n",
        "                case 0,0:\n",
        "                    train_land.append(int(row['img_id']))\n",
        "                    train.append(int(row['img_id']))\n",
        "                case 0,1:\n",
        "                    train_water.append(int(row['img_id']))\n",
        "                    train.append(int(row['img_id']))\n",
        "                case 1,0:\n",
        "                    val_land.append(int(row['img_id']))\n",
        "                case 1,1:\n",
        "                    val_water.append(int(row['img_id']))\n",
        "                case 2,0:\n",
        "                    test_land.append(int(row['img_id']))\n",
        "                case 2,1:\n",
        "                    test_water.append(int(row['img_id']))\n",
        "    return train_land, train_water, val_land, val_water, test_land, test_water, train\n",
        "\n",
        "def train_val_dataset(imgs):\n",
        "    train_land, train_water, val_land, val_water, test_land, test_water,\\\n",
        "        train \\\n",
        "        = split_dataset()\n",
        "    datasets = {}\n",
        "    datasets['train'] =  Subset(imgs, train)\n",
        "    datasets['train_land'] = Subset(imgs, train_land)\n",
        "    datasets['train_water'] = Subset(imgs, train_water)\n",
        "    datasets['val_land'] = Subset(imgs, val_land)\n",
        "    datasets['val_water'] = Subset(imgs, val_water)\n",
        "    datasets['test_land'] = Subset(imgs, test_land )\n",
        "    datasets['test_land'] = Subset(imgs, test_water)\n",
        "    datasets['val'] =  Subset(imgs, val_land + val_water)\n",
        "    datasets['test'] = Subset(imgs, test_land + test_water)\n",
        "    return datasets\n",
        "\n",
        "train_val_dataset(imgs)"
      ]
    },
    {
      "cell_type": "code",
      "execution_count": 7,
      "metadata": {},
      "outputs": [],
      "source": [
        "birds = get_place()"
      ]
    },
    {
      "cell_type": "code",
      "execution_count": 52,
      "metadata": {},
      "outputs": [],
      "source": [
        "datasets = train_val_dataset(imgs)\n",
        "BATCH_SIZE = 8\n",
        "\n",
        "train_loader = DataLoader(\n",
        "    datasets['train'].dataset,\n",
        "    batch_size=BATCH_SIZE,\n",
        "    shuffle=True, \n",
        "    # careful when dealing with mixed env points\n",
        "    num_workers=0,\n",
        "    collate_fn=None,\n",
        "    pin_memory=False,\n",
        " )\n",
        "\n",
        "val_loader = DataLoader(\n",
        "    datasets['val'].dataset,\n",
        "    # batch_size=len(datasets['val'].dataset),\n",
        "    batch_size=BATCH_SIZE,\n",
        "    shuffle=True, \n",
        "    num_workers=0,\n",
        "    collate_fn=None,\n",
        "    pin_memory=False,\n",
        " )\n",
        "\n",
        "train_land_loader = DataLoader(\n",
        "    datasets['train_land'].dataset,\n",
        "    batch_size=BATCH_SIZE,\n",
        "    shuffle=True, \n",
        "    # careful when dealing with mixed env points\n",
        "    num_workers=0,\n",
        "    collate_fn=None,\n",
        "    pin_memory=False,\n",
        " )\n",
        "\n",
        "train_water_loader = DataLoader(\n",
        "    datasets['train_water'].dataset,\n",
        "    batch_size=BATCH_SIZE,\n",
        "    shuffle=True, \n",
        "    # careful when dealing with mixed env points\n",
        "    num_workers=0,\n",
        "    collate_fn=None,\n",
        "    pin_memory=False,\n",
        " )"
      ]
    },
    {
      "cell_type": "code",
      "execution_count": 53,
      "metadata": {
        "id": "L7NVWHSiO8yY"
      },
      "outputs": [],
      "source": [
        "class BasicConvNet(nn.Module):\n",
        "    '''\n",
        "    A basic neural network. Not particularly based on anything,\n",
        "    2 conv layers and last layer is FC.\n",
        "    '''\n",
        "\n",
        "    def __init__(self, num_classes, num_envs=2):\n",
        "        super(BasicConvNet, self).__init__()\n",
        "        self.conv2d1 = nn.Conv2d(3, 2, 3, 1, 1)\n",
        "        self.relu = nn.ReLU()\n",
        "        self.maxpool1 = nn.MaxPool2d(2, 2)\n",
        "        self.conv2d2 = nn.Conv2d(2, 4, 3, 1, 1)\n",
        "        self.maxpool2 = nn.MaxPool2d(2, 2)\n",
        "        self.flatten = nn.Flatten()\n",
        "\n",
        "        # For this part, we want one dense layer for the frist\n",
        "        # and one dense layer for the second environment\n",
        "        self.fc1 = nn.Linear(12544, num_classes)\n",
        "        self.fc2 = nn.Linear(12544, num_classes)\n",
        "        self._weight_init()\n",
        "\n",
        "    def _weight_init(self):\n",
        "        for layer in self.children():\n",
        "            if (layer.__class__.__name__ == 'Linear' \\\n",
        "                or layer.__class__.__name__ == 'Conv2d'):\n",
        "                nn.init.kaiming_uniform_(layer.weight.data,0.2)\n",
        "                nn.init.constant_(layer.bias.data,0)  \n",
        "\n",
        "    def forward(self, x, env):\n",
        "        '''\n",
        "        env: integer parameter. 0 for land, 1 for water\n",
        "        '''\n",
        "        x = self.conv2d1(x)\n",
        "        x = self.relu(x)\n",
        "        x = self.maxpool1(x)\n",
        "        x = self.conv2d2(x)\n",
        "        x = self.relu(x)\n",
        "        x = self.maxpool2(x)\n",
        "        x = self.relu(x)\n",
        "        x = self.flatten(x)\n",
        "\n",
        "        if env == 0:\n",
        "            x = self.fc1(x)\n",
        "        else:\n",
        "            x = self.fc2(x)\n",
        "            \n",
        "        return x"
      ]
    },
    {
      "cell_type": "markdown",
      "metadata": {
        "id": "ZXU4PtxVWidi"
      },
      "source": [
        "## Baseline\n",
        "A regular small neural network. ERM only, ignore environments."
      ]
    },
    {
      "cell_type": "code",
      "execution_count": 60,
      "metadata": {
        "colab": {
          "base_uri": "https://localhost:8080/",
          "height": 384,
          "referenced_widgets": [
            "09c19d5952f4454abf3ad00fbe84c458",
            "82bfa5fdf7e84a9cb06841320c8f1a4d",
            "df18ee5bb3544220807d3424c9a73629",
            "6bd43f7483d64f26b2c9ec71471dffbb",
            "ba45666e92294bcfbfc14059c6822e87",
            "6befdf2cb06b4dd08fb7b8d3266f931f",
            "d76b4dc0ae6848b8be765f69ec5d601b",
            "228d4ae07f0a48f6a017fb1c2eb0f318",
            "2e708e2b089d4ec9b2095b5c29399d63",
            "66bafab3feb243ada16b6c0e5d450e38",
            "09e0a4c64a874d54b0b88fade4bd4852"
          ]
        },
        "id": "Azkul8YNWi2k",
        "outputId": "8d936b34-c107-4549-ea57-56acfe3f221c"
      },
      "outputs": [],
      "source": [
        "lr = 0.01\n",
        "n_epochs = 50\n",
        "birds = get_place()\n",
        "baseline = BasicConvNet(num_classes=2)\n",
        "optimizer = optim.SGD(baseline.parameters(), lr=lr)\n",
        "optimizer.zero_grad()\n",
        "criterion = nn.CrossEntropyLoss()\n",
        "\n",
        "def train_baseline(data_loader, net):\n",
        "    losses = torch.Tensor(n_epochs,2)\n",
        "    val_losses = torch.Tensor(n_epochs,1)\n",
        "    for epoch in tqdm(range(n_epochs)):\n",
        "        for batch_idx, data in enumerate(data_loader):\n",
        "            inputs, labels = data\n",
        "\n",
        "            # inputs are currently sorted\n",
        "            sample_fname, _ = data_loader.dataset.samples[batch_idx]\n",
        "            fname = sample_fname.split('/')[-1]\n",
        "            # filename example: Black_Footed_Albatross_0009_34.jpg\n",
        "\n",
        "            optimizer.zero_grad()\n",
        "            outputs = net(inputs, 0) #just use fc1\n",
        "            loss = criterion(outputs, labels.type(torch.LongTensor)) \n",
        "            loss.backward()\n",
        "            optimizer.step()\n",
        "            losses[epoch,0] = loss.item()\n",
        "\n",
        "            # print(\"done water land\")\n",
        "            inputs, labels = next(iter(val_loader))       \n",
        "            # print(labels)\n",
        "            outputs = net(inputs, 1)\n",
        "            val_loss = criterion(outputs, labels.type(torch.LongTensor))\n",
        "            val_losses[epoch] = val_loss.item()\n",
        "\n",
        "        if epoch % 10 == 0:\n",
        "            print(f\"E: {epoch}; Loss: {loss.item()};\" )\n",
        "    return losses, val_losses\n",
        "\n",
        "def test(data_loader, model):\n",
        "    losses=[]\n",
        "    for batch_idx, data in enumerate(data_loader):\n",
        "        inputs, labels = data\n",
        "        sample_fname, _ = data_loader.dataset.samples[batch_idx]\n",
        "        fname = sample_fname.split('/')[-1]\n",
        "        outputs = model(inputs, 0) #just use fc1\n",
        "        loss = criterion(outputs, labels.type(torch.LongTensor)) \n",
        "        losses.append(loss.item())\n",
        "    \n",
        "    avg_loss = torch.mean(torch.FloatTensor(losses))\n",
        "    print(f\"Average Validation Loss: {avg_loss};\" )\n",
        "    return avg_loss"
      ]
    },
    {
      "cell_type": "code",
      "execution_count": 61,
      "metadata": {},
      "outputs": [
        {
          "data": {
            "application/vnd.jupyter.widget-view+json": {
              "model_id": "9975747b916747de9e69e82e9dcf0814",
              "version_major": 2,
              "version_minor": 0
            },
            "text/plain": [
              "  0%|          | 0/50 [00:00<?, ?it/s]"
            ]
          },
          "metadata": {},
          "output_type": "display_data"
        },
        {
          "name": "stdout",
          "output_type": "stream",
          "text": [
            "E: 0; Loss: 0.7045292854309082;\n",
            "E: 10; Loss: 0.2672421932220459;\n",
            "E: 20; Loss: 0.08402242511510849;\n",
            "E: 30; Loss: 0.038104988634586334;\n",
            "E: 40; Loss: 0.011247178539633751;\n"
          ]
        },
        {
          "data": {
            "image/png": "[encoded data removed]",
            "text/plain": [
              "<Figure size 432x288 with 1 Axes>"
            ]
          },
          "metadata": {
            "needs_background": "light"
          },
          "output_type": "display_data"
        }
      ],
      "source": [
        "train_losses, val_losses = train_baseline(train_loader, baseline)\n",
        "plt.plot(train_losses[:,0], label=\"loss\")\n",
        "plt.plot(val_losses[:,0], label=\"val\" )\n",
        "plt.legend()\n",
        "plt.show()\n"
      ]
    },
    {
      "cell_type": "markdown",
      "metadata": {
        "id": "RB2DWVeXO8ya"
      },
      "source": [
        "## Phase 1\n",
        "Train featurizers and classifiers together for all environments.\n",
        "Both featurizer and classifier should be mutable (are being trained).\n",
        "\n",
        "Featurizer should be same for samples from all environments,\n",
        "classifier should be different for samples from different environments."
      ]
    },
    {
      "cell_type": "code",
      "execution_count": 56,
      "metadata": {
        "colab": {
          "base_uri": "https://localhost:8080/",
          "height": 136,
          "referenced_widgets": [
            "f2286b4b6f87499a94d01023f0f559fd",
            "e7e7b404810c4a9a85f9c07fb9a3cebe",
            "9ef4230724974dee8bc5526415d13911",
            "2b2242026e814a7c87d02463777f9c7b",
            "dad9388f9ea24578a60a6ddff11c892f",
            "cc2acb3c7f714cdf97ebc02af995dbbc",
            "adf4f1870f6e45e0a799a6f1a49c98e9",
            "3ef337d9c8684b5c99ef6f7722a7f179",
            "5d5b920bb2ce4dd9b9cf1806c0870325",
            "1de939196bd3422cac46d14fd7518231",
            "76b4648074954d82b917aa3d3594a9ad"
          ]
        },
        "id": "cFH2eI2rO8yc",
        "outputId": "42d2685c-3332-4b82-ebc2-eba63b5089fa"
      },
      "outputs": [],
      "source": [
        "SANITY_CHECK = False\n",
        "NUM_BATCHES_CONST = 14\n",
        "\n",
        "def train_phase1(data_loader1, data_loader2, net):\n",
        "    losses = torch.Tensor(n_epochs,2)\n",
        "    val_losses = torch.Tensor(n_epochs,1)\n",
        "    for epoch in tqdm(range(n_epochs)):\n",
        "        for (batch_idx, d1), (_, d2) in zip (enumerate(data_loader1), enumerate(data_loader2)):\n",
        "            # print (batch_idx)\n",
        "\n",
        "            inputs1, labels1 = d1\n",
        "            inputs2, labels2 = d2\n",
        "            \n",
        "            optimizer.zero_grad()\n",
        "            outputs = net(inputs1, 0)\n",
        "            land_loss = criterion(outputs, labels1.type(torch.LongTensor)) \n",
        "            land_loss.backward()\n",
        "            optimizer.step()\n",
        "            losses[epoch,0] = land_loss.item()\n",
        "                \n",
        "            # Train water-env birds\n",
        "            optimizer.zero_grad()\n",
        "            outputs = net(inputs2, 1)\n",
        "            water_loss = criterion(outputs, labels2.type(torch.LongTensor)) \n",
        "            water_loss.backward()\n",
        "            optimizer.step()\n",
        "            losses[epoch,1] = water_loss.item()\n",
        "\n",
        "\n",
        "            # print(\"done water land\")\n",
        "            inputs, labels = next(iter(val_loader))       \n",
        "            # print(labels)\n",
        "            outputs = net(inputs, 1)\n",
        "            val_loss = criterion(outputs, labels.type(torch.LongTensor))\n",
        "            val_losses[epoch] = val_loss.item()\n",
        "\n",
        "        if epoch % 10 == 9:\n",
        "            if SANITY_CHECK:\n",
        "                print(f\"E: {epoch}; Land (tr) Loss: {land_loss.item()};\" )\n",
        "            else:\n",
        "                print(\"test\")\n",
        "                print(f\"E: {epoch}; Land (tr) Loss: {land_loss.item()}; \\\n",
        "                Water (tr) Loss: {water_loss.item()}, \\\n",
        "                Validation Loss: {val_loss.item()}\")\n",
        "    return losses, val_losses"
      ]
    },
    {
      "cell_type": "code",
      "execution_count": 63,
      "metadata": {
        "colab": {
          "base_uri": "https://localhost:8080/",
          "height": 265
        },
        "id": "oh5wp3S13O6m",
        "outputId": "e07ed13a-34da-4505-8c41-b70ced2033ab"
      },
      "outputs": [
        {
          "data": {
            "application/vnd.jupyter.widget-view+json": {
              "model_id": "3a51a5c449294ef4826bbae9356adeb6",
              "version_major": 2,
              "version_minor": 0
            },
            "text/plain": [
              "  0%|          | 0/50 [00:00<?, ?it/s]"
            ]
          },
          "metadata": {},
          "output_type": "display_data"
        },
        {
          "name": "stdout",
          "output_type": "stream",
          "text": [
            "test\n",
            "E: 9; Land (tr) Loss: 0.31796732544898987;                 Water (tr) Loss: 0.2649059295654297,                 Validation Loss: 0.2127639204263687\n",
            "test\n",
            "E: 19; Land (tr) Loss: 0.01982029527425766;                 Water (tr) Loss: 0.026260992512106895,                 Validation Loss: 0.02522379904985428\n",
            "test\n",
            "E: 29; Land (tr) Loss: 0.005973178893327713;                 Water (tr) Loss: 0.004007223527878523,                 Validation Loss: 0.004284487571567297\n",
            "test\n",
            "E: 39; Land (tr) Loss: 0.0033086722251027822;                 Water (tr) Loss: 0.00373065029270947,                 Validation Loss: 0.00289153098128736\n",
            "test\n",
            "E: 49; Land (tr) Loss: 0.0025054411962628365;                 Water (tr) Loss: 0.0018878947012126446,                 Validation Loss: 0.0055177463218569756\n"
          ]
        }
      ],
      "source": [
        "# Training phase 1\n",
        "lr = 0.01\n",
        "n_epochs = 50\n",
        "birds = get_place()\n",
        "net = BasicConvNet(num_classes=2)\n",
        "\n",
        "optimizer = optim.SGD(net.parameters(), lr=lr)\n",
        "optimizer.zero_grad()\n",
        "criterion = nn.CrossEntropyLoss()\n",
        "\n",
        "train_losses, val_losses = train_phase1(train_land_loader, train_water_loader, net)"
      ]
    },
    {
      "cell_type": "code",
      "execution_count": 64,
      "metadata": {},
      "outputs": [
        {
          "data": {
            "image/png": "[encoded data removed]",
            "text/plain": [
              "<Figure size 432x288 with 1 Axes>"
            ]
          },
          "metadata": {
            "needs_background": "light"
          },
          "output_type": "display_data"
        }
      ],
      "source": [
        "plt.plot(train_losses[:,0], label=\"land losses\")\n",
        "plt.plot(train_losses[:,1], label=\"water losses\")\n",
        "plt.plot(val_losses[:,0], label=\"val losses\")\n",
        "plt.legend()\n",
        "plt.show()"
      ]
    },
    {
      "cell_type": "code",
      "execution_count": 65,
      "metadata": {
        "colab": {
          "base_uri": "https://localhost:8080/"
        },
        "id": "qmPJsrltSBT9",
        "outputId": "0a141fde-b95a-4045-9bb5-317ae36f5708"
      },
      "outputs": [
        {
          "name": "stdout",
          "output_type": "stream",
          "text": [
            "Model's state_dict:\n",
            "conv2d1.weight \t torch.Size([2, 3, 3, 3])\n",
            "conv2d1.bias \t torch.Size([2])\n",
            "conv2d2.weight \t torch.Size([4, 2, 3, 3])\n",
            "conv2d2.bias \t torch.Size([4])\n",
            "fc1.weight \t torch.Size([2, 12544])\n",
            "fc1.bias \t torch.Size([2])\n",
            "fc2.weight \t torch.Size([2, 12544])\n",
            "fc2.bias \t torch.Size([2])\n"
          ]
        }
      ],
      "source": [
        "# Print model's state_dict\n",
        "print(\"Model's state_dict:\")\n",
        "for param_tensor in net.state_dict():\n",
        "    print(param_tensor, \"\\t\", net.state_dict()[param_tensor].size())\n",
        "torch.save(net.state_dict(), \"phase1\")"
      ]
    },
    {
      "cell_type": "markdown",
      "metadata": {
        "id": "sH8uYMt1O8ye"
      },
      "source": [
        "## Phase 2\n",
        "\n",
        "Train classifiers for environments only, freezing featurizers"
      ]
    },
    {
      "cell_type": "code",
      "execution_count": 66,
      "metadata": {
        "colab": {
          "base_uri": "https://localhost:8080/"
        },
        "id": "B-2oNWylSwa_",
        "outputId": "d5d6737d-4fab-4d5e-8294-c63c2fceb783"
      },
      "outputs": [],
      "source": [
        "def freeze_featurizer(net):\n",
        "    for layer in net.children():\n",
        "        # unless it's the last linear layer, freeze everything.\n",
        "        for p in layer.parameters():\n",
        "            p.requires_grad = False\n",
        "        if layer.__class__.__name__ == 'Linear':\n",
        "            # if it's one of the first environment weights, let it train\n",
        "            for i,p in enumerate(layer.parameters()):\n",
        "                if i < 2: p.requires_grad=True\n",
        "\n",
        "    for layer in net.children():\n",
        "        print(layer.__class__.__name__)\n",
        "        for p in layer.parameters(): \n",
        "            # TODO: fix this! It just does weight, bias as the two parameters.\n",
        "            print(\"is frozen: \", str(not p.requires_grad))"
      ]
    },
    {
      "cell_type": "code",
      "execution_count": 70,
      "metadata": {
        "colab": {
          "base_uri": "https://localhost:8080/",
          "height": 136,
          "referenced_widgets": [
            "8ebeb8a4e2164e7c922d02d52d1a2e27",
            "2e99193cf7b7457d83fc949e114be9bc",
            "f3adc05bef4f4bcb854cdcb299a03540",
            "a0c0918f042b46de99346cc2444129a8",
            "f060a36e4561460581e6d6ee38c084e2",
            "770394e06af5497ead0faed5772e0248",
            "8e4c733836044176988332437f2b77d3",
            "b6ee6a4d6862469db2662b23f95f6518",
            "a3aae7c31a564a5fa7737ee45171f0e8",
            "2bbd07fcbee54223be0e91719dad6645",
            "574b5b73d2c742bf88812b44bac387c7"
          ]
        },
        "id": "zOprbv1gO8yf",
        "outputId": "0fd188c6-031c-4ebf-a33d-c0fe5615836f"
      },
      "outputs": [],
      "source": [
        "def train_phase2(data_loader,net):\n",
        "    l_optim_frozen = optim.SGD(\n",
        "        filter(lambda p: p.requires_grad, net.parameters()), lr=lr)\n",
        "    losses = torch.Tensor(n_epochs)\n",
        "    val_losses = torch.Tensor(n_epochs)\n",
        "\n",
        "    for epoch in tqdm(range(n_epochs)):\n",
        "        for batch_idx, data in enumerate(data_loader):\n",
        "            inputs, labels = data\n",
        "            l_optim_frozen.zero_grad()\n",
        "\n",
        "            sample_fname, _ = data_loader.dataset.samples[batch_idx]\n",
        "            fname = sample_fname.split('/')[-1]\n",
        "\n",
        "            # Train land-env birds\n",
        "            outputs = net(inputs, 0) \n",
        "        \n",
        "            # we're only working with the first weights now \n",
        "            loss = criterion(outputs, labels.type(torch.LongTensor)) \n",
        "            loss.backward()\n",
        "            l_optim_frozen.step()\n",
        "            losses[epoch] = loss.item()\n",
        "\n",
        "            # validation loss tracking\n",
        "            inputs, labels = next(iter(val_loader))       \n",
        "            outputs = net(inputs, 1)\n",
        "            val_loss = criterion(outputs, labels.type(torch.LongTensor))\n",
        "            val_losses[epoch] = val_loss.item()\n",
        "\n",
        "        if epoch % 10 == 9:    \n",
        "            print(f\"E: {epoch}; Loss: {loss.item()}\")\n",
        "    return losses, val_losses"
      ]
    },
    {
      "cell_type": "code",
      "execution_count": 71,
      "metadata": {},
      "outputs": [
        {
          "name": "stdout",
          "output_type": "stream",
          "text": [
            "Conv2d\n",
            "is frozen:  True\n",
            "is frozen:  True\n",
            "ReLU\n",
            "MaxPool2d\n",
            "Conv2d\n",
            "is frozen:  True\n",
            "is frozen:  True\n",
            "MaxPool2d\n",
            "Flatten\n",
            "Linear\n",
            "is frozen:  False\n",
            "is frozen:  False\n",
            "Linear\n",
            "is frozen:  False\n",
            "is frozen:  False\n"
          ]
        },
        {
          "data": {
            "application/vnd.jupyter.widget-view+json": {
              "model_id": "db7978a015914c268fae98fc1ca6b806",
              "version_major": 2,
              "version_minor": 0
            },
            "text/plain": [
              "  0%|          | 0/50 [00:00<?, ?it/s]"
            ]
          },
          "metadata": {},
          "output_type": "display_data"
        },
        {
          "name": "stdout",
          "output_type": "stream",
          "text": [
            "E: 9; Loss: 0.000651464331895113\n",
            "E: 19; Loss: 0.0007801372557878494\n",
            "E: 29; Loss: 0.0016325394390150905\n",
            "E: 39; Loss: 0.0007679599220864475\n",
            "E: 49; Loss: 0.0009168483666144311\n"
          ]
        }
      ],
      "source": [
        "freeze_featurizer(net)\n",
        "train_losses, val_losses = train_phase2(train_loader, net)"
      ]
    },
    {
      "cell_type": "code",
      "execution_count": 72,
      "metadata": {
        "colab": {
          "base_uri": "https://localhost:8080/",
          "height": 439
        },
        "id": "-Pfu3hetO8yg",
        "outputId": "0a5621a3-cca5-4d62-d442-a1638b15f03b"
      },
      "outputs": [
        {
          "data": {
            "image/png": "[encoded data removed]",
            "text/plain": [
              "<Figure size 432x288 with 1 Axes>"
            ]
          },
          "metadata": {
            "needs_background": "light"
          },
          "output_type": "display_data"
        }
      ],
      "source": [
        "plt.plot(train_losses, label=\"training losses\")\n",
        "plt.plot(val_losses, label=\"val losses\")\n",
        "plt.legend()\n",
        "plt.show()"
      ]
    },
    {
      "cell_type": "code",
      "execution_count": null,
      "metadata": {},
      "outputs": [],
      "source": []
    }
  ],
  "metadata": {
    "accelerator": "GPU",
    "colab": {
      "collapsed_sections": [],
      "name": "2phase.ipynb",
      "provenance": []
    },
    "interpreter": {
      "hash": "a208a06fa4e2651cc077ea8d8f2b0f5b3b3c162cdb2e7af3609a8fa32e180259"
    },
    "kernelspec": {
      "display_name": "Python 3.10.4 64-bit",
      "language": "python",
      "name": "python3"
    },
    "language_info": {
      "codemirror_mode": {
        "name": "ipython",
        "version": 3
      },
      "file_extension": ".py",
      "mimetype": "text/x-python",
      "name": "python",
      "nbconvert_exporter": "python",
      "pygments_lexer": "ipython3",
      "version": "3.10.4"
    },
    "orig_nbformat": 4,
    "widgets": {
      "application/vnd.jupyter.widget-state+json": {
        "09c19d5952f4454abf3ad00fbe84c458": {
          "model_module": "@jupyter-widgets/controls",
          "model_module_version": "1.5.0",
          "model_name": "HBoxModel",
          "state": {
            "_dom_classes": [],
            "_model_module": "@jupyter-widgets/controls",
            "_model_module_version": "1.5.0",
            "_model_name": "HBoxModel",
            "_view_count": null,
            "_view_module": "@jupyter-widgets/controls",
            "_view_module_version": "1.5.0",
            "_view_name": "HBoxView",
            "box_style": "",
            "children": [
              "IPY_MODEL_82bfa5fdf7e84a9cb06841320c8f1a4d",
              "IPY_MODEL_df18ee5bb3544220807d3424c9a73629",
              "IPY_MODEL_6bd43f7483d64f26b2c9ec71471dffbb"
            ],
            "layout": "IPY_MODEL_ba45666e92294bcfbfc14059c6822e87"
          }
        },
        "09e0a4c64a874d54b0b88fade4bd4852": {
          "model_module": "@jupyter-widgets/controls",
          "model_module_version": "1.5.0",
          "model_name": "DescriptionStyleModel",
          "state": {
            "_model_module": "@jupyter-widgets/controls",
            "_model_module_version": "1.5.0",
            "_model_name": "DescriptionStyleModel",
            "_view_count": null,
            "_view_module": "@jupyter-widgets/base",
            "_view_module_version": "1.2.0",
            "_view_name": "StyleView",
            "description_width": ""
          }
        },
        "1de939196bd3422cac46d14fd7518231": {
          "model_module": "@jupyter-widgets/base",
          "model_module_version": "1.2.0",
          "model_name": "LayoutModel",
          "state": {
            "_model_module": "@jupyter-widgets/base",
            "_model_module_version": "1.2.0",
            "_model_name": "LayoutModel",
            "_view_count": null,
            "_view_module": "@jupyter-widgets/base",
            "_view_module_version": "1.2.0",
            "_view_name": "LayoutView",
            "align_content": null,
            "align_items": null,
            "align_self": null,
            "border": null,
            "bottom": null,
            "display": null,
            "flex": null,
            "flex_flow": null,
            "grid_area": null,
            "grid_auto_columns": null,
            "grid_auto_flow": null,
            "grid_auto_rows": null,
            "grid_column": null,
            "grid_gap": null,
            "grid_row": null,
            "grid_template_areas": null,
            "grid_template_columns": null,
            "grid_template_rows": null,
            "height": null,
            "justify_content": null,
            "justify_items": null,
            "left": null,
            "margin": null,
            "max_height": null,
            "max_width": null,
            "min_height": null,
            "min_width": null,
            "object_fit": null,
            "object_position": null,
            "order": null,
            "overflow": null,
            "overflow_x": null,
            "overflow_y": null,
            "padding": null,
            "right": null,
            "top": null,
            "visibility": null,
            "width": null
          }
        },
        "228d4ae07f0a48f6a017fb1c2eb0f318": {
          "model_module": "@jupyter-widgets/base",
          "model_module_version": "1.2.0",
          "model_name": "LayoutModel",
          "state": {
            "_model_module": "@jupyter-widgets/base",
            "_model_module_version": "1.2.0",
            "_model_name": "LayoutModel",
            "_view_count": null,
            "_view_module": "@jupyter-widgets/base",
            "_view_module_version": "1.2.0",
            "_view_name": "LayoutView",
            "align_content": null,
            "align_items": null,
            "align_self": null,
            "border": null,
            "bottom": null,
            "display": null,
            "flex": null,
            "flex_flow": null,
            "grid_area": null,
            "grid_auto_columns": null,
            "grid_auto_flow": null,
            "grid_auto_rows": null,
            "grid_column": null,
            "grid_gap": null,
            "grid_row": null,
            "grid_template_areas": null,
            "grid_template_columns": null,
            "grid_template_rows": null,
            "height": null,
            "justify_content": null,
            "justify_items": null,
            "left": null,
            "margin": null,
            "max_height": null,
            "max_width": null,
            "min_height": null,
            "min_width": null,
            "object_fit": null,
            "object_position": null,
            "order": null,
            "overflow": null,
            "overflow_x": null,
            "overflow_y": null,
            "padding": null,
            "right": null,
            "top": null,
            "visibility": null,
            "width": null
          }
        },
        "2b2242026e814a7c87d02463777f9c7b": {
          "model_module": "@jupyter-widgets/controls",
          "model_module_version": "1.5.0",
          "model_name": "HTMLModel",
          "state": {
            "_dom_classes": [],
            "_model_module": "@jupyter-widgets/controls",
            "_model_module_version": "1.5.0",
            "_model_name": "HTMLModel",
            "_view_count": null,
            "_view_module": "@jupyter-widgets/controls",
            "_view_module_version": "1.5.0",
            "_view_name": "HTMLView",
            "description": "",
            "description_tooltip": null,
            "layout": "IPY_MODEL_1de939196bd3422cac46d14fd7518231",
            "placeholder": "​",
            "style": "IPY_MODEL_76b4648074954d82b917aa3d3594a9ad",
            "value": " 50/50 [01:02&lt;00:00,  1.19s/it]"
          }
        },
        "2bbd07fcbee54223be0e91719dad6645": {
          "model_module": "@jupyter-widgets/base",
          "model_module_version": "1.2.0",
          "model_name": "LayoutModel",
          "state": {
            "_model_module": "@jupyter-widgets/base",
            "_model_module_version": "1.2.0",
            "_model_name": "LayoutModel",
            "_view_count": null,
            "_view_module": "@jupyter-widgets/base",
            "_view_module_version": "1.2.0",
            "_view_name": "LayoutView",
            "align_content": null,
            "align_items": null,
            "align_self": null,
            "border": null,
            "bottom": null,
            "display": null,
            "flex": null,
            "flex_flow": null,
            "grid_area": null,
            "grid_auto_columns": null,
            "grid_auto_flow": null,
            "grid_auto_rows": null,
            "grid_column": null,
            "grid_gap": null,
            "grid_row": null,
            "grid_template_areas": null,
            "grid_template_columns": null,
            "grid_template_rows": null,
            "height": null,
            "justify_content": null,
            "justify_items": null,
            "left": null,
            "margin": null,
            "max_height": null,
            "max_width": null,
            "min_height": null,
            "min_width": null,
            "object_fit": null,
            "object_position": null,
            "order": null,
            "overflow": null,
            "overflow_x": null,
            "overflow_y": null,
            "padding": null,
            "right": null,
            "top": null,
            "visibility": null,
            "width": null
          }
        },
        "2e708e2b089d4ec9b2095b5c29399d63": {
          "model_module": "@jupyter-widgets/controls",
          "model_module_version": "1.5.0",
          "model_name": "ProgressStyleModel",
          "state": {
            "_model_module": "@jupyter-widgets/controls",
            "_model_module_version": "1.5.0",
            "_model_name": "ProgressStyleModel",
            "_view_count": null,
            "_view_module": "@jupyter-widgets/base",
            "_view_module_version": "1.2.0",
            "_view_name": "StyleView",
            "bar_color": null,
            "description_width": ""
          }
        },
        "2e99193cf7b7457d83fc949e114be9bc": {
          "model_module": "@jupyter-widgets/controls",
          "model_module_version": "1.5.0",
          "model_name": "HTMLModel",
          "state": {
            "_dom_classes": [],
            "_model_module": "@jupyter-widgets/controls",
            "_model_module_version": "1.5.0",
            "_model_name": "HTMLModel",
            "_view_count": null,
            "_view_module": "@jupyter-widgets/controls",
            "_view_module_version": "1.5.0",
            "_view_name": "HTMLView",
            "description": "",
            "description_tooltip": null,
            "layout": "IPY_MODEL_770394e06af5497ead0faed5772e0248",
            "placeholder": "​",
            "style": "IPY_MODEL_8e4c733836044176988332437f2b77d3",
            "value": "100%"
          }
        },
        "3ef337d9c8684b5c99ef6f7722a7f179": {
          "model_module": "@jupyter-widgets/base",
          "model_module_version": "1.2.0",
          "model_name": "LayoutModel",
          "state": {
            "_model_module": "@jupyter-widgets/base",
            "_model_module_version": "1.2.0",
            "_model_name": "LayoutModel",
            "_view_count": null,
            "_view_module": "@jupyter-widgets/base",
            "_view_module_version": "1.2.0",
            "_view_name": "LayoutView",
            "align_content": null,
            "align_items": null,
            "align_self": null,
            "border": null,
            "bottom": null,
            "display": null,
            "flex": null,
            "flex_flow": null,
            "grid_area": null,
            "grid_auto_columns": null,
            "grid_auto_flow": null,
            "grid_auto_rows": null,
            "grid_column": null,
            "grid_gap": null,
            "grid_row": null,
            "grid_template_areas": null,
            "grid_template_columns": null,
            "grid_template_rows": null,
            "height": null,
            "justify_content": null,
            "justify_items": null,
            "left": null,
            "margin": null,
            "max_height": null,
            "max_width": null,
            "min_height": null,
            "min_width": null,
            "object_fit": null,
            "object_position": null,
            "order": null,
            "overflow": null,
            "overflow_x": null,
            "overflow_y": null,
            "padding": null,
            "right": null,
            "top": null,
            "visibility": null,
            "width": null
          }
        },
        "574b5b73d2c742bf88812b44bac387c7": {
          "model_module": "@jupyter-widgets/controls",
          "model_module_version": "1.5.0",
          "model_name": "DescriptionStyleModel",
          "state": {
            "_model_module": "@jupyter-widgets/controls",
            "_model_module_version": "1.5.0",
            "_model_name": "DescriptionStyleModel",
            "_view_count": null,
            "_view_module": "@jupyter-widgets/base",
            "_view_module_version": "1.2.0",
            "_view_name": "StyleView",
            "description_width": ""
          }
        },
        "5d5b920bb2ce4dd9b9cf1806c0870325": {
          "model_module": "@jupyter-widgets/controls",
          "model_module_version": "1.5.0",
          "model_name": "ProgressStyleModel",
          "state": {
            "_model_module": "@jupyter-widgets/controls",
            "_model_module_version": "1.5.0",
            "_model_name": "ProgressStyleModel",
            "_view_count": null,
            "_view_module": "@jupyter-widgets/base",
            "_view_module_version": "1.2.0",
            "_view_name": "StyleView",
            "bar_color": null,
            "description_width": ""
          }
        },
        "66bafab3feb243ada16b6c0e5d450e38": {
          "model_module": "@jupyter-widgets/base",
          "model_module_version": "1.2.0",
          "model_name": "LayoutModel",
          "state": {
            "_model_module": "@jupyter-widgets/base",
            "_model_module_version": "1.2.0",
            "_model_name": "LayoutModel",
            "_view_count": null,
            "_view_module": "@jupyter-widgets/base",
            "_view_module_version": "1.2.0",
            "_view_name": "LayoutView",
            "align_content": null,
            "align_items": null,
            "align_self": null,
            "border": null,
            "bottom": null,
            "display": null,
            "flex": null,
            "flex_flow": null,
            "grid_area": null,
            "grid_auto_columns": null,
            "grid_auto_flow": null,
            "grid_auto_rows": null,
            "grid_column": null,
            "grid_gap": null,
            "grid_row": null,
            "grid_template_areas": null,
            "grid_template_columns": null,
            "grid_template_rows": null,
            "height": null,
            "justify_content": null,
            "justify_items": null,
            "left": null,
            "margin": null,
            "max_height": null,
            "max_width": null,
            "min_height": null,
            "min_width": null,
            "object_fit": null,
            "object_position": null,
            "order": null,
            "overflow": null,
            "overflow_x": null,
            "overflow_y": null,
            "padding": null,
            "right": null,
            "top": null,
            "visibility": null,
            "width": null
          }
        },
        "6bd43f7483d64f26b2c9ec71471dffbb": {
          "model_module": "@jupyter-widgets/controls",
          "model_module_version": "1.5.0",
          "model_name": "HTMLModel",
          "state": {
            "_dom_classes": [],
            "_model_module": "@jupyter-widgets/controls",
            "_model_module_version": "1.5.0",
            "_model_name": "HTMLModel",
            "_view_count": null,
            "_view_module": "@jupyter-widgets/controls",
            "_view_module_version": "1.5.0",
            "_view_name": "HTMLView",
            "description": "",
            "description_tooltip": null,
            "layout": "IPY_MODEL_66bafab3feb243ada16b6c0e5d450e38",
            "placeholder": "​",
            "style": "IPY_MODEL_09e0a4c64a874d54b0b88fade4bd4852",
            "value": " 50/50 [01:01&lt;00:00,  1.24s/it]"
          }
        },
        "6befdf2cb06b4dd08fb7b8d3266f931f": {
          "model_module": "@jupyter-widgets/base",
          "model_module_version": "1.2.0",
          "model_name": "LayoutModel",
          "state": {
            "_model_module": "@jupyter-widgets/base",
            "_model_module_version": "1.2.0",
            "_model_name": "LayoutModel",
            "_view_count": null,
            "_view_module": "@jupyter-widgets/base",
            "_view_module_version": "1.2.0",
            "_view_name": "LayoutView",
            "align_content": null,
            "align_items": null,
            "align_self": null,
            "border": null,
            "bottom": null,
            "display": null,
            "flex": null,
            "flex_flow": null,
            "grid_area": null,
            "grid_auto_columns": null,
            "grid_auto_flow": null,
            "grid_auto_rows": null,
            "grid_column": null,
            "grid_gap": null,
            "grid_row": null,
            "grid_template_areas": null,
            "grid_template_columns": null,
            "grid_template_rows": null,
            "height": null,
            "justify_content": null,
            "justify_items": null,
            "left": null,
            "margin": null,
            "max_height": null,
            "max_width": null,
            "min_height": null,
            "min_width": null,
            "object_fit": null,
            "object_position": null,
            "order": null,
            "overflow": null,
            "overflow_x": null,
            "overflow_y": null,
            "padding": null,
            "right": null,
            "top": null,
            "visibility": null,
            "width": null
          }
        },
        "76b4648074954d82b917aa3d3594a9ad": {
          "model_module": "@jupyter-widgets/controls",
          "model_module_version": "1.5.0",
          "model_name": "DescriptionStyleModel",
          "state": {
            "_model_module": "@jupyter-widgets/controls",
            "_model_module_version": "1.5.0",
            "_model_name": "DescriptionStyleModel",
            "_view_count": null,
            "_view_module": "@jupyter-widgets/base",
            "_view_module_version": "1.2.0",
            "_view_name": "StyleView",
            "description_width": ""
          }
        },
        "770394e06af5497ead0faed5772e0248": {
          "model_module": "@jupyter-widgets/base",
          "model_module_version": "1.2.0",
          "model_name": "LayoutModel",
          "state": {
            "_model_module": "@jupyter-widgets/base",
            "_model_module_version": "1.2.0",
            "_model_name": "LayoutModel",
            "_view_count": null,
            "_view_module": "@jupyter-widgets/base",
            "_view_module_version": "1.2.0",
            "_view_name": "LayoutView",
            "align_content": null,
            "align_items": null,
            "align_self": null,
            "border": null,
            "bottom": null,
            "display": null,
            "flex": null,
            "flex_flow": null,
            "grid_area": null,
            "grid_auto_columns": null,
            "grid_auto_flow": null,
            "grid_auto_rows": null,
            "grid_column": null,
            "grid_gap": null,
            "grid_row": null,
            "grid_template_areas": null,
            "grid_template_columns": null,
            "grid_template_rows": null,
            "height": null,
            "justify_content": null,
            "justify_items": null,
            "left": null,
            "margin": null,
            "max_height": null,
            "max_width": null,
            "min_height": null,
            "min_width": null,
            "object_fit": null,
            "object_position": null,
            "order": null,
            "overflow": null,
            "overflow_x": null,
            "overflow_y": null,
            "padding": null,
            "right": null,
            "top": null,
            "visibility": null,
            "width": null
          }
        },
        "82bfa5fdf7e84a9cb06841320c8f1a4d": {
          "model_module": "@jupyter-widgets/controls",
          "model_module_version": "1.5.0",
          "model_name": "HTMLModel",
          "state": {
            "_dom_classes": [],
            "_model_module": "@jupyter-widgets/controls",
            "_model_module_version": "1.5.0",
            "_model_name": "HTMLModel",
            "_view_count": null,
            "_view_module": "@jupyter-widgets/controls",
            "_view_module_version": "1.5.0",
            "_view_name": "HTMLView",
            "description": "",
            "description_tooltip": null,
            "layout": "IPY_MODEL_6befdf2cb06b4dd08fb7b8d3266f931f",
            "placeholder": "​",
            "style": "IPY_MODEL_d76b4dc0ae6848b8be765f69ec5d601b",
            "value": "100%"
          }
        },
        "8e4c733836044176988332437f2b77d3": {
          "model_module": "@jupyter-widgets/controls",
          "model_module_version": "1.5.0",
          "model_name": "DescriptionStyleModel",
          "state": {
            "_model_module": "@jupyter-widgets/controls",
            "_model_module_version": "1.5.0",
            "_model_name": "DescriptionStyleModel",
            "_view_count": null,
            "_view_module": "@jupyter-widgets/base",
            "_view_module_version": "1.2.0",
            "_view_name": "StyleView",
            "description_width": ""
          }
        },
        "8ebeb8a4e2164e7c922d02d52d1a2e27": {
          "model_module": "@jupyter-widgets/controls",
          "model_module_version": "1.5.0",
          "model_name": "HBoxModel",
          "state": {
            "_dom_classes": [],
            "_model_module": "@jupyter-widgets/controls",
            "_model_module_version": "1.5.0",
            "_model_name": "HBoxModel",
            "_view_count": null,
            "_view_module": "@jupyter-widgets/controls",
            "_view_module_version": "1.5.0",
            "_view_name": "HBoxView",
            "box_style": "",
            "children": [
              "IPY_MODEL_2e99193cf7b7457d83fc949e114be9bc",
              "IPY_MODEL_f3adc05bef4f4bcb854cdcb299a03540",
              "IPY_MODEL_a0c0918f042b46de99346cc2444129a8"
            ],
            "layout": "IPY_MODEL_f060a36e4561460581e6d6ee38c084e2"
          }
        },
        "9ef4230724974dee8bc5526415d13911": {
          "model_module": "@jupyter-widgets/controls",
          "model_module_version": "1.5.0",
          "model_name": "FloatProgressModel",
          "state": {
            "_dom_classes": [],
            "_model_module": "@jupyter-widgets/controls",
            "_model_module_version": "1.5.0",
            "_model_name": "FloatProgressModel",
            "_view_count": null,
            "_view_module": "@jupyter-widgets/controls",
            "_view_module_version": "1.5.0",
            "_view_name": "ProgressView",
            "bar_style": "success",
            "description": "",
            "description_tooltip": null,
            "layout": "IPY_MODEL_3ef337d9c8684b5c99ef6f7722a7f179",
            "max": 50,
            "min": 0,
            "orientation": "horizontal",
            "style": "IPY_MODEL_5d5b920bb2ce4dd9b9cf1806c0870325",
            "value": 50
          }
        },
        "a0c0918f042b46de99346cc2444129a8": {
          "model_module": "@jupyter-widgets/controls",
          "model_module_version": "1.5.0",
          "model_name": "HTMLModel",
          "state": {
            "_dom_classes": [],
            "_model_module": "@jupyter-widgets/controls",
            "_model_module_version": "1.5.0",
            "_model_name": "HTMLModel",
            "_view_count": null,
            "_view_module": "@jupyter-widgets/controls",
            "_view_module_version": "1.5.0",
            "_view_name": "HTMLView",
            "description": "",
            "description_tooltip": null,
            "layout": "IPY_MODEL_2bbd07fcbee54223be0e91719dad6645",
            "placeholder": "​",
            "style": "IPY_MODEL_574b5b73d2c742bf88812b44bac387c7",
            "value": " 50/50 [00:47&lt;00:00,  1.06it/s]"
          }
        },
        "a3aae7c31a564a5fa7737ee45171f0e8": {
          "model_module": "@jupyter-widgets/controls",
          "model_module_version": "1.5.0",
          "model_name": "ProgressStyleModel",
          "state": {
            "_model_module": "@jupyter-widgets/controls",
            "_model_module_version": "1.5.0",
            "_model_name": "ProgressStyleModel",
            "_view_count": null,
            "_view_module": "@jupyter-widgets/base",
            "_view_module_version": "1.2.0",
            "_view_name": "StyleView",
            "bar_color": null,
            "description_width": ""
          }
        },
        "adf4f1870f6e45e0a799a6f1a49c98e9": {
          "model_module": "@jupyter-widgets/controls",
          "model_module_version": "1.5.0",
          "model_name": "DescriptionStyleModel",
          "state": {
            "_model_module": "@jupyter-widgets/controls",
            "_model_module_version": "1.5.0",
            "_model_name": "DescriptionStyleModel",
            "_view_count": null,
            "_view_module": "@jupyter-widgets/base",
            "_view_module_version": "1.2.0",
            "_view_name": "StyleView",
            "description_width": ""
          }
        },
        "b6ee6a4d6862469db2662b23f95f6518": {
          "model_module": "@jupyter-widgets/base",
          "model_module_version": "1.2.0",
          "model_name": "LayoutModel",
          "state": {
            "_model_module": "@jupyter-widgets/base",
            "_model_module_version": "1.2.0",
            "_model_name": "LayoutModel",
            "_view_count": null,
            "_view_module": "@jupyter-widgets/base",
            "_view_module_version": "1.2.0",
            "_view_name": "LayoutView",
            "align_content": null,
            "align_items": null,
            "align_self": null,
            "border": null,
            "bottom": null,
            "display": null,
            "flex": null,
            "flex_flow": null,
            "grid_area": null,
            "grid_auto_columns": null,
            "grid_auto_flow": null,
            "grid_auto_rows": null,
            "grid_column": null,
            "grid_gap": null,
            "grid_row": null,
            "grid_template_areas": null,
            "grid_template_columns": null,
            "grid_template_rows": null,
            "height": null,
            "justify_content": null,
            "justify_items": null,
            "left": null,
            "margin": null,
            "max_height": null,
            "max_width": null,
            "min_height": null,
            "min_width": null,
            "object_fit": null,
            "object_position": null,
            "order": null,
            "overflow": null,
            "overflow_x": null,
            "overflow_y": null,
            "padding": null,
            "right": null,
            "top": null,
            "visibility": null,
            "width": null
          }
        },
        "ba45666e92294bcfbfc14059c6822e87": {
          "model_module": "@jupyter-widgets/base",
          "model_module_version": "1.2.0",
          "model_name": "LayoutModel",
          "state": {
            "_model_module": "@jupyter-widgets/base",
            "_model_module_version": "1.2.0",
            "_model_name": "LayoutModel",
            "_view_count": null,
            "_view_module": "@jupyter-widgets/base",
            "_view_module_version": "1.2.0",
            "_view_name": "LayoutView",
            "align_content": null,
            "align_items": null,
            "align_self": null,
            "border": null,
            "bottom": null,
            "display": null,
            "flex": null,
            "flex_flow": null,
            "grid_area": null,
            "grid_auto_columns": null,
            "grid_auto_flow": null,
            "grid_auto_rows": null,
            "grid_column": null,
            "grid_gap": null,
            "grid_row": null,
            "grid_template_areas": null,
            "grid_template_columns": null,
            "grid_template_rows": null,
            "height": null,
            "justify_content": null,
            "justify_items": null,
            "left": null,
            "margin": null,
            "max_height": null,
            "max_width": null,
            "min_height": null,
            "min_width": null,
            "object_fit": null,
            "object_position": null,
            "order": null,
            "overflow": null,
            "overflow_x": null,
            "overflow_y": null,
            "padding": null,
            "right": null,
            "top": null,
            "visibility": null,
            "width": null
          }
        },
        "cc2acb3c7f714cdf97ebc02af995dbbc": {
          "model_module": "@jupyter-widgets/base",
          "model_module_version": "1.2.0",
          "model_name": "LayoutModel",
          "state": {
            "_model_module": "@jupyter-widgets/base",
            "_model_module_version": "1.2.0",
            "_model_name": "LayoutModel",
            "_view_count": null,
            "_view_module": "@jupyter-widgets/base",
            "_view_module_version": "1.2.0",
            "_view_name": "LayoutView",
            "align_content": null,
            "align_items": null,
            "align_self": null,
            "border": null,
            "bottom": null,
            "display": null,
            "flex": null,
            "flex_flow": null,
            "grid_area": null,
            "grid_auto_columns": null,
            "grid_auto_flow": null,
            "grid_auto_rows": null,
            "grid_column": null,
            "grid_gap": null,
            "grid_row": null,
            "grid_template_areas": null,
            "grid_template_columns": null,
            "grid_template_rows": null,
            "height": null,
            "justify_content": null,
            "justify_items": null,
            "left": null,
            "margin": null,
            "max_height": null,
            "max_width": null,
            "min_height": null,
            "min_width": null,
            "object_fit": null,
            "object_position": null,
            "order": null,
            "overflow": null,
            "overflow_x": null,
            "overflow_y": null,
            "padding": null,
            "right": null,
            "top": null,
            "visibility": null,
            "width": null
          }
        },
        "d76b4dc0ae6848b8be765f69ec5d601b": {
          "model_module": "@jupyter-widgets/controls",
          "model_module_version": "1.5.0",
          "model_name": "DescriptionStyleModel",
          "state": {
            "_model_module": "@jupyter-widgets/controls",
            "_model_module_version": "1.5.0",
            "_model_name": "DescriptionStyleModel",
            "_view_count": null,
            "_view_module": "@jupyter-widgets/base",
            "_view_module_version": "1.2.0",
            "_view_name": "StyleView",
            "description_width": ""
          }
        },
        "dad9388f9ea24578a60a6ddff11c892f": {
          "model_module": "@jupyter-widgets/base",
          "model_module_version": "1.2.0",
          "model_name": "LayoutModel",
          "state": {
            "_model_module": "@jupyter-widgets/base",
            "_model_module_version": "1.2.0",
            "_model_name": "LayoutModel",
            "_view_count": null,
            "_view_module": "@jupyter-widgets/base",
            "_view_module_version": "1.2.0",
            "_view_name": "LayoutView",
            "align_content": null,
            "align_items": null,
            "align_self": null,
            "border": null,
            "bottom": null,
            "display": null,
            "flex": null,
            "flex_flow": null,
            "grid_area": null,
            "grid_auto_columns": null,
            "grid_auto_flow": null,
            "grid_auto_rows": null,
            "grid_column": null,
            "grid_gap": null,
            "grid_row": null,
            "grid_template_areas": null,
            "grid_template_columns": null,
            "grid_template_rows": null,
            "height": null,
            "justify_content": null,
            "justify_items": null,
            "left": null,
            "margin": null,
            "max_height": null,
            "max_width": null,
            "min_height": null,
            "min_width": null,
            "object_fit": null,
            "object_position": null,
            "order": null,
            "overflow": null,
            "overflow_x": null,
            "overflow_y": null,
            "padding": null,
            "right": null,
            "top": null,
            "visibility": null,
            "width": null
          }
        },
        "df18ee5bb3544220807d3424c9a73629": {
          "model_module": "@jupyter-widgets/controls",
          "model_module_version": "1.5.0",
          "model_name": "FloatProgressModel",
          "state": {
            "_dom_classes": [],
            "_model_module": "@jupyter-widgets/controls",
            "_model_module_version": "1.5.0",
            "_model_name": "FloatProgressModel",
            "_view_count": null,
            "_view_module": "@jupyter-widgets/controls",
            "_view_module_version": "1.5.0",
            "_view_name": "ProgressView",
            "bar_style": "success",
            "description": "",
            "description_tooltip": null,
            "layout": "IPY_MODEL_228d4ae07f0a48f6a017fb1c2eb0f318",
            "max": 50,
            "min": 0,
            "orientation": "horizontal",
            "style": "IPY_MODEL_2e708e2b089d4ec9b2095b5c29399d63",
            "value": 50
          }
        },
        "e7e7b404810c4a9a85f9c07fb9a3cebe": {
          "model_module": "@jupyter-widgets/controls",
          "model_module_version": "1.5.0",
          "model_name": "HTMLModel",
          "state": {
            "_dom_classes": [],
            "_model_module": "@jupyter-widgets/controls",
            "_model_module_version": "1.5.0",
            "_model_name": "HTMLModel",
            "_view_count": null,
            "_view_module": "@jupyter-widgets/controls",
            "_view_module_version": "1.5.0",
            "_view_name": "HTMLView",
            "description": "",
            "description_tooltip": null,
            "layout": "IPY_MODEL_cc2acb3c7f714cdf97ebc02af995dbbc",
            "placeholder": "​",
            "style": "IPY_MODEL_adf4f1870f6e45e0a799a6f1a49c98e9",
            "value": "100%"
          }
        },
        "f060a36e4561460581e6d6ee38c084e2": {
          "model_module": "@jupyter-widgets/base",
          "model_module_version": "1.2.0",
          "model_name": "LayoutModel",
          "state": {
            "_model_module": "@jupyter-widgets/base",
            "_model_module_version": "1.2.0",
            "_model_name": "LayoutModel",
            "_view_count": null,
            "_view_module": "@jupyter-widgets/base",
            "_view_module_version": "1.2.0",
            "_view_name": "LayoutView",
            "align_content": null,
            "align_items": null,
            "align_self": null,
            "border": null,
            "bottom": null,
            "display": null,
            "flex": null,
            "flex_flow": null,
            "grid_area": null,
            "grid_auto_columns": null,
            "grid_auto_flow": null,
            "grid_auto_rows": null,
            "grid_column": null,
            "grid_gap": null,
            "grid_row": null,
            "grid_template_areas": null,
            "grid_template_columns": null,
            "grid_template_rows": null,
            "height": null,
            "justify_content": null,
            "justify_items": null,
            "left": null,
            "margin": null,
            "max_height": null,
            "max_width": null,
            "min_height": null,
            "min_width": null,
            "object_fit": null,
            "object_position": null,
            "order": null,
            "overflow": null,
            "overflow_x": null,
            "overflow_y": null,
            "padding": null,
            "right": null,
            "top": null,
            "visibility": null,
            "width": null
          }
        },
        "f2286b4b6f87499a94d01023f0f559fd": {
          "model_module": "@jupyter-widgets/controls",
          "model_module_version": "1.5.0",
          "model_name": "HBoxModel",
          "state": {
            "_dom_classes": [],
            "_model_module": "@jupyter-widgets/controls",
            "_model_module_version": "1.5.0",
            "_model_name": "HBoxModel",
            "_view_count": null,
            "_view_module": "@jupyter-widgets/controls",
            "_view_module_version": "1.5.0",
            "_view_name": "HBoxView",
            "box_style": "",
            "children": [
              "IPY_MODEL_e7e7b404810c4a9a85f9c07fb9a3cebe",
              "IPY_MODEL_9ef4230724974dee8bc5526415d13911",
              "IPY_MODEL_2b2242026e814a7c87d02463777f9c7b"
            ],
            "layout": "IPY_MODEL_dad9388f9ea24578a60a6ddff11c892f"
          }
        },
        "f3adc05bef4f4bcb854cdcb299a03540": {
          "model_module": "@jupyter-widgets/controls",
          "model_module_version": "1.5.0",
          "model_name": "FloatProgressModel",
          "state": {
            "_dom_classes": [],
            "_model_module": "@jupyter-widgets/controls",
            "_model_module_version": "1.5.0",
            "_model_name": "FloatProgressModel",
            "_view_count": null,
            "_view_module": "@jupyter-widgets/controls",
            "_view_module_version": "1.5.0",
            "_view_name": "ProgressView",
            "bar_style": "success",
            "description": "",
            "description_tooltip": null,
            "layout": "IPY_MODEL_b6ee6a4d6862469db2662b23f95f6518",
            "max": 50,
            "min": 0,
            "orientation": "horizontal",
            "style": "IPY_MODEL_a3aae7c31a564a5fa7737ee45171f0e8",
            "value": 50
          }
        }
      }
    }
  },
  "nbformat": 4,
  "nbformat_minor": 0
}
