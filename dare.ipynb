{
 "cells": [
  {
   "cell_type": "code",
   "execution_count": 2,
   "metadata": {},
   "outputs": [],
   "source": [
    "import torch \n",
    "import torch.nn as nn\n",
    "import torch.nn.functional as F\n",
    "import numpy as np\n",
    "import csv\n",
    "import os\n",
    "from os import listdir\n"
   ]
  },
  {
   "cell_type": "markdown",
   "metadata": {},
   "source": [
    "# notes\n",
    "- aim for a shared phi\n",
    "- different classifiers for each environment, w_e depends on e\n",
    "2 phases, sort of:\n",
    "1. minimize the sum across all environments, the expected loss with env-specific weight vectors\n",
    "2. fix the phi from step 1. learn a w which is shared among the environments\n",
    "\n",
    "Why do we want that?\n",
    "- from the DARE paper (Rosenfeld '22): sharing phi for environments is okay. \n",
    "    - even if you \"cheat\" when you create the featurizer by looking at test env, it doesn't improve the perf. that much\n",
    "- the bottleneck is actually in learning a _robust w_ .\n",
    "\n",
    "1. `learn_featurizer` = small neural network, calculate loss carefully\n",
    "2. `learn_classifier` = calculate average loss\n",
    "\n",
    "## datasets\n",
    "- Waterbirds, from Sagawa '22\n",
    "    - https://github.com/kohpangwei/group_DRO\n",
    "    - DARE, ISR used\n",
    "\n",
    "\n",
    "How does it work\n",
    "- put in a NN with whatever layers, and a last one\n",
    "- first train neural network\n",
    "- loss is sum with different w's on different environments\n",
    "\n"
   ]
  },
  {
   "cell_type": "code",
   "execution_count": 3,
   "metadata": {},
   "outputs": [],
   "source": [
    "# celebA\n",
    "# H, W = 218, 178\n",
    "\n",
    "#waterbirds:\n",
    "H, W = 300, 500"
   ]
  },
  {
   "cell_type": "code",
   "execution_count": 7,
   "metadata": {},
   "outputs": [],
   "source": [
    "# get the path/directory\n",
    "albatross_dir = \"./waterbirds/001.Black_footed_Albatross\"\n",
    "blackbird_dir = \"./waterbirds/009.Brewer_Blackbird\"\n",
    "abirds = []\n",
    "bbirds = []\n",
    "for img in os.listdir(albatross_dir):\n",
    "\tif (img.endswith(\".jpg\")):\n",
    "\t\tabirds.append(img)\n",
    "for img in os.listdir(blackbird_dir):\n",
    "\tif (img.endswith(\".jpg\")):\n",
    "\t\tbbirds.append(img)\n",
    "\n",
    "# get waterbirds; returns dict birds\n",
    "def get_place():\n",
    "\t'''\n",
    "\treturns:    birds, dict with keys \n",
    "\t\t\t\t\t'0' for land\n",
    "\t\t\t\t\t'1' for water\n",
    "\t\t\t\tmaps to an iterable of filenames\n",
    "\t'''\n",
    "\t# birds = {'0':[], '1':[]}\n",
    "\tplace = {}\n",
    "\twith open('./waterbirds/metadata.csv') as f:\n",
    "\t\treader = csv.DictReader(f)\n",
    "\t\tfor row in reader:\n",
    "\t\t\tplace[row['img_filename']] = place[row['place']]\n",
    "\t\t\t# birds[row['place']].append(row['img_filename'])\n",
    "\treturn place\n",
    "\n",
    "\n",
    "def get_two_birds():\n",
    "\tbirds = {'0':[], '1':[] } # 0 is land, 1 is water (for background)\n",
    "\t\n",
    "    "
   ]
  },
  {
   "cell_type": "code",
   "execution_count": null,
   "metadata": {},
   "outputs": [],
   "source": [
    "class WaterBirdsDataset(Dataset):\n",
    "    def __init__(self, data_f, dev, transform=None):\n",
    "        self.transform = transform\n",
    "        self._load_data(data_f, dev)\n",
    "\n",
    "    def _load_data(self, data_f, dev):\n",
    "        data1 = get_two_birds()\n",
    "        for idx, k in enumerate(data1):\n",
    "            tmp = torch.Tensor(k)\n",
    "            tmp = tmp.view(1, H, W)\n",
    "            if self.transform:\n",
    "                tmp = self.transform(tmp)\n",
    "            self.d[idx, :, :, :] = tmp\n",
    "\n",
    "        self.d = self.d.to(dev)\n",
    "\n",
    "    def __len__(self):\n",
    "        return self.d.size()[0]\n",
    "\n",
    "    def __getitem__(self, idx):\n",
    "        return self.d[idx, :, :]"
   ]
  },
  {
   "cell_type": "code",
   "execution_count": null,
   "metadata": {},
   "outputs": [],
   "source": [
    "batch_size = 4\n",
    "\n",
    "# first download\n",
    "# download(BASE_URL + f_name, f_name)\n",
    "\n",
    "transforms = torch.nn.Sequential(\n",
    "    transforms.CenterCrop(10),\n",
    "    transforms.Normalize((0.485, 0.456, 0.406), (0.229, 0.224, 0.225)),\n",
    ")\n",
    "\n",
    "print(\"Processing dataset ...\")\n",
    "train_data = WaterBirdsDataset(\n",
    "    transform=transforms.Compose([\n",
    "        transforms.CenterCrop(H,W)\n",
    "        transforms.Normalize((0.0,), (255.0,))\n",
    "        ]),\n",
    ")\n",
    "print(f\"... done. Total {len(train_data)} data entries.\")\n",
    "\n",
    "train_loader = DataLoader(\n",
    "    train_data,\n",
    "    batch_size=batch_size,\n",
    "    shuffle=True,\n",
    "    num_workers=0,\n",
    "    drop_last=True,\n",
    ")"
   ]
  },
  {
   "cell_type": "code",
   "execution_count": 11,
   "metadata": {},
   "outputs": [],
   "source": [
    "class BasicNet(nn.Module):\n",
    "    def __init__(self):\n",
    "        super(BasicNet, self).__init__()\n",
    "        self.conv1 = nn.Conv2d(1, 6, 5)\n",
    "        self.conv2 = nn.Conv2d(6, 16, 5)\n",
    "\n",
    "    def forward(self, x):\n",
    "        '''\n",
    "            Computes the network's forward pass on the input tensor.\n",
    "            Does not apply a softmax or other activation functions.\n",
    "\n",
    "            Arguments:\n",
    "                self: This object.\n",
    "                x: The tensor to compute the forward pass on.\n",
    "        '''\n",
    "        x = self.fc1(x)\n",
    "        return x"
   ]
  },
  {
   "cell_type": "code",
   "execution_count": 22,
   "metadata": {},
   "outputs": [
    {
     "ename": "TypeError",
     "evalue": "get_waterbirds() takes 0 positional arguments but 1 was given",
     "output_type": "error",
     "traceback": [
      "\u001b[0;31m---------------------------------------------------------------------------\u001b[0m",
      "\u001b[0;31mTypeError\u001b[0m                                 Traceback (most recent call last)",
      "\u001b[0;32m/tmp/ipykernel_4324/3454012242.py\u001b[0m in \u001b[0;36m<module>\u001b[0;34m\u001b[0m\n\u001b[1;32m     33\u001b[0m \u001b[0;34m\u001b[0m\u001b[0m\n\u001b[1;32m     34\u001b[0m \u001b[0;32mfor\u001b[0m \u001b[0me\u001b[0m \u001b[0;32min\u001b[0m \u001b[0menvs\u001b[0m\u001b[0;34m:\u001b[0m\u001b[0;34m\u001b[0m\u001b[0;34m\u001b[0m\u001b[0m\n\u001b[0;32m---> 35\u001b[0;31m     \u001b[0mX\u001b[0m\u001b[0;34m,\u001b[0m\u001b[0my\u001b[0m \u001b[0;34m=\u001b[0m \u001b[0mget_waterbirds\u001b[0m\u001b[0;34m(\u001b[0m\u001b[0me\u001b[0m\u001b[0;34m)\u001b[0m\u001b[0;34m\u001b[0m\u001b[0;34m\u001b[0m\u001b[0m\n\u001b[0m\u001b[1;32m     36\u001b[0m     \u001b[0mprint\u001b[0m\u001b[0;34m(\u001b[0m\u001b[0mX\u001b[0m\u001b[0;34m.\u001b[0m\u001b[0mshape\u001b[0m\u001b[0;34m)\u001b[0m\u001b[0;34m\u001b[0m\u001b[0;34m\u001b[0m\u001b[0m\n\u001b[1;32m     37\u001b[0m     \u001b[0mlosses\u001b[0m \u001b[0;34m=\u001b[0m \u001b[0mfit\u001b[0m\u001b[0;34m(\u001b[0m\u001b[0mnet\u001b[0m\u001b[0;34m,\u001b[0m \u001b[0mX\u001b[0m\u001b[0;34m,\u001b[0m \u001b[0my\u001b[0m\u001b[0;34m)\u001b[0m\u001b[0;34m\u001b[0m\u001b[0;34m\u001b[0m\u001b[0m\n",
      "\u001b[0;31mTypeError\u001b[0m: get_waterbirds() takes 0 positional arguments but 1 was given"
     ]
    }
   ],
   "source": [
    "# phase 1 training loop\n",
    "\n",
    "def fit(net, X, y, n_epochs=201):\n",
    "    '''\n",
    "    Trains the neural network with CrossEntropyLoss and an Adam optimizer on\n",
    "    the training set X with training labels Y for n_epochs epochs.\n",
    "\n",
    "    Arguments:\n",
    "        net: The neural network to train\n",
    "        X: n x d tensor\n",
    "        y: n x 1 tensor\n",
    "        n_epochs: The number of epochs to train with batch gradient descent.\n",
    "\n",
    "    Returns:\n",
    "        List of losses at every epoch, including before training\n",
    "        (for use in plot_cafe_loss).\n",
    "    '''\n",
    "    # stepsize = 0.1\n",
    "    loss_fn = torch.nn.CrossEntropyLoss()\n",
    "    optimizer = torch.optim.Adam(net.parameters())\n",
    "    losses = []\n",
    "\n",
    "    for i in range(n_epochs):\n",
    "        optimizer.zero_grad() \n",
    "        loss = loss_fn(net(X),y)\n",
    "        loss.backward()\n",
    "        optimizer.step()\n",
    "        losses.append(loss.item())\n",
    "    \n",
    "    return losses\n",
    "    \n",
    "net = BasicNet()\n",
    "birds = get_waterbirds()\n",
    "\n",
    "for e in envs:  \n",
    "    print(X.shape)\n",
    "    losses = fit(net, X, y)\n",
    "    print(losses[0], \"first\")\n",
    "    print(losses[-1], \"last\")"
   ]
  },
  {
   "cell_type": "code",
   "execution_count": null,
   "metadata": {},
   "outputs": [],
   "source": [
    "# phase 2 training loop"
   ]
  }
 ],
 "metadata": {
  "interpreter": {
   "hash": "cccc82ffc9a049ec64036eaf2b5ea3724e12af2330368d7385e76b1e93e5a5db"
  },
  "kernelspec": {
   "display_name": "Python 3.9.2 64-bit",
   "language": "python",
   "name": "python3"
  },
  "language_info": {
   "codemirror_mode": {
    "name": "ipython",
    "version": 3
   },
   "file_extension": ".py",
   "mimetype": "text/x-python",
   "name": "python",
   "nbconvert_exporter": "python",
   "pygments_lexer": "ipython3",
   "version": "3.8.10"
  },
  "orig_nbformat": 4
 },
 "nbformat": 4,
 "nbformat_minor": 2
}
