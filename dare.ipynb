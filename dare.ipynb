{
 "cells": [
  {
   "cell_type": "code",
   "execution_count": 2,
   "metadata": {},
   "outputs": [],
   "source": [
    "import torch \n",
    "import numpy as np"
   ]
  },
  {
   "cell_type": "markdown",
   "metadata": {},
   "source": [
    "- aim for a shared phi\n",
    "- different classifiers for each environment, w_e depends on e\n",
    "2 phases, sort of:\n",
    "1. minimize the sum across all environments, the expected loss with env-specific weight vectors\n",
    "2. fix the phi from step 1. learn a w which is shared among the environments\n",
    "\n",
    "Why do we want that?\n",
    "- from the DARE paper (Rosenfeld '22): sharing phi for environments is okay. \n",
    "    - even if you \"cheat\" when you create the featurizer by looking at test env, it doesn't improve the perf. that much\n",
    "- the bottleneck is actually in learning a _robust w_ .\n",
    "\n",
    "1. `learn_featurizer` = small neural network, calculate loss carefully\n",
    "2. `learn_classifier` = calculate average loss\n"
   ]
  },
  {
   "cell_type": "code",
   "execution_count": 4,
   "metadata": {},
   "outputs": [],
   "source": [
    "# celebA\n",
    "H, W = 218, 178"
   ]
  },
  {
   "cell_type": "code",
   "execution_count": 3,
   "metadata": {},
   "outputs": [
    {
     "ename": "NameError",
     "evalue": "name 'nn' is not defined",
     "output_type": "error",
     "traceback": [
      "\u001b[1;31m---------------------------------------------------------------------------\u001b[0m",
      "\u001b[1;31mNameError\u001b[0m                                 Traceback (most recent call last)",
      "\u001b[1;32m<ipython-input-3-8dd41e097c85>\u001b[0m in \u001b[0;36m<module>\u001b[1;34m\u001b[0m\n\u001b[1;32m----> 1\u001b[1;33m \u001b[1;32mclass\u001b[0m \u001b[0mBasicNet\u001b[0m\u001b[1;33m(\u001b[0m\u001b[0mnn\u001b[0m\u001b[1;33m.\u001b[0m\u001b[0mModule\u001b[0m\u001b[1;33m)\u001b[0m\u001b[1;33m:\u001b[0m\u001b[1;33m\u001b[0m\u001b[1;33m\u001b[0m\u001b[0m\n\u001b[0m\u001b[0;32m      2\u001b[0m     \u001b[1;32mdef\u001b[0m \u001b[0m__init__\u001b[0m\u001b[1;33m(\u001b[0m\u001b[0mself\u001b[0m\u001b[1;33m)\u001b[0m\u001b[1;33m:\u001b[0m\u001b[1;33m\u001b[0m\u001b[1;33m\u001b[0m\u001b[0m\n\u001b[0;32m      3\u001b[0m         '''\n\u001b[0;32m      4\u001b[0m             \u001b[0mInitialize\u001b[0m \u001b[0mthe\u001b[0m \u001b[0mCAFENet\u001b[0m \u001b[0mby\u001b[0m \u001b[0mcalling\u001b[0m \u001b[0mthe\u001b[0m \u001b[0msuperclass\u001b[0m\u001b[0;31m'\u001b[0m \u001b[0mconstructor\u001b[0m\u001b[1;33m\u001b[0m\u001b[1;33m\u001b[0m\u001b[0m\n\u001b[0;32m      5\u001b[0m             \u001b[1;32mand\u001b[0m \u001b[0minitializing\u001b[0m \u001b[0ma\u001b[0m \u001b[0mlinear\u001b[0m \u001b[0mlayer\u001b[0m \u001b[0mto\u001b[0m \u001b[0muse\u001b[0m \u001b[1;32min\u001b[0m \u001b[0mforward\u001b[0m\u001b[1;33m(\u001b[0m\u001b[1;33m)\u001b[0m\u001b[1;33m.\u001b[0m\u001b[1;33m\u001b[0m\u001b[1;33m\u001b[0m\u001b[0m\n",
      "\u001b[1;31mNameError\u001b[0m: name 'nn' is not defined"
     ]
    }
   ],
   "source": [
    "class BasicNet(nn.Module):\n",
    "    def __init__(self):\n",
    "        '''\n",
    "            Initialize the CAFENet by calling the superclass' constructor\n",
    "            and initializing a linear layer to use in forward().\n",
    "\n",
    "            Arguments:\n",
    "                self: This object.\n",
    "        '''\n",
    "        super(BasicNet, self).__init__()\n",
    "        self.conv1 = nn.Conv2d(1, 6, 5)\n",
    "        self.conv2 = nn.Conv2d(6, 16, 5)\n",
    "        # dim1, dim2 = hw2_utils.IMAGE_DIMS\n",
    "        # self.fc = torch.nn.Linear(dim1 * dim2, 6, bias=True)\n",
    "        # check no bias \n",
    "        \n",
    "\n",
    "    def forward(self, x):\n",
    "        '''\n",
    "            Computes the network's forward pass on the input tensor.\n",
    "            Does not apply a softmax or other activation functions.\n",
    "\n",
    "            Arguments:\n",
    "                self: This object.\n",
    "                x: The tensor to compute the forward pass on.\n",
    "        '''\n",
    "        x = self.fc1(x)\n",
    "        return x\n"
   ]
  },
  {
   "cell_type": "code",
   "execution_count": null,
   "metadata": {},
   "outputs": [],
   "source": []
  }
 ],
 "metadata": {
  "interpreter": {
   "hash": "cccc82ffc9a049ec64036eaf2b5ea3724e12af2330368d7385e76b1e93e5a5db"
  },
  "kernelspec": {
   "display_name": "Python 3.9.2 64-bit",
   "language": "python",
   "name": "python3"
  },
  "language_info": {
   "codemirror_mode": {
    "name": "ipython",
    "version": 3
   },
   "file_extension": ".py",
   "mimetype": "text/x-python",
   "name": "python",
   "nbconvert_exporter": "python",
   "pygments_lexer": "ipython3",
   "version": "3.9.2"
  },
  "orig_nbformat": 4
 },
 "nbformat": 4,
 "nbformat_minor": 2
}
